{
 "cells": [
  {
   "cell_type": "markdown",
   "metadata": {},
   "source": [
    "- 文本框Entry，用于输入的控件。Entry(父对象,options,...)\n",
    " - background(bg):背景色彩\n",
    " - borderwidth(bd):边界宽度，默认2像素\n",
    " - command:当用户更改内容时，会自动执行此函数\n",
    " - cursor:当鼠标光标在复选框上时的光标形状\n",
    " - exportselection:如果执行选取时，所选取的字符串会自动输出至剪贴板，如果要避免，可以设置exportselection=0\n",
    " - foreground(fg):前景色彩\n",
    " - font:字形\n",
    " - height:高，单位是字符高\n",
    " - highlightbackground:当文本框取得焦点时的背景颜色\n",
    " - highlightcolor:当文本框取得焦点时的颜色\n",
    " - justify:当含多行文字时，最后一行的对齐方式\n",
    " - relief:默认是relief=FLAT,可由此控制文字外框\n",
    " - selectbackground:被选取字符串的背景色彩\n",
    " - selectborderwidth:被选取字符串时的边界宽度，预设是1\n",
    " - selectforeground:被选取字符串时的前景色彩\n",
    " - show:显示输入字符，例如，show=\"*\"表示显示星号，常用于输入密码字段\n",
    " - state:输入状态，默认NORMAL表示可以输入，DISABLE表示无法输入\n",
    " - textvariable:文字变量\n",
    " - width:宽，单位是字符宽\n",
    " - xscrollcommand:在x轴使用滚动条"
   ]
  },
  {
   "cell_type": "code",
   "execution_count": 1,
   "metadata": {},
   "outputs": [],
   "source": [
    "#***********************************在窗口内建立标签和文本框，输入姓名与地址********************************************\n",
    "from tkinter import *\n",
    "root=Tk()\n",
    "root.title(\"ch5_1\")\n",
    "nameL=Label(root,text=\"Name \")\n",
    "nameL.grid(row=0)\n",
    "addressL=Label(root,text=\"Address\")\n",
    "addressL.grid(row=1)\n",
    "nameE=Entry(root)\n",
    "addressE=Entry(root)\n",
    "nameE.grid(row=0,column=1)\n",
    "addressE.grid(row=1,column=1)\n",
    "root.mainloop()"
   ]
  },
  {
   "cell_type": "markdown",
   "metadata": {},
   "source": [
    "- show参数，设置隐藏输入字符的特性，常用于密码的输入控制"
   ]
  },
  {
   "cell_type": "code",
   "execution_count": 2,
   "metadata": {},
   "outputs": [],
   "source": [
    "root=Tk()\n",
    "root.title(\"ch5_2\")\n",
    "accountL=Label(root,text=\"Account\")\n",
    "accountL.grid(row=0)\n",
    "pwdL=Label(root,text=\"Password\")\n",
    "pwdL.grid(row=1)\n",
    "accountE=Entry(root)\n",
    "pwdE=Entry(root,show=\"*\")\n",
    "accountE.grid(row=0,column=1)\n",
    "pwdE.grid(row=1,column=1)\n",
    "root.mainloop()"
   ]
  },
  {
   "cell_type": "code",
   "execution_count": 14,
   "metadata": {},
   "outputs": [
    {
     "ename": "TclError",
     "evalue": "invalid command name \".!label\"",
     "output_type": "error",
     "traceback": [
      "\u001b[0;31m---------------------------------------------------------------------------\u001b[0m",
      "\u001b[0;31mTclError\u001b[0m                                  Traceback (most recent call last)",
      "\u001b[0;32m<ipython-input-14-517cd877200d>\u001b[0m in \u001b[0;36m<module>\u001b[0;34m\u001b[0m\n\u001b[1;32m     15\u001b[0m \u001b[0mpwdE\u001b[0m\u001b[0;34m.\u001b[0m\u001b[0mgrid\u001b[0m\u001b[0;34m(\u001b[0m\u001b[0mrow\u001b[0m\u001b[0;34m=\u001b[0m\u001b[0;36m2\u001b[0m\u001b[0;34m,\u001b[0m\u001b[0mcolumn\u001b[0m\u001b[0;34m=\u001b[0m\u001b[0;36m1\u001b[0m\u001b[0;34m,\u001b[0m\u001b[0mpady\u001b[0m\u001b[0;34m=\u001b[0m\u001b[0;36m10\u001b[0m\u001b[0;34m)\u001b[0m\u001b[0;34m\u001b[0m\u001b[0;34m\u001b[0m\u001b[0m\n\u001b[1;32m     16\u001b[0m \u001b[0mroot\u001b[0m\u001b[0;34m.\u001b[0m\u001b[0mmainloop\u001b[0m\u001b[0;34m(\u001b[0m\u001b[0;34m)\u001b[0m\u001b[0;34m\u001b[0m\u001b[0;34m\u001b[0m\u001b[0m\n\u001b[0;32m---> 17\u001b[0;31m \u001b[0mprint\u001b[0m\u001b[0;34m(\u001b[0m\u001b[0mlogo\u001b[0m\u001b[0;34m.\u001b[0m\u001b[0mcget\u001b[0m\u001b[0;34m(\u001b[0m\u001b[0;34m\"text\"\u001b[0m\u001b[0;34m)\u001b[0m\u001b[0;34m)\u001b[0m\u001b[0;34m\u001b[0m\u001b[0;34m\u001b[0m\u001b[0m\n\u001b[0m",
      "\u001b[0;32m~/anaconda3/lib/python3.7/tkinter/__init__.py\u001b[0m in \u001b[0;36mcget\u001b[0;34m(self, key)\u001b[0m\n\u001b[1;32m   1487\u001b[0m     \u001b[0;32mdef\u001b[0m \u001b[0mcget\u001b[0m\u001b[0;34m(\u001b[0m\u001b[0mself\u001b[0m\u001b[0;34m,\u001b[0m \u001b[0mkey\u001b[0m\u001b[0;34m)\u001b[0m\u001b[0;34m:\u001b[0m\u001b[0;34m\u001b[0m\u001b[0;34m\u001b[0m\u001b[0m\n\u001b[1;32m   1488\u001b[0m         \u001b[0;34m\"\"\"Return the resource value for a KEY given as string.\"\"\"\u001b[0m\u001b[0;34m\u001b[0m\u001b[0;34m\u001b[0m\u001b[0m\n\u001b[0;32m-> 1489\u001b[0;31m         \u001b[0;32mreturn\u001b[0m \u001b[0mself\u001b[0m\u001b[0;34m.\u001b[0m\u001b[0mtk\u001b[0m\u001b[0;34m.\u001b[0m\u001b[0mcall\u001b[0m\u001b[0;34m(\u001b[0m\u001b[0mself\u001b[0m\u001b[0;34m.\u001b[0m\u001b[0m_w\u001b[0m\u001b[0;34m,\u001b[0m \u001b[0;34m'cget'\u001b[0m\u001b[0;34m,\u001b[0m \u001b[0;34m'-'\u001b[0m \u001b[0;34m+\u001b[0m \u001b[0mkey\u001b[0m\u001b[0;34m)\u001b[0m\u001b[0;34m\u001b[0m\u001b[0;34m\u001b[0m\u001b[0m\n\u001b[0m\u001b[1;32m   1490\u001b[0m     \u001b[0m__getitem__\u001b[0m \u001b[0;34m=\u001b[0m \u001b[0mcget\u001b[0m\u001b[0;34m\u001b[0m\u001b[0;34m\u001b[0m\u001b[0m\n\u001b[1;32m   1491\u001b[0m     \u001b[0;32mdef\u001b[0m \u001b[0m__setitem__\u001b[0m\u001b[0;34m(\u001b[0m\u001b[0mself\u001b[0m\u001b[0;34m,\u001b[0m \u001b[0mkey\u001b[0m\u001b[0;34m,\u001b[0m \u001b[0mvalue\u001b[0m\u001b[0;34m)\u001b[0m\u001b[0;34m:\u001b[0m\u001b[0;34m\u001b[0m\u001b[0;34m\u001b[0m\u001b[0m\n",
      "\u001b[0;31mTclError\u001b[0m: invalid command name \".!label\""
     ]
    }
   ],
   "source": [
    "#***********************************建立一个公司网页登录页面***********************************\n",
    "root=Tk()\n",
    "root.title(\"ch5_3\")\n",
    "msg=\"欢迎进入Silicon Stone Education系统\"\n",
    "test=PhotoImage(file=\"test.gif\")\n",
    "logo=Label(root,image=test,text=msg,compound=BOTTOM)\n",
    "accountL=Label(root,text=\"Account\")\n",
    "accountL.grid(row=1)\n",
    "pwdL=Label(root,text=\"Password\")\n",
    "pwdL.grid(row=2)\n",
    "logo.grid(row=0,column=0,columnspan=2,pady=10,padx=10)\n",
    "accountE=Entry(root)\n",
    "pwdE=Entry(root,show=\"*\")\n",
    "accountE.grid(row=1,column=1)\n",
    "pwdE.grid(row=2,column=1,pady=10)\n",
    "root.mainloop()"
   ]
  },
  {
   "cell_type": "markdown",
   "metadata": {},
   "source": [
    "- get()方法，用此方法可以获得目前Entry中的字符串内容。\n",
    "- 控件有一个常用方法quit，执行此方法时python shell窗口的程序将结束，但此窗口应用程序继续运行。"
   ]
  },
  {
   "cell_type": "code",
   "execution_count": 7,
   "metadata": {},
   "outputs": [],
   "source": [
    "from tkinter import *\n",
    "def printInfo():             #打印输入信息\n",
    "    print(\"Account:%s\\nPassword:%s\" % (accountE.get(),pwdE.get()))\n",
    "    \n",
    "root=Tk()\n",
    "root.title(\"ch5_4\")\n",
    "\n",
    "msg=\"欢迎进入Silicon Stone Education系统\"\n",
    "test=PhotoImage(file=\"test.gif\")\n",
    "logo=Label(root,text=msg,image=test,compound=BOTTOM)\n",
    "accountL=Label(root,text=\"Account\")\n",
    "accountL.grid(sticky=W,row=1)\n",
    "pwdL=Label(root,text=\"Password\")\n",
    "pwdL.grid(sticky=W,row=2)\n",
    "logo.grid(row=0,column=0,columnspan=2,pady=10,padx=10)\n",
    "accountE=Entry(root)\n",
    "pwdE=Entry(root,show=\"*\")\n",
    "accountE.grid(sticky=W,row=1,column=1)\n",
    "pwdE.grid(sticky=W,row=2,column=1)\n",
    "#以下建立login和quit按钮\n",
    "loginbtn=Button(root,text=\"Login\",command=printInfo)\n",
    "loginbtn.grid(row=3,column=0,sticky=W,pady=5)\n",
    "quitbtn=Button(root,text=\"Quit\",command=root.quit)\n",
    "quitbtn.grid(row=3,column=1,sticky=W,pady=5)\n",
    "root.mainloop()"
   ]
  },
  {
   "cell_type": "markdown",
   "metadata": {},
   "source": [
    "- insert()方法，用于在Entry文本框内显示默认输入的文字。insert(index,s)，s是插入的字符串，字符串会插入在index位置。"
   ]
  },
  {
   "cell_type": "code",
   "execution_count": 8,
   "metadata": {},
   "outputs": [
    {
     "name": "stdout",
     "output_type": "stream",
     "text": [
      "Account:dff\n",
      "Password:sdf\n"
     ]
    }
   ],
   "source": [
    "def printInfo():             #打印输入信息\n",
    "    print(\"Account:%s\\nPassword:%s\" % (accountE.get(),pwdE.get()))\n",
    "    \n",
    "root=Tk()\n",
    "root.title(\"ch5_4\")\n",
    "\n",
    "msg=\"欢迎进入Silicon Stone Education系统\"\n",
    "test=PhotoImage(file=\"test.gif\")\n",
    "logo=Label(root,text=msg,image=test,compound=BOTTOM)\n",
    "accountL=Label(root,text=\"Account\")\n",
    "accountL.grid(sticky=W,row=1)\n",
    "pwdL=Label(root,text=\"Password\")\n",
    "pwdL.grid(sticky=W,row=2)\n",
    "logo.grid(row=0,column=0,columnspan=2,pady=10,padx=10)\n",
    "accountE=Entry(root)\n",
    "pwdE=Entry(root,show=\"*\")\n",
    "accountE.insert(0,\"wrg\")         # insert(index,s)方法的使用\n",
    "pwdE.insert(0,\"wrg\")\n",
    "accountE.grid(sticky=W,row=1,column=1)\n",
    "pwdE.grid(sticky=W,row=2,column=1)\n",
    "#以下建立login和quit按钮\n",
    "loginbtn=Button(root,text=\"Login\",command=printInfo)\n",
    "loginbtn.grid(row=3,column=0,sticky=W,pady=5)\n",
    "quitbtn=Button(root,text=\"Quit\",command=root.quit)\n",
    "quitbtn.grid(row=3,column=1,sticky=W,pady=5)\n",
    "root.mainloop()"
   ]
  },
  {
   "cell_type": "markdown",
   "metadata": {},
   "source": [
    "- delete(first,last=None)方法，用于删除Entry内的从第first字符到第last-1字符间的字符串。若要删除整个字符串可以使用delete(0,END)。"
   ]
  },
  {
   "cell_type": "code",
   "execution_count": 10,
   "metadata": {},
   "outputs": [
    {
     "name": "stdout",
     "output_type": "stream",
     "text": [
      "Account:wrg\n",
      "Password:pwd\n",
      "Account:\n",
      "Password:dsdf\n"
     ]
    }
   ],
   "source": [
    "#*************************************当单击Login按钮后，清空文本框Entry中的内容**************************************\n",
    "def printInfo():\n",
    "    print(\"Account:%s\\nPassword:%s\" % (accountE.get(),pwdE.get()))\n",
    "    accountE.delete(0,END)  \n",
    "    pwdE.delete(0,END)\n",
    "    \n",
    "root=Tk()\n",
    "root.title(\"ch5_7\")\n",
    "msg=\"欢迎进入Silicon Stone Education系统\"\n",
    "test=PhotoImage(file=\"test.gif\")\n",
    "logo=Label(root,image=test,text=msg,compound=BOTTOM)\n",
    "accountL=Label(root,text=\"Account\")\n",
    "accountL.grid(row=1)\n",
    "pwdL=Label(root,text=\"Password\")\n",
    "pwdL.grid(row=2)\n",
    "logo.grid(row=0,column=0,columnspan=2,padx=10,pady=10)\n",
    "accountE=Entry(root)\n",
    "pwdE=Entry(root,show=\"*\")\n",
    "accountE.insert(10,\"wrg\")\n",
    "pwdE.insert(10,\"pwd\")\n",
    "accountE.grid(row=1,column=1)\n",
    "pwdE.grid(row=2,column=1,pady=10)\n",
    "loginbtn=Button(root,text=\"Login\",command=printInfo)\n",
    "loginbtn.grid(row=3,pady=5)\n",
    "quitbtn=Button(root,text=\"Quit\",command=root.quit)\n",
    "quitbtn.grid(row=3,column=1,pady=5)\n",
    "root.mainloop()"
   ]
  },
  {
   "cell_type": "markdown",
   "metadata": {},
   "source": [
    "- eval()，用此函数可以直接返回括号内字符串类型的数学表达式的计算结果，返回结果以**整数或小数类型**传回。\n",
    " - 语法格式`result=eval(expression) #expression是字符串`"
   ]
  },
  {
   "cell_type": "code",
   "execution_count": 24,
   "metadata": {},
   "outputs": [],
   "source": [
    "#********************************在Entry内输入数学表达式，本程序会列出结果***********************************\n",
    "def cal():\n",
    "    out.configure(text=\"结果：\"+str(eval(equ.get())))\n",
    "    \n",
    "root=Tk()\n",
    "root.title(\"ch5_9\")\n",
    "label=Label(root,text=\"请输入数学表达式：\")\n",
    "label.pack()\n",
    "equ=Entry(root)\n",
    "equ.pack(pady=5)\n",
    "out=Label(root)\n",
    "out.pack()\n",
    "btn=Button(root,text=\"计算\",command=cal)\n",
    "btn.pack(pady=5)\n",
    "root.mainloop()"
   ]
  }
 ],
 "metadata": {
  "kernelspec": {
   "display_name": "Python 3",
   "language": "python",
   "name": "python3"
  },
  "language_info": {
   "codemirror_mode": {
    "name": "ipython",
    "version": 3
   },
   "file_extension": ".py",
   "mimetype": "text/x-python",
   "name": "python",
   "nbconvert_exporter": "python",
   "pygments_lexer": "ipython3",
   "version": "3.7.4"
  }
 },
 "nbformat": 4,
 "nbformat_minor": 2
}
