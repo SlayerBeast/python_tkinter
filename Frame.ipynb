{
 "cells": [
  {
   "cell_type": "markdown",
   "metadata": {},
   "source": [
    "- Frame，框架，作为容器使用\n",
    "- Frame(父对象,options,...)，父对象可以省略\n",
    " - background(bg):背景色彩\n",
    " - borderwidth(bd):标签边界宽度，默认是2\n",
    " - cursor:当鼠标光标在框架上时的光标形状\n",
    " - height:框架的高度，单位是像素\n",
    " - highlightbackground:当框架没有取得焦点时的颜色\n",
    " - highlightcolor:当框架取得焦点时的颜色\n",
    " - highlightthickness:当框架取得焦点时的厚度\n",
    " - relief:默认是relief=FLAT，可由此控制框架外框\n",
    " - width:框架的宽度，单位是像素，省略时会自行调整为实际宽度"
   ]
  },
  {
   "cell_type": "code",
   "execution_count": 5,
   "metadata": {},
   "outputs": [],
   "source": [
    "from tkinter import *\n",
    "root=Tk()\n",
    "root.title(\"ch8_1\")\n",
    "for fm in [\"red\",\"green\",\"blue\"]:\n",
    "    Frame(bg=fm,height=50,width=250).pack()\n",
    "root.mainloop()"
   ]
  },
  {
   "cell_type": "code",
   "execution_count": 6,
   "metadata": {},
   "outputs": [],
   "source": [
    "#使用横向配置方式(side=LEFT)，同时让鼠标光标在不同的框架上有不同的形状\n",
    "root=Tk()\n",
    "root.title(\"ch8_2\")\n",
    "\n",
    "fms={'red':'cross','green':'boat','blue':'clock'}\n",
    "for fmColor in fms:\n",
    "    Frame(root,bg=fmColor,cursor=fms[fmColor],height=50,width=200).pack(side=LEFT)\n",
    "    \n",
    "root.mainloop()"
   ]
  },
  {
   "cell_type": "markdown",
   "metadata": {},
   "source": [
    "- 创建框架时会传回框架对象，以后在此框架内控件时，该框架就成为控件的父容器\n",
    "```\n",
    "A=Frame(root,...)\n",
    "btn=Button(A,...)\n",
    "```"
   ]
  },
  {
   "cell_type": "code",
   "execution_count": 10,
   "metadata": {},
   "outputs": [],
   "source": [
    "root=Tk()\n",
    "root.title(\"ch8_3\")\n",
    "\n",
    "frameUpper=Frame(root,bg=\"lightyellow\")\n",
    "frameUpper.pack()\n",
    "btnRed=Button(frameUpper,text=\"Red\",fg=\"red\")\n",
    "btnRed.pack(side=LEFT,padx=5,pady=5)\n",
    "btnGreen=Button(frameUpper,text=\"Green\",fg=\"green\")\n",
    "btnGreen.pack(side=LEFT,padx=5,pady=5)\n",
    "btnBlue=Button(frameUpper,text=\"Blue\",fg=\"blue\")\n",
    "btnBlue.pack(side=LEFT,padx=5,pady=5)\n",
    "\n",
    "frameLower=Frame(root,bg=\"lightblue\")\n",
    "frameLower.pack()\n",
    "btnPurple=Button(frameLower,text=\"Purple\",fg=\"purple\")\n",
    "btnPurple.pack(side=LEFT,padx=5,pady=5)\n",
    "\n",
    "root.mainloop()"
   ]
  },
  {
   "cell_type": "code",
   "execution_count": 15,
   "metadata": {},
   "outputs": [],
   "source": [
    "# 建立三个框架，分别使用不同的relief属性\n",
    "root=Tk()\n",
    "root.title(\"ch8_4\")\n",
    "\n",
    "fm1=Frame(width=150,height=80,relief=GROOVE,borderwidth=5)\n",
    "fm1.pack(side=LEFT,padx=5,pady=10)\n",
    "\n",
    "fm2=Frame(width=150,height=80,relief=RAISED,borderwidth=5)\n",
    "fm2.pack(side=LEFT,padx=5,pady=10)\n",
    "\n",
    "fm3=Frame(width=150,height=80,relief=RIDGE,borderwidth=5)\n",
    "fm3.pack(side=LEFT,padx=5,pady=10)\n",
    "\n",
    "root.mainloop()"
   ]
  },
  {
   "cell_type": "code",
   "execution_count": 17,
   "metadata": {},
   "outputs": [],
   "source": [
    "#创建一个含raised属性的框架，同时在此框架内创建标签和复选框\n",
    "\n",
    "root=Tk()\n",
    "root.title(\"ch8_5\")\n",
    "\n",
    "fm=Frame(width=150,height=80,relief=RAISED,borderwidth=5)\n",
    "lab=Label(fm,text=\"请复选常用的程序语言\")\n",
    "lab.pack()\n",
    "python=Checkbutton(fm,text=\"Python\")\n",
    "python.pack(anchor=W)\n",
    "java=Checkbutton(fm,text=\"Java\")\n",
    "java.pack(anchor=W)\n",
    "ruby=Checkbutton(fm,text=\"Ruby\")\n",
    "ruby.pack(anchor=W)\n",
    "fm.pack(padx=10,pady=10)\n",
    "\n",
    "root.mainloop()"
   ]
  },
  {
   "cell_type": "markdown",
   "metadata": {},
   "source": [
    "- 在标准Frame框架中，对于relief属性没有完全支持，如solid,sunken，此时可以使用tkinter.ttk的Frame和Style模块"
   ]
  },
  {
   "cell_type": "code",
   "execution_count": 18,
   "metadata": {},
   "outputs": [],
   "source": [
    "#建立6个框架，每个框架有不同的relief\n",
    "from tkinter.ttk import Frame,Style\n",
    "\n",
    "root=Tk()\n",
    "root.title(\"ch8_6\")\n",
    "style=Style()                    #改用Style\n",
    "style.theme_use(\"alt\")           #改用alt支持Style\n",
    "\n",
    "fm1=Frame(root,width=150,height=80,relief=\"flat\")\n",
    "fm1.grid(row=0,column=0,padx=5,pady=5)\n",
    "\n",
    "fm2=Frame(root,width=150,height=80,relief=\"groove\")\n",
    "fm2.grid(row=0,column=1,padx=5,pady=5)\n",
    "\n",
    "fm3=Frame(root,width=150,height=80,relief=\"raised\")\n",
    "fm3.grid(row=0,column=2,padx=5,pady=5)\n",
    "\n",
    "fm4=Frame(root,width=150,height=80,relief=\"ridge\")\n",
    "fm4.grid(row=1,column=0,padx=5,pady=5)\n",
    "\n",
    "fm5=Frame(root,width=150,height=80,relief=\"solid\")\n",
    "fm5.grid(row=1,column=1,padx=5,pady=5)\n",
    "\n",
    "fm6=Frame(root,width=150,height=80,relief=\"sunken\")\n",
    "fm6.grid(row=1,column=2,padx=5,pady=5)\n",
    "\n",
    "root.mainloop()"
   ]
  },
  {
   "cell_type": "markdown",
   "metadata": {},
   "source": [
    "- 标签框架LabelFrame，是一个容器控件，主要将一系列相关的Widget组织在一个标签框架内，然后给它一个名称\n",
    "- LabelFrame(父对象,options,...)\n",
    " - background():背景色彩\n",
    " - borderwidth(bd):标签边界宽度，默认是2\n",
    " - cursor:当鼠标光标在框架上时的光标形状\n",
    " - font:标签框架中文字的字形\n",
    " - height:框架的高度，单位是像素\n",
    " - highlightbackground:当框架没有取得焦点时的颜色\n",
    " - highlightcolor:当框架取得焦点时的颜色\n",
    " - highlightthickness:当框架取得焦点时的厚度\n",
    " - labelAnchor:设置放置标签的位置\n",
    " - relief:默认是relief=FLAT，可由此控制框架的外框\n",
    " - text:标签内容\n",
    " - width:框架的宽度，单位是像素，省略时会自行调整为实际宽度"
   ]
  },
  {
   "cell_type": "code",
   "execution_count": 26,
   "metadata": {},
   "outputs": [],
   "source": [
    "#将帐号和密码字段使用标签框架框起来，此框架标签的文字是“数据验证”\n",
    "root=Tk()\n",
    "root.title(\"ch8_7\")\n",
    "\n",
    "msg=\"欢迎进入Silicon Stone Education系统\"\n",
    "test=PhotoImage(file=\"test.gif\")\n",
    "logo=Label(root,image=test,text=msg,compound=BOTTOM)\n",
    "logo.pack()\n",
    "\n",
    "#以下是LabelFrame标签框架\n",
    "labFrame=LabelFrame(root,text=\"数据验证\")\n",
    "accountL=Label(labFrame,text=\"Account\")\n",
    "accountL.grid(row=0,column=0)\n",
    "pwdL=Label(labFrame,text=\"Password\")\n",
    "pwdL.grid(row=1,column=0)\n",
    "\n",
    "accountE=Entry(labFrame)\n",
    "accountE.grid(row=0,column=1)\n",
    "pwdE=Entry(labFrame,show=\"*\")\n",
    "pwdE.grid(row=1,column=1,pady=10)\n",
    "labFrame.pack(padx=10,pady=5,ipady=5,ipadx=5)\n",
    "\n",
    "root.mainloop()"
   ]
  },
  {
   "cell_type": "code",
   "execution_count": 27,
   "metadata": {},
   "outputs": [
    {
     "name": "stdout",
     "output_type": "stream",
     "text": [
      "篮球\t\n",
      "篮球\t网球\t\n",
      "美式足球\t网球\t\n",
      "美式足球\t棒球\t篮球\t网球\t\n"
     ]
    }
   ],
   "source": [
    "#将复选框用标签框架框起来，同时设置root窗口的宽度和高度\n",
    "def printInfo():\n",
    "    selection=\"\"\n",
    "    for i in checkboxes:                     #检查此字典\n",
    "        if checkboxes[i].get()==True:        #被选取则执行\n",
    "            selection=selection+sports[i]+\"\\t\"\n",
    "    print(selection)\n",
    "    \n",
    "root=Tk()\n",
    "root.title(\"ch8_8\")\n",
    "root.geometry(\"400x220\")\n",
    "#以下建立标签框架与字典\n",
    "labFrame=LabelFrame(root,text=\"选择最喜欢的运动\")\n",
    "sports={0:\"美式足球\",1:\"棒球\",2:\"篮球\",3:\"网球\"}\n",
    "checkboxes={}\n",
    "for i in range(len(sports)):\n",
    "    checkboxes[i]=BooleanVar()\n",
    "    Checkbutton(labFrame,text=sports[i],variable=checkboxes[i]).grid(row=i+1,sticky=W)\n",
    "labFrame.pack(ipadx=5,ipady=5,pady=10)\n",
    "btn=Button(root,text=\"确定\",width=10,command=printInfo)\n",
    "btn.pack()\n",
    "\n",
    "root.mainloop()"
   ]
  },
  {
   "cell_type": "markdown",
   "metadata": {},
   "source": [
    "- 顶层窗口Toplevel，功能类似与Frame，但该控件所产生的容器是一个独立的窗口，有自己的标题栏和边框\n",
    "- Toplevel(options,...)\n",
    " - background(bg):背景色彩\n",
    " - borderwidth(bd):标签边界宽度，默认是2\n",
    " - cursor:当鼠标光标在Toplevel窗口上时的光标形状\n",
    " - fg:文字背景颜色\n",
    " - font:字形\n",
    " - height:窗口高度\n",
    " - width:窗口宽度\n",
    " - **若关闭Toplevel窗口，原主窗口仍可以继续使用，但若关闭了主窗口，Toplevel窗口将自动关闭**"
   ]
  },
  {
   "cell_type": "code",
   "execution_count": 29,
   "metadata": {},
   "outputs": [],
   "source": [
    "#建立一个Toplevel窗口，在其中增加字符串\"i am a toplevel\"\n",
    "root=Tk()\n",
    "root.title(\"ch8_9\")\n",
    "\n",
    "tl=Toplevel()\n",
    "Label(tl,text=\"i am a toplevel\").pack()\n",
    "\n",
    "root.mainloop()"
   ]
  },
  {
   "cell_type": "code",
   "execution_count": 30,
   "metadata": {},
   "outputs": [],
   "source": [
    "#设置Toplevel窗口的标题和大小\n",
    "root=Tk()\n",
    "root.title(\"ch8_10\")\n",
    "\n",
    "tl=Toplevel()\n",
    "tl.title(\"Toplevel\")\n",
    "tl.geometry(\"300x180\")\n",
    "Label(tl,text=\"i am a Toplevel\").pack()\n",
    "\n",
    "root.mainloop()"
   ]
  },
  {
   "cell_type": "code",
   "execution_count": 36,
   "metadata": {},
   "outputs": [],
   "source": [
    "#程序执行时会有一个Click Me按钮，当单击此按钮时会由一个随机数产生Yes,No,Exit字符串，这些字符串会出现在Toplevel窗口内\n",
    "import random\n",
    "\n",
    "root=Tk()\n",
    "root.title(\"ch8_11\")\n",
    "\n",
    "msgYes,msgNo,msgExit=1,2,3\n",
    "def MessageBox():                   #创建对话框\n",
    "    msgType=random.randint(1,3)     #随机数产生对话框方式\n",
    "    if msgType==msgYes:\n",
    "        labTxt=\"Yes\"\n",
    "    elif msgType==msgNo:\n",
    "        labTxt=\"No\"\n",
    "    elif msgType==msgExit:\n",
    "        labTxt=\"Exit\"\n",
    "    tl=Toplevel()\n",
    "    tl.geometry(\"300x180\")\n",
    "    tl.title(\"Message Box\")\n",
    "    Label(tl,text=labTxt).pack(fill=BOTH,expand=True)\n",
    "    \n",
    "btn=Button(root,text=\"Click Me\",command=MessageBox)\n",
    "btn.pack()\n",
    "\n",
    "root.mainloop()"
   ]
  }
 ],
 "metadata": {
  "kernelspec": {
   "display_name": "Python 3",
   "language": "python",
   "name": "python3"
  },
  "language_info": {
   "codemirror_mode": {
    "name": "ipython",
    "version": 3
   },
   "file_extension": ".py",
   "mimetype": "text/x-python",
   "name": "python",
   "nbconvert_exporter": "python",
   "pygments_lexer": "ipython3",
   "version": "3.7.4"
  }
 },
 "nbformat": 4,
 "nbformat_minor": 2
}
