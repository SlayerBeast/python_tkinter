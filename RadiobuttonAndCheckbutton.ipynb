{
 "cells": [
  {
   "cell_type": "markdown",
   "metadata": {},
   "source": [
    "- 程序设计时可以设计让选项按钮与函数绑在一起，当选择适当的选项按钮时，可以自动执行相关的函数。另外，程序设计时可能会有多组选项按钮，此时可以设计一组选项按钮有一个相关的变量，用此变量绑定这组选项按钮。\n",
    "- Radiobutton(父对象,options,...)\n",
    " - activebackground:鼠标光标在选项按钮上时的背景颜色\n",
    " - activeforeground:鼠标光标在选项按钮上时的前景颜色\n",
    " - anchor:如果空间大于所需时，控制选项按钮的位置，默认是CENTER\n",
    " - bg:标签背景或indicator的背景颜色\n",
    " - bitmap:位图图像对象\n",
    " - borderwidth(bd):边界宽度默认是2个像素\n",
    " - command:当用户更改选项时，会自动执行此函数\n",
    " - cursor:当鼠标光标在选项按钮上时的光标形状\n",
    " - fg:文字前景颜色\n",
    " - font:字形\n",
    " - height:选项按钮上的文字有几行，默认是1行\n",
    " - highlightbackground:当选项按钮取得焦点时的背景颜色\n",
    " - highlightcolor:当选项按钮取得焦点时的颜色\n",
    " - image:图像对象\n",
    " - indicatoron:当此值为0时，可以建立盒子选项按钮\n",
    " - justify:当含多行文字时，最后一行文字的对齐方式\n",
    " - padx:默认是1，可设置选项按钮与文字的间距\n",
    " - pady:默认是1，可设置选项按钮的上下间距\n",
    " - selectcolor:当选项按钮被选取时的颜色\n",
    " - selectimage:如果设置图像选项按钮时，可由此设置当选项按钮被选取时的不同图像\n",
    " - state:默认是state=NORMAL，若设置DISABLE则以灰阶显示选项按钮\n",
    " - text:选项按钮旁的文字\n",
    " - textvariable:以变量方式显示选项按钮文字\n",
    " - underline:可以设置第几个文字有下划线，从0开始算起，默认是-1,表示无下划线\n",
    " - value:选项按钮的值，可以区分所选取的选项按钮\n",
    " - variable:设置或取得目前选取的单选按钮，它的值类型通常是IntVar或StringVar\n",
    " - width:选项按钮的文字有几个字符宽，省略时会自行调整为实际宽度\n",
    " - wraplength:限制每行的文字数，默认是0,表示只有\"\\n\"才会换行\n",
    " - 绑定整组选项按钮的方式如下\n",
    "   - var IntVar\n",
    "   - rb1=Radiobutton(root,...,variable=var,value=x1,...)\n",
    "   - rb2=Radiobutton(root,...,variable=var,value=x2,...)\n",
    "   - ...\n",
    "   - rbn=Radiobutton(root,...,variable=var,value=xn,...)"
   ]
  },
  {
   "cell_type": "code",
   "execution_count": 1,
   "metadata": {},
   "outputs": [],
   "source": [
    "#默认是男生，此时上方显示尚未选择\n",
    "#选择“男生”或“女生”，上方会显示“你是男生”或“你是女生”\n",
    "\n",
    "from tkinter import *\n",
    "def printSelection():\n",
    "    num=var.get()\n",
    "    if num==1:\n",
    "        label.config(text=\"你是男生\")\n",
    "    else:\n",
    "        label.config(text=\"你是女生\")\n",
    "        \n",
    "root=Tk()\n",
    "root.title(\"ch7_1\")\n",
    "\n",
    "var=IntVar()              #选项按钮绑定的变量\n",
    "var.set(1)                #默认选项是男生\n",
    "\n",
    "label=Label(root,text=\"这是预设，尚未选择\",bg=\"lightyellow\",width=30)\n",
    "label.pack()\n",
    "\n",
    "rbman=Radiobutton(root,text=\"男生\",variable=var,value=1,command=printSelection)    #男生选项按钮\n",
    "rbman.pack()\n",
    "rbwoman=Radiobutton(root,text=\"女生\",variable=var,value=2,command=printSelection)  #女生选项按钮\n",
    "rbwoman.pack()\n",
    "\n",
    "root.mainloop()"
   ]
  },
  {
   "cell_type": "markdown",
   "metadata": {},
   "source": [
    "- **将字典应用在选项按钮上**"
   ]
  },
  {
   "cell_type": "code",
   "execution_count": 10,
   "metadata": {},
   "outputs": [],
   "source": [
    "#为字典内的城市数据建立选项按钮\n",
    "def printSelection():\n",
    "    print(cities[var.get()])                         #列出所选城市\n",
    "    \n",
    "root=Tk()\n",
    "root.title(\"ch7_3\")\n",
    "cities={0:\"东京\",1:\"纽约\",2:\"巴黎\",3:\"伦敦\",4:\"香港\"}\n",
    "\n",
    "var=IntVar()\n",
    "var.set(0)                                           #默认选项\n",
    "label=Label(root,text=\"选择最喜欢的城市\",fg=\"blue\",bg=\"lightyellow\",width=30).pack()\n",
    "\n",
    "for val,city in cities.items():                     #建立选项按钮\n",
    "    Radiobutton(root,text=city,variable=var,value=val,command=printSelection).pack()\n",
    "    \n",
    "root.mainloop()"
   ]
  },
  {
   "cell_type": "markdown",
   "metadata": {},
   "source": [
    "- 使用indicatoron参数，将它设为0,得到盒子选项按钮"
   ]
  },
  {
   "cell_type": "code",
   "execution_count": 15,
   "metadata": {},
   "outputs": [],
   "source": [
    "def printSelection():\n",
    "    print(cities[var.get()])                    #列出所选城市\n",
    "    \n",
    "root=Tk()\n",
    "root.title(\"ch7_4\")\n",
    "cities={0:\"东京\",1:\"纽约\",2:\"巴黎\",3:\"伦敦\",4:\"香港\"}\n",
    "\n",
    "var=IntVar()\n",
    "#var.set(0)                                      #默认选项\n",
    "label=Label(root,text=\"选择最喜欢的城市\",fg=\"blue\",bg=\"lightyellow\",width=30).pack()\n",
    "\n",
    "for val,city in cities.items():\n",
    "    Radiobutton(root,text=city,variable=var,value=val,command=printSelection,indicatoron=0,width=30).pack()\n",
    "    \n",
    "root.mainloop()"
   ]
  },
  {
   "cell_type": "markdown",
   "metadata": {},
   "source": [
    "- 建立含图像的选项按钮，用法与标签Label的图像相同。即在Radiobutton里设置image，用compound参数设置图像与文字的位置关系。"
   ]
  },
  {
   "cell_type": "markdown",
   "metadata": {},
   "source": [
    "- 复选框Checkbutton，与前述选项按钮主要区别在于复选框可以同时选择多项。程序设计时可以设计让每个复选框与函数绑在一起，当此选项被选择时，可以自动执行相关的函数或方法。\n",
    "- Checkbutton(父对象,options,...)\n",
    " - activebackground:鼠标光标在复选框上时的背景颜色\n",
    " - activeforeground:鼠标光标在复选框上时的前景颜色\n",
    " - bg:标签背景或indicator的背景颜色\n",
    " - bitmap:位图图像对象\n",
    " - borderwidth(bd):边界宽度默认是两个像素\n",
    " - command:当用户更改选项时，会自动执行此函数\n",
    " - cursor:当鼠标光标在复选框上时的光标形状\n",
    " - disableforeground:当无法操作时的颜色\n",
    " - font:字形\n",
    " - height:复选框中的文字有几行，默认是1行\n",
    " - highlightbackground:当复选框取得焦点时的背景颜色\n",
    " - highlightcolor:当复选框取得焦点时的颜色\n",
    " - image:图像对象，如果要建立含图像的选项按钮时，可以使用此参数\n",
    " - justify:当含多行文字时，最后一行文字的对齐方式\n",
    " - offvalue:这是控制变量，默认若复选框未选取值是0,可以由此更改设置此值\n",
    " - onvalue:这是控制变量，默认若复选框未选取值是1,可以由此更改设置此值\n",
    " - padx:默认是1，可设置复选框与文字的间隔\n",
    " - pady:默认是1，可设置复选框的上下间距\n",
    " - relief:默认是relief=FLAT，可由此控制复选框外框\n",
    " - selectcolor:当复选框被选取时的颜色\n",
    " - selectimage:若设置图像复选框，可由此设置当复选框被选取时的不同图像\n",
    " - state:默认是state=NORMAL，若设置DISABLED则以灰阶显示复选框。如果鼠标光标在复选框上方表示ACTIVE\n",
    " - text:复选框旁的文字\n",
    " - underline:可以设置第几个文字有下划线，从0开始算起，默认是-1,表示无下划线\n",
    " - variable:设置或取得目前选取的复选框，它的值类型通常是IntVar或StringVar\n",
    " - width:复选框的文字有几个字符宽，省略时会自行调整为实际宽度\n",
    " - wraplength:限制每行的文字数，默认是0,表示只有\"\\n\"才会换行"
   ]
  },
  {
   "cell_type": "code",
   "execution_count": 16,
   "metadata": {},
   "outputs": [],
   "source": [
    "root=Tk()\n",
    "root.title(\"ch7_7\")\n",
    "\n",
    "lab=Label(root,text=\"请选择喜欢的运动\",fg=\"blue\",bg=\"lightyellow\",width=30)\n",
    "lab.grid(row=0)\n",
    "\n",
    "var1=IntVar()\n",
    "cbtnNFL=Checkbutton(root,text=\"美式足球\",variable=var1)\n",
    "cbtnNFL.grid(row=1,sticky=W)\n",
    "\n",
    "var2=IntVar()\n",
    "cbtnMLB=Checkbutton(root,text=\"棒球\",variable=var2)\n",
    "cbtnMLB.grid(row=2,sticky=W)\n",
    "\n",
    "var3=IntVar()\n",
    "cbtnNBA=Checkbutton(root,text=\"篮球\",variable=var3)\n",
    "cbtnNBA.grid(row=3,sticky=W)\n",
    "\n",
    "root.mainloop()"
   ]
  },
  {
   "cell_type": "code",
   "execution_count": 32,
   "metadata": {},
   "outputs": [
    {
     "name": "stdout",
     "output_type": "stream",
     "text": [
      "篮球\t\n"
     ]
    }
   ],
   "source": [
    "#以字典方式存储运动复选框项目，然后建立复选框，当有选择项目时，若单击“确定”按钮，可以在Python Shell窗口中列出所选的项目\n",
    "\n",
    "def printInfo():\n",
    "    selection=\"\"\n",
    "    for i in checkboxes:\n",
    "        if checkboxes[i].get()==True:                #检查此字典\n",
    "            selection=selection+sports[i]+\"\\t\"\n",
    "    print(selection)\n",
    "    \n",
    "root=Tk()\n",
    "root.title(\"ch7_8\")\n",
    "\n",
    "Label(root,text=\"请选择喜欢的运动\",fg=\"blue\",bg=\"lightyellow\",width=30).grid(row=0)\n",
    "\n",
    "sports={0:\"美式足球\",1:\"棒球\",2:\"篮球\",3:\"网球\"}        #运动字典\n",
    "checkboxes={}\n",
    "for i in range(len(sports)):\n",
    "    checkboxes[i]=IntVar()                       #字典存放被选取项目\n",
    "    Checkbutton(root,text=sports[i],variable=checkboxes[i]).grid(row=i+1,sticky=W)\n",
    "    \n",
    "btn=Button(root,text=\"确定\",width=10,command=printInfo)\n",
    "btn.grid(row=i+2)\n",
    "\n",
    "root.mainloop()"
   ]
  },
  {
   "cell_type": "markdown",
   "metadata": {},
   "source": [
    "- Entry.select_range(x,y)，用于Entry框内呈现被选取的效果，类似平时鼠标点中并拖动文字的效果。x表示其实位置,y表示结束位置，END表示到字符串末尾\n",
    "- Entry.select_clear()，用于取消被选取的效果"
   ]
  },
  {
   "cell_type": "code",
   "execution_count": 38,
   "metadata": {},
   "outputs": [],
   "source": [
    "#建立一个对话框，含1个Entry文本框，4个功能按钮，1个复选框\n",
    "#功能如下：\n",
    "#Entry文本框：可以在此输入文字\n",
    "#“选取”功能按钮：可以选取Entry内的文字，这里选取并不是get()方法获取其中内容，而是Entry框内全选的效果\n",
    "#“取消选取”功能按钮：可以取消选取Entry内的文字，这里取消选取指的是取消Entry框内的全选效果\n",
    "#“删除”功能按钮：可以删除Entry内的文字\n",
    "#“结束”功能按钮：让程序结束\n",
    "#“只读”复选框：让Entry变为只读模式，无法写入或更改Entry内容\n",
    "\n",
    "def selAll():                                  #选取全部字符串\n",
    "    entry.select_range(0,END)\n",
    "\n",
    "def deSel():                                   #取消选取\n",
    "    entry.select_clear()\n",
    "\n",
    "def clr():                                     #删除文字\n",
    "    entry.delete(0,END)\n",
    "    \n",
    "def readonly():                                #设定Entry状态\n",
    "    if var.get()==True:\n",
    "        entry.config(state=DISABLED)           #设为DISABLED\n",
    "    else:\n",
    "        entry.config(state=NORMAL)             #设为NORMAL\n",
    "        \n",
    "root=Tk()\n",
    "root.title(\"ch7_9\")\n",
    "\n",
    "#以下row=0建立Entry\n",
    "entry=Entry(root)\n",
    "entry.grid(row=0,column=0,columnspan=4,padx=5,pady=5,sticky=W)\n",
    "\n",
    "#以下row=1建立Button\n",
    "btnSel=Button(root,text=\"选取\",command=selAll)\n",
    "btnSel.grid(row=1,column=0,padx=5,pady=5,sticky=W)\n",
    "btnDesel=Button(root,text=\"取消选取\",command=deSel)\n",
    "btnDesel.grid(row=1,column=1,padx=5,pady=5,sticky=W)\n",
    "btnClr=Button(root,text=\"删除\",command=clr)\n",
    "btnClr.grid(row=1,column=2,padx=5,pady=5,sticky=W)\n",
    "btnQuit=Button(root,text=\"结束\",command=root.destroy)\n",
    "btnQuit.grid(row=1,column=3,padx=5,pady=5,sticky=W)\n",
    "\n",
    "#以下row=2建立Checkboxes\n",
    "var=BooleanVar()\n",
    "var.set(False)\n",
    "chkReadonly=Checkbutton(root,text=\"只读\",variable=var,command=readonly)\n",
    "chkReadonly.grid(row=2,column=0)\n",
    "\n",
    "root.mainloop()"
   ]
  }
 ],
 "metadata": {
  "kernelspec": {
   "display_name": "Python 3",
   "language": "python",
   "name": "python3"
  },
  "language_info": {
   "codemirror_mode": {
    "name": "ipython",
    "version": 3
   },
   "file_extension": ".py",
   "mimetype": "text/x-python",
   "name": "python",
   "nbconvert_exporter": "python",
   "pygments_lexer": "ipython3",
   "version": "3.7.4"
  }
 },
 "nbformat": 4,
 "nbformat_minor": 2
}
