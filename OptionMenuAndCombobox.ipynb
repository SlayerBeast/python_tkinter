{
 "cells": [
  {
   "cell_type": "markdown",
   "metadata": {},
   "source": [
    "- OptionMenuAndCombobox，下拉式列表与组合框\n",
    "- OptionMenu(父对象,options,\\*value),其中\\*value是一系列下拉列表的项目"
   ]
  },
  {
   "cell_type": "code",
   "execution_count": 1,
   "metadata": {},
   "outputs": [],
   "source": [
    "#建立OptionMenu，这个下拉列表有三个数据，分别是Python、Java、C\n",
    "\n",
    "from tkinter import *\n",
    "\n",
    "root=Tk()\n",
    "root.title(\"ch13_1\")\n",
    "root.geometry(\"300x180\")\n",
    "\n",
    "var=StringVar()\n",
    "optionmenu=OptionMenu(root,var,\"Python\",\"Java\",\"C\")\n",
    "optionmenu.pack()\n",
    "\n",
    "root.mainloop()"
   ]
  },
  {
   "cell_type": "markdown",
   "metadata": {},
   "source": [
    "- 使用元组建立列表项目。当列表中项目较多时，可以将列表项目建在元组内，再将元组数据放入OptionMenu()构造方法内。"
   ]
  },
  {
   "cell_type": "code",
   "execution_count": 5,
   "metadata": {},
   "outputs": [],
   "source": [
    "#使用元组存储列表项目\n",
    "\n",
    "root=Tk()\n",
    "root.title(\"ch13_2\")\n",
    "root.geometry(\"300x180\")\n",
    "\n",
    "omTuple=(\"Python\",\"Java\",\"C\")\n",
    "var=StringVar()\n",
    "optionmenu=OptionMenu(root,var,*omTuple)             #注意元组名前的*号\n",
    "optionmenu.pack()\n",
    "\n",
    "root.mainloop()"
   ]
  },
  {
   "cell_type": "markdown",
   "metadata": {},
   "source": [
    "- 建立默认选项set(),使用set()方法为OptionMenu建立默认选项。"
   ]
  },
  {
   "cell_type": "code",
   "execution_count": 7,
   "metadata": {},
   "outputs": [],
   "source": [
    "#使用set()方法建立默认选项\n",
    "\n",
    "root=Tk()\n",
    "root.title(\"ch13_3\")\n",
    "root.geometry(\"300x180\")\n",
    "\n",
    "omTuple=(\"Python\",\"Java\",\"C\")\n",
    "var=StringVar()\n",
    "var.set(\"Python\")\n",
    "optionmenu=OptionMenu(root,var,*omTuple)\n",
    "optionmenu.pack()\n",
    "\n",
    "root.mainloop()"
   ]
  },
  {
   "cell_type": "code",
   "execution_count": 8,
   "metadata": {},
   "outputs": [],
   "source": [
    "#上例成功设定了默认值，但既然使用元组建立列表项目，则更好的设计是使用元组变量名称+索引方式设置默认选项。\n",
    "\n",
    "root=Tk()\n",
    "root.title(\"ch13_3\")\n",
    "root.geometry(\"300x180\")\n",
    "\n",
    "omTuple=(\"Python\",\"Java\",\"C\")\n",
    "var=StringVar()\n",
    "var.set(omTuple[0])                         #建立默认选项\n",
    "optionmenu=OptionMenu(root,var,*omTuple)\n",
    "optionmenu.pack()\n",
    "\n",
    "root.mainloop()"
   ]
  },
  {
   "cell_type": "markdown",
   "metadata": {},
   "source": [
    "- 获得选项内容get()。"
   ]
  },
  {
   "cell_type": "code",
   "execution_count": 9,
   "metadata": {},
   "outputs": [
    {
     "name": "stdout",
     "output_type": "stream",
     "text": [
      "The selection is: Python\n",
      "The selection is: Java\n",
      "The selection is: C\n"
     ]
    }
   ],
   "source": [
    "#获得OptionMenu目前选项的内容，这个程序中提供了Print按钮，单击此按钮可以在Python Shell窗口中列出所选的内容\n",
    "\n",
    "def printSelection():\n",
    "    print(\"The selection is:\",var.get())\n",
    "    \n",
    "root=Tk()\n",
    "root.title(\"ch13_4\")\n",
    "root.geometry(\"300x180\")\n",
    "\n",
    "omTuple=(\"Python\",\"Java\",\"C\")\n",
    "var=StringVar()\n",
    "var.set(omTuple[0])\n",
    "optionmenu=OptionMenu(root,var,*omTuple)\n",
    "optionmenu.pack()\n",
    "\n",
    "btn=Button(root,text=\"Print\",command=printSelection)\n",
    "btn.pack()\n",
    "\n",
    "root.mainloop()"
   ]
  },
  {
   "cell_type": "markdown",
   "metadata": {},
   "source": [
    "- 组合框Combobox，它是tkinter.ttk的widget控件，特性与OptionMenu类似，可视为Entry和下拉菜单的组合。\n",
    "- Combobox(父对象,options)\n",
    " - textvariable:可以设置Combobox的变量值\n",
    " - value:Combobox的选项内容，内容以元组方式存在"
   ]
  },
  {
   "cell_type": "markdown",
   "metadata": {},
   "source": [
    "- 在Combobox()构造方法中，可以使用value参数建立选项内容"
   ]
  },
  {
   "cell_type": "code",
   "execution_count": 10,
   "metadata": {},
   "outputs": [],
   "source": [
    "#建立一个Combobox\n",
    "\n",
    "from tkinter.ttk import *\n",
    "\n",
    "root=Tk()\n",
    "root.title(\"ch13_5\")\n",
    "root.geometry(\"300x120\")\n",
    "\n",
    "var=StringVar()\n",
    "cb=Combobox(root,textvariable=var,value=(\"Python\",\"Java\",\"C#\",\"C\"))          #创建Combobox\n",
    "cb.pack(pady=10)\n",
    "\n",
    "root.mainloop()"
   ]
  },
  {
   "cell_type": "code",
   "execution_count": 11,
   "metadata": {},
   "outputs": [],
   "source": [
    "#将Combobox的选项独立处理\n",
    "\n",
    "root=Tk()\n",
    "root.title(\"ch13_6\")\n",
    "root.geometry(\"300x120\")\n",
    "\n",
    "var=StringVar()\n",
    "cb=Combobox(root,textvariable=var)\n",
    "cb[\"value\"]=(\"Python\",\"Java\",\"C#\",\"C\")                          #设置选项内容\n",
    "cb.pack(pady=10)\n",
    "\n",
    "root.mainloop()"
   ]
  },
  {
   "cell_type": "markdown",
   "metadata": {},
   "source": [
    "- 设置默认选项current()"
   ]
  },
  {
   "cell_type": "code",
   "execution_count": 12,
   "metadata": {},
   "outputs": [],
   "source": [
    "#设置元组索引为0的元素Python为默认选项\n",
    "\n",
    "root=Tk()\n",
    "root.title(\"ch13_7\")\n",
    "root.geometry(\"300x120\")\n",
    "\n",
    "var=StringVar()\n",
    "cb=Combobox(root,textvariable=var)\n",
    "cb[\"value\"]=(\"Python\",\"Java\",\"C#\",\"C\")\n",
    "cb.current(0)                                 #设置默认选项，也可以使用var.set(\"xx\")方法建立默认选项\n",
    "cb.pack(pady=10)\n",
    "\n",
    "root.mainloop()"
   ]
  },
  {
   "cell_type": "markdown",
   "metadata": {},
   "source": [
    "- 获得目前选项get()"
   ]
  },
  {
   "cell_type": "code",
   "execution_count": 17,
   "metadata": {},
   "outputs": [
    {
     "name": "stdout",
     "output_type": "stream",
     "text": [
      "python\n",
      "java\n"
     ]
    }
   ],
   "source": [
    "#增加Print按钮，当单击此按钮时可以在Python Shell窗口中打印选项\n",
    "\n",
    "def printSelection():\n",
    "    print(var.get())\n",
    "\n",
    "root=Tk()\n",
    "root.title(\"ch13_9\")\n",
    "root.geometry(\"300x120\")\n",
    "\n",
    "var=StringVar()\n",
    "cb=Combobox(root,textvariable=var,value=(\"python\",\"java\",\"c\"))\n",
    "cb.current(0)\n",
    "cb.pack(pady=10)\n",
    "\n",
    "btn=Button(root,text=\"Print\",command=printSelection)\n",
    "btn.pack(pady=10,anchor=S,side=BOTTOM)\n",
    "\n",
    "root.mainloop()"
   ]
  },
  {
   "cell_type": "markdown",
   "metadata": {},
   "source": [
    "- 绑定Combobox，当Combobox中的选项有变动时，会产生虚拟<<ComboboxSelected\\>>事件，可以使用这个特性将此事件绑定处理方法。"
   ]
  },
  {
   "cell_type": "code",
   "execution_count": 18,
   "metadata": {},
   "outputs": [],
   "source": [
    "#同步Combobox和Label的内容\n",
    "\n",
    "def comboSelection(event):                           #显示选项\n",
    "    labelVar.set(var.get())                          #同步标签内容\n",
    "    \n",
    "root=Tk()\n",
    "root.title(\"ch13_10\")\n",
    "root.geometry(\"300x120\")\n",
    "\n",
    "var=StringVar()\n",
    "cb=Combobox(root,textvariable=var)                   #创建Combobox\n",
    "cb[\"value\"]=(\"Python\",\"Java\",\"C#\",\"C\")               #设置选项内容\n",
    "cb.current(0)                                        #设置默认选项\n",
    "cb.bind(\"<<ComboboxSelected>>\",comboSelection)       #绑定\n",
    "cb.pack(side=LEFT,pady=10,padx=10)\n",
    "\n",
    "labelVar=StringVar()\n",
    "label=Label(root,textvariable=labelVar)              #创建Label\n",
    "labelVar.set(var.get())                              #设置Label的初值\n",
    "label.pack(side=LEFT)\n",
    "\n",
    "root.mainloop()"
   ]
  }
 ],
 "metadata": {
  "kernelspec": {
   "display_name": "Python 3",
   "language": "python",
   "name": "python3"
  },
  "language_info": {
   "codemirror_mode": {
    "name": "ipython",
    "version": 3
   },
   "file_extension": ".py",
   "mimetype": "text/x-python",
   "name": "python",
   "nbconvert_exporter": "python",
   "pygments_lexer": "ipython3",
   "version": "3.7.4"
  }
 },
 "nbformat": 4,
 "nbformat_minor": 2
}
