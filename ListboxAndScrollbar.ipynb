{
 "cells": [
  {
   "cell_type": "markdown",
   "metadata": {},
   "source": [
    "- 列表框(Listbox)是用来显示一系列选项的Widget控件，用户可以进行单项或多项选择\n",
    "- Listbox(父对象,options,...)\n",
    " - background(bg):背景色彩\n",
    " - borderwidth(bd):边界宽度，默认是2个像素\n",
    " - cursor:当鼠标光标在列表框上时的光标形状\n",
    " - foreground(fg):字形色彩\n",
    " - font:字形\n",
    " - height:高，单位是字符，默认是10\n",
    " - highlightcolor:当列表框获得焦点时的颜色\n",
    " - highlightthickness:当列表框获得焦点时的厚度\n",
    " - listvariable:以变量方式处理选项内容\n",
    " - relief:默认是relief=FLAT,可由此控制列表框外框，默认是SUNKEN\n",
    " - selectbackground:被选取字符串的背景色彩\n",
    " - selectmode:可以决定有多少选项可以被选，以及鼠标拖曳如何影响选项\n",
    "   - BROWSE:默认值，可以选择一个选项，如果选取一个选项的同时拖曳鼠标，将造成选项最后的位置是被选取的项目位置\n",
    "   - SINGLE:只能选择一个选项，可以用单击方式选取，不可用拖曳方式更改所选的项目\n",
    "   - MULTIPLE:可以选择多个选项，单击项目可以切换是否选择该项目\n",
    "   - EXTENDED：单击第一个项目然后拖曳到最后一个项目，即可选择这个区间的一系列选项。单击可以选择第一个项目，此时若是按住Shift键并单击另一个项目，可以选取该区间项目\n",
    " - width:宽，单位是字符\n",
    " - xscrollcommand:在x轴使用滚动条\n",
    " - yscrollcommand:在y轴使用滚动条"
   ]
  },
  {
   "cell_type": "code",
   "execution_count": 1,
   "metadata": {},
   "outputs": [],
   "source": [
    "#建立列表框1，然后使用字符高度5建立列表框2\n",
    "from tkinter import *\n",
    "\n",
    "root=Tk()\n",
    "root.title(\"ch12_1\")\n",
    "root.geometry(\"300x210\")\n",
    "\n",
    "lb1=Listbox(root)\n",
    "lb1.pack(side=LEFT,padx=5,pady=10)\n",
    "lb2=Listbox(root,height=5,relief=RAISED)\n",
    "lb2.pack(anchor=N,side=LEFT,padx=5,pady=10)\n",
    "\n",
    "root.mainloop()"
   ]
  },
  {
   "cell_type": "markdown",
   "metadata": {},
   "source": [
    "- insert(index,elements)为列表框建立项目，index是项目插入位置，若插在最后面则可使用END。\n",
    " - index参数还可以设为ACTIVE，表示在当前所有选项前面加入新的项目\n",
    " - elements可以同时有多个参数，在列表框中按从左到右依次排列，如insert(ACTIVE,\"1\",\"2\",\"3\")"
   ]
  },
  {
   "cell_type": "code",
   "execution_count": 5,
   "metadata": {},
   "outputs": [],
   "source": [
    "#建立列表框，建立Banana、Watermelon、Pineapple三个项目\n",
    "root=Tk()\n",
    "root.title(\"ch12_2\")\n",
    "root.geometry(\"300x210\")\n",
    "\n",
    "lb=Listbox(root,selectmode=EXTENDED)\n",
    "lb.insert(0,\"Banana\")\n",
    "lb.insert(1,\"Watermelon\")\n",
    "lb.insert(2,\"Pineapple\")\n",
    "lb.pack(pady=10)\n",
    "\n",
    "root.mainloop()"
   ]
  },
  {
   "cell_type": "markdown",
   "metadata": {},
   "source": [
    "- Listbox操作方法\n",
    " - size():传回列表项目的数量\n",
    " - selection_set(index):表示选取这个索引项，该功能用于在建立好Listbox后，设定初次选择的项目。若有两个参数，则表示选取区间选项，第一个参数是起始索引，第二个是结束索引，如selection_set(0,3)\n",
    " - delete(index):表示删除索引项为index的项目。若有两个参数，则表示删除区间选项，第一个参数是起始索引，第二个是结束索引，如delete(1,3)\n",
    " - get(index):传回这个索引的元素内容。若有两个参数，则表示传回区间选项，第一个参数是起始索引，第二个是结束索引，如get(1,2)，所传回的值用元组方式传回\n",
    " - curselection():传回所选取项目的索引。若所选项目超过2个，则会用元组传回索引。\n",
    " - selection_includes(index):若指定索引项被选取会传回True，否则传回False"
   ]
  },
  {
   "cell_type": "code",
   "execution_count": 6,
   "metadata": {},
   "outputs": [
    {
     "name": "stdout",
     "output_type": "stream",
     "text": [
      "items数字： 6\n"
     ]
    }
   ],
   "source": [
    "#列出选项数目\n",
    "fruits=[\"Banana\",\"Watermelon\",\"Pineapple\",\"Orange\",\"Grapes\",\"Mango\"]\n",
    "root=Tk()\n",
    "root.title(\"ch12_7\")\n",
    "root.geometry(\"300x210\")\n",
    "\n",
    "lb=Listbox(root,selectmode=EXTENDED)\n",
    "for fruit in fruits:\n",
    "    lb.insert(END,fruit)\n",
    "    \n",
    "lb.pack(pady=10)\n",
    "print(\"items数字：\",lb.size())\n",
    "root.mainloop()"
   ]
  },
  {
   "cell_type": "code",
   "execution_count": 7,
   "metadata": {},
   "outputs": [],
   "source": [
    "#设定初次选择项目索引为2\n",
    "\n",
    "fruits=[\"Banana\",\"watermelon\",\"pineapple\"]\n",
    "\n",
    "root=Tk()\n",
    "root.title(\"ch12_8\")\n",
    "root.geometry(\"300x210\")\n",
    "\n",
    "lb=Listbox(root)\n",
    "for fruit in fruits:\n",
    "    lb.insert(END,fruit)\n",
    "lb.pack(pady=10)\n",
    "lb.selection_set(2)\n",
    "\n",
    "root.mainloop()"
   ]
  },
  {
   "cell_type": "code",
   "execution_count": 12,
   "metadata": {},
   "outputs": [],
   "source": [
    "#建立列表框后删除索引为1的项目\n",
    "\n",
    "fruits=[\"banana\",\"watermelon\",\"pineapple\"]\n",
    "\n",
    "root=Tk()\n",
    "root.title(\"ch12_10\")\n",
    "root.geometry(\"300x210\")\n",
    "\n",
    "lb=Listbox(root)\n",
    "for fruit in fruits:\n",
    "    lb.insert(END,fruit)\n",
    "lb.pack(pady=10)\n",
    "lb.delete(1)\n",
    "root.mainloop()"
   ]
  },
  {
   "cell_type": "code",
   "execution_count": 14,
   "metadata": {},
   "outputs": [
    {
     "name": "stdout",
     "output_type": "stream",
     "text": [
      "('watermelon', 'pineapple')\n"
     ]
    }
   ],
   "source": [
    "#传回索引为1的项目\n",
    "\n",
    "fruits=[\"banana\",\"watermelon\",\"pineapple\"]\n",
    "\n",
    "root=Tk()\n",
    "root.title(\"ch12_12\")\n",
    "root.geometry(\"300x210\")\n",
    "\n",
    "lb=Listbox(root)\n",
    "for fruit in fruits:\n",
    "    lb.insert(END,fruit)\n",
    "lb.pack(pady=10)\n",
    "print(lb.get(1,2))\n",
    "\n",
    "root.mainloop()"
   ]
  },
  {
   "cell_type": "code",
   "execution_count": 16,
   "metadata": {},
   "outputs": [],
   "source": [
    "#选择选项时，若单击Print按钮可以在Python Shell窗口中打印所选取内容。\n",
    "\n",
    "def callback():\n",
    "    indexs=lb.curselection()\n",
    "    for index in indexs:\n",
    "        print(lb.get(index))\n",
    "        \n",
    "fruits=[\"banana\",\"watermelon\",\"pineapple\"]\n",
    "\n",
    "root=Tk()\n",
    "root.title(\"ch12_14\")\n",
    "root.geometry(\"300x250\")\n",
    "\n",
    "lb=Listbox(root,selectmode=MULTIPLE)\n",
    "for fruit in fruits:\n",
    "    lb.insert(END,fruit)\n",
    "lb.pack(pady=5)\n",
    "btn=Button(root,text=\"Print\",command=callback)\n",
    "btn.pack(pady=5)\n",
    "\n",
    "root.mainloop()"
   ]
  },
  {
   "cell_type": "code",
   "execution_count": 19,
   "metadata": {},
   "outputs": [],
   "source": [
    "#检查索引1的项目是否被选取，如果被选取单击Check按钮可以显示True，否则显示False\n",
    "\n",
    "def callback():                               #打印检查结果\n",
    "    print(lb.selection_includes(1))\n",
    "    \n",
    "fruits=[\"banana\",\"watermelon\",\"pineapple\"]\n",
    "\n",
    "root=Tk()\n",
    "root.title(\"ch12_15\")\n",
    "root.geometry(\"300x250\")\n",
    "\n",
    "lb=Listbox(root,selectmode=MULTIPLE)\n",
    "for fruit in fruits:\n",
    "    lb.insert(END,fruit)\n",
    "lb.pack(pady=5)\n",
    "btn=Button(root,text=\"Check\",command=callback)\n",
    "btn.pack(pady=5)\n",
    "\n",
    "root.mainloop()"
   ]
  },
  {
   "cell_type": "markdown",
   "metadata": {},
   "source": [
    "- 虚拟绑定应用于单选\n",
    " - 当Listbox执行选取操作时会产生<<ListboxSelect\\>>虚拟事件，可由此设置事件处理程序"
   ]
  },
  {
   "cell_type": "code",
   "execution_count": 20,
   "metadata": {},
   "outputs": [],
   "source": [
    "#当选择Listbox中的项目时，可以在上方列出所选的项目\n",
    "\n",
    "def itemSelected(event):                     #列出所选单一项目\n",
    "    obj=event.widget                         #取得事件的对象\n",
    "    index=obj.curselection()\n",
    "    var.set(obj.get(index))\n",
    "    \n",
    "fruits=[\"banana\",\"watermelon\",\"pineapple\"]\n",
    "\n",
    "root=Tk()\n",
    "root.title(\"ch12_16\")\n",
    "root.geometry(\"300x250\")\n",
    "\n",
    "var=StringVar()\n",
    "lab=Label(root,text=\"\",textvariable=var)\n",
    "lab.pack(pady=5)\n",
    "\n",
    "lb=Listbox(root)\n",
    "for fruit in fruits:\n",
    "    lb.insert(END,fruit)\n",
    "lb.bind(\"<<ListboxSelect>>\",itemSelected)\n",
    "lb.pack(pady=5)\n",
    "\n",
    "root.mainloop()"
   ]
  },
  {
   "cell_type": "code",
   "execution_count": 21,
   "metadata": {},
   "outputs": [],
   "source": [
    "#上例中先取得了事件对象obj，再利用obj对象取得所选的项目索引，再由索引取得所选的项目。\n",
    "#修改itemSelected()方法，直接使用原先的Listbox对象lb实现目的\n",
    "\n",
    "def itemSelected(event):\n",
    "    index=lb.curselection()\n",
    "    var.set(lb.get(index))\n",
    "    \n",
    "fruits=[\"banana\",\"watermelon\",\"pineapple\"]\n",
    "\n",
    "root=Tk()\n",
    "root.title(\"ch12_16\")\n",
    "root.geometry(\"300x250\")\n",
    "\n",
    "var=StringVar()\n",
    "lab=Label(root,text=\"\",textvariable=var)\n",
    "lab.pack(pady=5)\n",
    "\n",
    "lb=Listbox(root)\n",
    "for fruit in fruits:\n",
    "    lb.insert(END,fruit)\n",
    "lb.bind(\"<<ListboxSelect>>\",itemSelected)\n",
    "lb.pack(pady=5)\n",
    "\n",
    "root.mainloop()"
   ]
  },
  {
   "cell_type": "code",
   "execution_count": 22,
   "metadata": {},
   "outputs": [],
   "source": [
    "#使用双击<Double-Button-1>方式处理，将所选项目放在标签上。\n",
    "\n",
    "def itemSelected(event):\n",
    "    index=lb.curselection()\n",
    "    var.set(lb.get(index))\n",
    "    \n",
    "fruits=[\"banana\",\"watermelon\",\"pineapple\"]\n",
    "\n",
    "root=Tk()\n",
    "root.title(\"ch12_16\")\n",
    "root.geometry(\"300x250\")\n",
    "\n",
    "var=StringVar()\n",
    "lab=Label(root,text=\"\",textvariable=var)\n",
    "lab.pack(pady=5)\n",
    "\n",
    "lb=Listbox(root)\n",
    "for fruit in fruits:\n",
    "    lb.insert(END,fruit)\n",
    "lb.bind(\"<Double-Button-1>\",itemSelected)\n",
    "lb.pack(pady=5)\n",
    "\n",
    "root.mainloop()"
   ]
  },
  {
   "cell_type": "markdown",
   "metadata": {},
   "source": [
    "- 虚拟绑定应用于多选"
   ]
  },
  {
   "cell_type": "code",
   "execution_count": 25,
   "metadata": {},
   "outputs": [
    {
     "name": "stdout",
     "output_type": "stream",
     "text": [
      "watermelon\n",
      "------------\n"
     ]
    }
   ],
   "source": [
    "#当选择多项时，这些被选的项目将被打印出来。\n",
    "\n",
    "def itemSelected(event):                    #打印所选结果\n",
    "    obj=event.widget                        #取得事件的对象\n",
    "    indexs=obj.curselection()               #取得索引\n",
    "    for index in indexs:\n",
    "        print(obj.get(index))\n",
    "    print(\"------------\")                   #分隔输出\n",
    "    \n",
    "fruits=[\"banana\",\"watermelon\",\"pineapple\"]\n",
    "\n",
    "root=Tk()\n",
    "root.title(\"ch12_18\")\n",
    "root.geometry(\"300x250\")\n",
    "\n",
    "var=StringVar()\n",
    "lab=Label(root,text=\"\",textvariable=var)\n",
    "lab.pack(pady=5)\n",
    "\n",
    "lb=Listbox(root,selectmode=EXTENDED)\n",
    "for fruit in fruits:\n",
    "    lb.insert(END,fruit)\n",
    "lb.bind(\"<<ListboxSelect>>\",itemSelected)\n",
    "lb.pack(pady=5)\n",
    "\n",
    "root.mainloop()"
   ]
  },
  {
   "cell_type": "code",
   "execution_count": 26,
   "metadata": {},
   "outputs": [],
   "source": [
    "#***************************************增加与删除项目的操作*****************************************\n",
    "#Entry是输入控件，在此输入项目，输入完项目后单击“增加”按钮，Entry中的项目就会被加入Listbox，同时Entry将被清空。\n",
    "#若是选择Listbox内的项目后再单击“删除”按钮，可以将所选的项目删除。\n",
    "\n",
    "def itemAdded():                                #增加项目处理程序\n",
    "    varAdd=entry.get()\n",
    "    #笔记：str.strip(),返回移除字符串首尾指定的字符或字符序列生成的新字符串，默认移除空格或换行符\n",
    "    if (len(varAdd.strip())==0):                #没有增加不处理\n",
    "        return\n",
    "    lb.insert(END,varAdd)                       #将项目增加到Listbox\n",
    "    entry.delete(0,END)                         #删除Entry的内容\n",
    "    \n",
    "def itemDeleted():                              #删除项目处理程序\n",
    "    index=lb.curselection()                     #取得所选项目索引\n",
    "    if (len(index)==0):                         #如果长度是0表示没有选取\n",
    "        return\n",
    "    lb.delete(index)                            #删除选项\n",
    "    \n",
    "root=Tk()\n",
    "root.title(\"ch12_19\")\n",
    "\n",
    "entry=Entry(root)\n",
    "entry.grid(row=0,column=0,padx=5,pady=5)\n",
    "\n",
    "#建立“增加”按钮\n",
    "btnAdd=Button(root,text=\"增加\",width=10,command=itemAdded)\n",
    "btnAdd.grid(row=0,column=1,padx=5,pady=5)\n",
    "\n",
    "#建立Listbox\n",
    "lb=Listbox(root)\n",
    "lb.grid(row=1,column=0,columnspan=2,padx=5,pady=5,sticky=W)\n",
    "\n",
    "#建立“删除”按钮\n",
    "btnDel=Button(root,text=\"删除\",width=10,command=itemDeleted)\n",
    "btnDel.grid(row=2,column=0,padx=5,pady=5,sticky=W)\n",
    "\n",
    "root.mainloop()"
   ]
  },
  {
   "cell_type": "markdown",
   "metadata": {},
   "source": [
    "- Listbox项目的排序\n",
    "- **笔记**:内建函数sorted(iterable,key=None,reverse=False)\n",
    " - iterable:可迭代对象，不一定必须是列表对象，凡是可迭代的都行，如元组\n",
    " - reverse:True降序，False升序（默认）"
   ]
  },
  {
   "cell_type": "code",
   "execution_count": 30,
   "metadata": {},
   "outputs": [],
   "source": [
    "#单击“排序”按钮时默认是从小到大排序，若是勾选复选框再单击“排序”按钮将从大到小排序。\n",
    "\n",
    "def itemSorted():                          #排序\n",
    "    if (var.get()==True):                  #如果设置\n",
    "        revBool=True                       #从大到小排序是True\n",
    "    else:\n",
    "        revBool=False                      #从大到小排序是False\n",
    "    listTmp=list(lb.get(0,END))            #取得项目内容\n",
    "    sortedList=sorted(listTmp,reverse=revBool)    #执行排序\n",
    "    lb.delete(0,END)                       #删除原先Listbox内容\n",
    "    for item in sortedList:                #将排序结果插入Listbox\n",
    "        lb.insert(END,item)\n",
    "        \n",
    "fruits=[\"Banana\",\"Watermelon\",\"Pineapple\",\"Orange\",\"Grapes\",\"Mango\"]\n",
    "\n",
    "root=Tk()\n",
    "root.title(\"ch12_20\")\n",
    "\n",
    "lb=Listbox(root)\n",
    "for fruit in fruits:\n",
    "    lb.insert(END,fruit)\n",
    "lb.pack(padx=10,pady=5)\n",
    "\n",
    "#创建“排序”按钮\n",
    "btn=Button(root,text=\"排序\",command=itemSorted)\n",
    "btn.pack(side=LEFT,padx=10,pady=5)\n",
    "#建立排序设置复选框\n",
    "var=BooleanVar()\n",
    "cb=Checkbutton(root,text=\"从大到小排序\",variable=var)\n",
    "cb.pack(side=LEFT)\n",
    "\n",
    "root.mainloop()"
   ]
  },
  {
   "cell_type": "markdown",
   "metadata": {},
   "source": [
    "- 拖曳Listbox中的项目\n",
    "- 假设lb是Listbox对象，则```lb.nearest(event.y)```可传回最接近y坐标在Listbox中的索引，由此```lb.index=lb.nearest(event.y)```可用于获得当前鼠标所在位置的项目索引"
   ]
  },
  {
   "cell_type": "code",
   "execution_count": 42,
   "metadata": {},
   "outputs": [],
   "source": [
    "#先建立Listbox，然后可以拖曳所选的项目\n",
    "#注意：拖曳过程中，选项的新索引需专门用代码更新，即lb.index=newIndex\n",
    "\n",
    "def getIndex(event):                    #处理单击选项\n",
    "    lb.index=lb.nearest(event.y)        #目前选项的索引\n",
    "    \n",
    "def dragJob(event):                     #处理拖曳选项\n",
    "    newIndex=lb.nearest(event.y)        #目前选项的新索引\n",
    "    if newIndex<lb.index:               #往上拖曳\n",
    "        x=lb.get(newIndex)              #获得新位置内容\n",
    "        lb.delete(newIndex)             #删除新位置内容\n",
    "        lb.insert(newIndex+1,x)         #放回原先新位置的内容\n",
    "        lb.index=newIndex               #选项的新索引\n",
    "    elif newIndex>lb.index:             #往下拖曳\n",
    "        x=lb.get(newIndex)              #获得新位置内容\n",
    "        lb.delete(newIndex)             #删除新位置内容\n",
    "        lb.insert(newIndex-1,x)         #放回原先新位置的内容\n",
    "        lb.index=newIndex               #选项的新索引\n",
    "        \n",
    "fruits=[\"banana\",\"watermelon\",\"pineapple\"]\n",
    "root=Tk()\n",
    "root.title(\"ch12_21\")\n",
    "\n",
    "lb=Listbox(root)\n",
    "for fruit in fruits:\n",
    "    lb.insert(END,fruit)\n",
    "lb.bind(\"<Button-1>\",getIndex)             #单击绑定getIndex\n",
    "lb.bind(\"<B1-Motion>\",dragJob)             #拖曳绑定dragJob\n",
    "lb.pack(padx=10,pady=10)\n",
    "\n",
    "root.mainloop()"
   ]
  },
  {
   "cell_type": "markdown",
   "metadata": {},
   "source": [
    "- 滚动条Scrollbar的设计\n",
    "- 可应用在Listbox，也可应用在Text和Canvas控件上\n",
    "- Scrollbar(父对象,options,...)\n",
    " - activebackground:当光标经过滚动条时，滚动条和方向箭头的颜色\n",
    " - background(bg):当光标没有经过滚动条时，滚动条和方向箭头的颜色\n",
    " - borderwidth(bd):边界宽度，默认是2个像素\n",
    " - command:滚动条移动时所触发的方法\n",
    " - cursor:当鼠标光标在滚动条上时的光标形状\n",
    " - elementborderwidth:滚动条和方向箭头的外部宽度，默认是1\n",
    " - highlightbackground:当滚动条没有获得焦点时的颜色\n",
    " - highlightcolor:当滚动条获得焦点时的颜色\n",
    " - highlightthickness:当获得焦点时的厚度，默认是1\n",
    " - jump:每次短距离地拖曳滚动条时都会触发command方法，默认是0，若设为1，则只有放开鼠标按键时才会触发command方法\n",
    " - orient:可设置HORIZONTAL/VERTICAL分别是水平轴/垂直轴\n",
    " - repeatdelay:单位是ms，默认是300ms，可以设置按住滚动条移动的停滞时间\n",
    " - takefocus:正常可以用按Tab键的方式切换滚动条成为焦点，若设为0则取消此设置\n",
    " - troughcolor:滚动条槽的颜色\n",
    " - width:滚动条宽，默认是16"
   ]
  },
  {
   "cell_type": "markdown",
   "metadata": {},
   "source": [
    "- 下例中，将Listbox的选项参数yscrollcommand设为scrollbar.set，表示将Listbox与滚动条做联动，即滑动Listbox的选项，滚动条会相应移动。\n",
    "- 下例中，scrollbar.config()方法主要是为scrollbar对象设置选择性参数内容，此例是设置command参数，也就是当移动滚动条时，会执行所指定的方法，这里是执行Listbox对象lb的yview()方法,**似乎是让滚动条可以用鼠标控制滚动的方法**。"
   ]
  },
  {
   "cell_type": "code",
   "execution_count": 48,
   "metadata": {},
   "outputs": [],
   "source": [
    "#在Listbox中创建垂直滚动条\n",
    "\n",
    "root=Tk()\n",
    "root.title(\"ch12_22\")\n",
    "\n",
    "scrollbar=Scrollbar(root)\n",
    "scrollbar.pack(side=RIGHT,fill=Y)\n",
    "\n",
    "#创建Listbox，yscrollcommand指向scrollbar.set方法\n",
    "lb=Listbox(root,yscrollcommand=scrollbar.set)\n",
    "for i in range(50):                          #建立50个选项\n",
    "    lb.insert(END,\"Line \"+str(i))\n",
    "lb.pack(side=LEFT,fill=BOTH,expand=True)\n",
    "\n",
    "scrollbar.config(command=lb.yview)\n",
    "\n",
    "root.mainloop()"
   ]
  }
 ],
 "metadata": {
  "kernelspec": {
   "display_name": "Python 3",
   "language": "python",
   "name": "python3"
  },
  "language_info": {
   "codemirror_mode": {
    "name": "ipython",
    "version": 3
   },
   "file_extension": ".py",
   "mimetype": "text/x-python",
   "name": "python",
   "nbconvert_exporter": "python",
   "pygments_lexer": "ipython3",
   "version": "3.7.4"
  }
 },
 "nbformat": 4,
 "nbformat_minor": 2
}
