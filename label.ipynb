{
 "cells": [
  {
   "cell_type": "markdown",
   "metadata": {},
   "source": [
    "- Label(父对象,options,...)"
   ]
  },
  {
   "cell_type": "code",
   "execution_count": 1,
   "metadata": {},
   "outputs": [],
   "source": [
    "from tkinter import *"
   ]
  },
  {
   "cell_type": "code",
   "execution_count": 2,
   "metadata": {},
   "outputs": [],
   "source": [
    "root=Tk()"
   ]
  },
  {
   "cell_type": "code",
   "execution_count": 3,
   "metadata": {},
   "outputs": [
    {
     "name": "stdout",
     "output_type": "stream",
     "text": [
      "<class 'tkinter.Label'>\n"
     ]
    }
   ],
   "source": [
    "root.title(\"ch2_1\")\n",
    "label=Label(root,text=\"i like tkinter\")\n",
    "label.pack() #包装与定位组件\n",
    "print(type(label)) #返回Label数据类型\n",
    "root.mainloop()"
   ]
  },
  {
   "cell_type": "markdown",
   "metadata": {},
   "source": [
    "- 上述label.pack()可以与前面一句合并成lable=Label(root,text=\"i like tkinter\").pack()"
   ]
  },
  {
   "cell_type": "code",
   "execution_count": 4,
   "metadata": {},
   "outputs": [
    {
     "name": "stdout",
     "output_type": "stream",
     "text": [
      "<class 'NoneType'>\n"
     ]
    }
   ],
   "source": [
    "#示例\n",
    "root=Tk()\n",
    "label=Label(root,text=\"i like tkinter\").pack()\n",
    "print(type(label))\n",
    "root.mainloop()"
   ]
  },
  {
   "cell_type": "markdown",
   "metadata": {},
   "source": [
    "从上例可看到，label类型不再是tkinter.Label，因此无法再对label继续进一步操作，所以设计时最好使用第一种代码，即将.pack()与对象声明分开。"
   ]
  },
  {
   "cell_type": "markdown",
   "metadata": {},
   "source": [
    "- fg/foreground, 设置前景色彩"
   ]
  },
  {
   "cell_type": "code",
   "execution_count": 1,
   "metadata": {},
   "outputs": [],
   "source": [
    "from tkinter import *"
   ]
  },
  {
   "cell_type": "code",
   "execution_count": 4,
   "metadata": {},
   "outputs": [],
   "source": [
    "root = Tk()\n",
    "root.title(\"ch2_3\")\n",
    "label=Label(root,text=\"i like tkinter\",fg=\"blue\",bg=\"yellow\")\n",
    "label.pack()\n",
    "root.mainloop()"
   ]
  },
  {
   "cell_type": "code",
   "execution_count": 5,
   "metadata": {},
   "outputs": [],
   "source": [
    "root=Tk()\n",
    "root.title(\"ch2_4\")\n",
    "label=Label(root,text=\"i like tkinter\",fg=\"blue\",bg=\"yellow\",height=3,width=15) #height设置标签高度,width设置标签宽度\n",
    "label.pack()\n",
    "root.mainloop()"
   ]
  },
  {
   "cell_type": "markdown",
   "metadata": {},
   "source": [
    "- anchor,设置标签文字在标签区域输出的位置，有nw,n,ne,w,center,e,sw,s,se"
   ]
  },
  {
   "cell_type": "code",
   "execution_count": 8,
   "metadata": {},
   "outputs": [],
   "source": [
    "root=Tk()\n",
    "root.title(\"ch2_6\")\n",
    "label=Label(root,text=\"i\",fg=\"blue\",bg=\"yellow\",height=3,width=15,anchor=\"nw\")\n",
    "label.pack()\n",
    "root.mainloop()"
   ]
  },
  {
   "cell_type": "markdown",
   "metadata": {},
   "source": [
    "- wraplength,设置标签中的文字在多少宽度后自动换行"
   ]
  },
  {
   "cell_type": "code",
   "execution_count": 10,
   "metadata": {},
   "outputs": [],
   "source": [
    "root=Tk()\n",
    "root.title(\"ch2_7\")\n",
    "label=Label(root,text=\"i like tkinter\",fg=\"blue\",bg=\"yellow\",height=3,width=15,anchor=\"nw\",wraplength=40)\n",
    "label.pack()\n",
    "root.mainloop()"
   ]
  },
  {
   "cell_type": "markdown",
   "metadata": {},
   "source": [
    "- font,设置文字字形"
   ]
  },
  {
   "cell_type": "code",
   "execution_count": 11,
   "metadata": {},
   "outputs": [],
   "source": [
    "root=Tk()\n",
    "root.title(\"ch2_8\")\n",
    "label=Label(root,text=\"i like tkinter\",fg=\"blue\",bg=\"yellow\",height=3,width=15,font=\"Helvetic 20 bold\")\n",
    "label.pack()\n",
    "root.mainloop()"
   ]
  },
  {
   "cell_type": "markdown",
   "metadata": {},
   "source": [
    "- justify,设置最后一行是left/center/right（靠左/居中/靠右）输出，默认居中"
   ]
  },
  {
   "cell_type": "code",
   "execution_count": 14,
   "metadata": {},
   "outputs": [],
   "source": [
    "root=Tk()\n",
    "root.title(\"ch2_9\")\n",
    "label=Label(root,text=\"abcdefghijklmnopqrstuvwxyz\",fg=\"blue\",bg=\"yellow\",wraplength=80,justify=\"left\")\n",
    "label.pack()\n",
    "root.mainloop()"
   ]
  },
  {
   "cell_type": "markdown",
   "metadata": {},
   "source": [
    "- bitmap,设置标签内建位图，参数有error,hourglass,info,questhead,question,warning,gray12,gray25,gray50,gray75"
   ]
  },
  {
   "cell_type": "code",
   "execution_count": 15,
   "metadata": {},
   "outputs": [],
   "source": [
    "root=Tk()\n",
    "root.title(\"ch2_13\")\n",
    "label=Label(root,bitmap=\"hourglass\")\n",
    "label.pack()\n",
    "root.mainloop()"
   ]
  },
  {
   "cell_type": "markdown",
   "metadata": {},
   "source": [
    "- compound,图像与文字共存时，使用其定义文字与图像的位置关系。参数有left,right,top,bottom,center,对应图像在左，右，上，下，文字覆盖在图像上方"
   ]
  },
  {
   "cell_type": "code",
   "execution_count": 7,
   "metadata": {},
   "outputs": [],
   "source": [
    "from tkinter import *"
   ]
  },
  {
   "cell_type": "code",
   "execution_count": 9,
   "metadata": {},
   "outputs": [],
   "source": [
    "root=Tk()\n",
    "root.title(\"ch2_14\")\n",
    "label=Label(root,bitmap=\"error\",compound=\"center\",text=\"我的天空\")\n",
    "label.pack()\n",
    "root.mainloop()"
   ]
  },
  {
   "cell_type": "markdown",
   "metadata": {},
   "source": [
    "- relief,建立控件的边框，参数有flat,groove,raised,ridge,solid,sunken"
   ]
  },
  {
   "cell_type": "code",
   "execution_count": 14,
   "metadata": {},
   "outputs": [],
   "source": [
    "root=Tk()\n",
    "root.title(\"ch2_17\")\n",
    "label=Label(root,text=\"raised\",relief=\"raised\")\n",
    "label.pack()\n",
    "root.mainloop()"
   ]
  },
  {
   "cell_type": "markdown",
   "metadata": {},
   "source": [
    "- padx/pady,设置标签文字与标签边框的距离，padx设置文字左右边界与边框的距离，pady设置文字上下边界与边框的距离"
   ]
  },
  {
   "cell_type": "code",
   "execution_count": 51,
   "metadata": {},
   "outputs": [],
   "source": [
    "root=Tk()\n",
    "root.title(\"ch2_18\")\n",
    "label=Label(root,text=\"raised\",relief=\"raised\",bg=\"lightyellow\",padx=5,pady=10)\n",
    "label.pack()\n",
    "root.mainloop()"
   ]
  },
  {
   "cell_type": "markdown",
   "metadata": {},
   "source": [
    "- PhotoImage(file=\"xxx.gif\"),建立图像对象，再将此对象应用在其他组件（如标签、按钮）上，支持gif和png格式，不支持jpg。\n",
    "- 建立好图像对象后，在Label()方法内可使用image=imageobj参数设置此图像对象。"
   ]
  },
  {
   "cell_type": "code",
   "execution_count": 3,
   "metadata": {},
   "outputs": [],
   "source": [
    "from tkinter import *\n",
    "root=Tk()\n",
    "root.title(\"ch2_19\")\n",
    "test_gif=PhotoImage(file=\"test.gif\")\n",
    "label=Label(root,image=test_gif)\n",
    "label.pack()\n",
    "root.mainloop()"
   ]
  },
  {
   "cell_type": "markdown",
   "metadata": {},
   "source": [
    "- 要想在标签内显示jpg文件，需要借助PIL模块的Image和ImageTk模块"
   ]
  },
  {
   "cell_type": "code",
   "execution_count": 8,
   "metadata": {},
   "outputs": [],
   "source": [
    "from PIL import Image,ImageTk\n",
    "root=Tk()\n",
    "root.title(\"ch2_19_1\")\n",
    "root.geometry(\"800x600\")\n",
    "image=Image.open(\"test2.jpeg\")\n",
    "test2=ImageTk.PhotoImage(image)\n",
    "label=Label(root,image=test2)\n",
    "label.pack()\n",
    "root.mainloop()"
   ]
  },
  {
   "cell_type": "code",
   "execution_count": 17,
   "metadata": {},
   "outputs": [],
   "source": [
    "# 使用compound参数使图像与文字标签共存。\n",
    "# bitmap参数与image参数不能共存，若同时出现，则bitmap参数不起作用。\n",
    "root=Tk()\n",
    "root.title(\"ch2_20\")\n",
    "sseText=\"\"\"sse全名是silicon stone education,这家公司在美国，\n",
    "这是国际专业证照公司，产品多元与丰富。\"\"\"\n",
    "sse_gif=PhotoImage(file=\"test.gif\")\n",
    "label=Label(root,text=sseText,image=sse_gif,bg=\"lightyellow\",compound=\"left\",justify=\"left\")\n",
    "label.pack()\n",
    "root.mainloop()"
   ]
  },
  {
   "cell_type": "markdown",
   "metadata": {},
   "source": [
    "- config()方法，控件（如标签）在建立时可直接设置对象属性，若部分属性未建立，则可以在程序执行时用config()方法建立或更改属性，此方法内属性设置的参数与第一次建立控件时相同。"
   ]
  },
  {
   "cell_type": "code",
   "execution_count": 22,
   "metadata": {},
   "outputs": [],
   "source": [
    "# 该示例是一个计数器，会每秒更新一次计数器内容。\n",
    "# 使用了标签的config()方法来更新计数。\n",
    "# digit.after()方法，第一个参数1000表示隔一秒会调用第二个参数指代的函数，如这里是调用counting函数。\n",
    "counter=0 #计数的全局变量\n",
    "\n",
    "def run_counter(digit): #数字变量内容的更新\n",
    "    def counting(): #更新数字方法\n",
    "        global counter\n",
    "        counter+=1 #定义全局变量\n",
    "        digit.config(text=str(counter)) #列出数字内容\n",
    "        digit.after(1000,counting) #隔一秒后调用counting\n",
    "    counting()\n",
    "\n",
    "root=Tk()\n",
    "root.title(\"ch2_23\")\n",
    "digit=Label(root,bg=\"yellow\",fg=\"blue\",height=3,width=10,font=\"Helvetic 20 bold\") #黄底蓝字，宽10高3，字形设置\n",
    "digit.pack()\n",
    "run_counter(digit) #调用数字更新方法\n",
    "root.mainloop()"
   ]
  },
  {
   "cell_type": "markdown",
   "metadata": {},
   "source": [
    "- cursor,有些控件（如标签）的参数中有cursor，可由此设置光标在此控件上时的形状。若省略，则系统沿用光标在父容器上的形状。"
   ]
  },
  {
   "cell_type": "code",
   "execution_count": 24,
   "metadata": {
    "collapsed": true
   },
   "outputs": [],
   "source": [
    "root=Tk()\n",
    "root.title(\"ch2_24\")\n",
    "label=Label(root,text=\"raised\",relief=\"raised\",bg=\"lightyellow\",padx=5,pady=10,cursor=\"star\") #光标形状为星形\n",
    "label.pack()\n",
    "root.mainloop()"
   ]
  },
  {
   "cell_type": "markdown",
   "metadata": {},
   "source": [
    "- keys()，所有控件的共同方法，用此方法可以以列表返回该控件所有的参数。"
   ]
  },
  {
   "cell_type": "code",
   "execution_count": 26,
   "metadata": {},
   "outputs": [
    {
     "name": "stdout",
     "output_type": "stream",
     "text": [
      "['activebackground', 'activeforeground', 'anchor', 'background', 'bd', 'bg', 'bitmap', 'borderwidth', 'compound', 'cursor', 'disabledforeground', 'fg', 'font', 'foreground', 'height', 'highlightbackground', 'highlightcolor', 'highlightthickness', 'image', 'justify', 'padx', 'pady', 'relief', 'state', 'takefocus', 'text', 'textvariable', 'underline', 'width', 'wraplength']\n"
     ]
    }
   ],
   "source": [
    "root=Tk()\n",
    "root.title(\"ch2_25\")\n",
    "label=Label(root,text=\"i like tkinter\")\n",
    "label.pack()\n",
    "print(label.keys())\n",
    "root.mainloop()"
   ]
  },
  {
   "cell_type": "markdown",
   "metadata": {},
   "source": [
    "- tkinter.ttk中有Separator模块，用于增加分隔线。\n",
    "- Separator(父对象,orient=options)，options参数是HORIZONTAL/VERTICAL。"
   ]
  },
  {
   "cell_type": "code",
   "execution_count": 46,
   "metadata": {},
   "outputs": [],
   "source": [
    "from tkinter.ttk import Separator\n",
    "root=Tk()\n",
    "root.title(\"ch2_26\")\n",
    "myTitle=\"一个人的极境旅行\"\n",
    "myContent=\"\"\"2016年12月，我一个人订了机票和船票，\n",
    "开始我的南极旅行，飞机经迪拜再往阿根廷的乌斯怀亚，\n",
    "在此我登上邮轮开始我的南极之旅\"\"\"\n",
    "lab1=Label(root,text=myTitle,font=\"Helvetic 20 bold\",relief=\"raised\")\n",
    "lab1.pack(padx=10,pady=10)\n",
    "sep=Separator(root,orient=HORIZONTAL)\n",
    "sep.pack(fill=X,padx=5)\n",
    "lab2=Label(root,text=myContent,relief=\"raised\")\n",
    "lab2.pack(padx=10,pady=10)\n",
    "root.mainloop()"
   ]
  }
 ],
 "metadata": {
  "kernelspec": {
   "display_name": "Python 3",
   "language": "python",
   "name": "python3"
  },
  "language_info": {
   "codemirror_mode": {
    "name": "ipython",
    "version": 3
   },
   "file_extension": ".py",
   "mimetype": "text/x-python",
   "name": "python",
   "nbconvert_exporter": "python",
   "pygments_lexer": "ipython3",
   "version": "3.7.4"
  }
 },
 "nbformat": 4,
 "nbformat_minor": 2
}
