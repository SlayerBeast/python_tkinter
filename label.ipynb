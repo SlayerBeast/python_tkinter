{
 "cells": [
  {
   "cell_type": "markdown",
   "metadata": {},
   "source": [
    "- Label(父对象,options,...)"
   ]
  },
  {
   "cell_type": "code",
   "execution_count": 1,
   "metadata": {},
   "outputs": [],
   "source": [
    "from tkinter import *"
   ]
  },
  {
   "cell_type": "code",
   "execution_count": 2,
   "metadata": {},
   "outputs": [],
   "source": [
    "root=Tk()"
   ]
  },
  {
   "cell_type": "code",
   "execution_count": 3,
   "metadata": {},
   "outputs": [
    {
     "name": "stdout",
     "output_type": "stream",
     "text": [
      "<class 'tkinter.Label'>\n"
     ]
    }
   ],
   "source": [
    "root.title(\"ch2_1\")\n",
    "label=Label(root,text=\"i like tkinter\")\n",
    "label.pack() #包装与定位组件\n",
    "print(type(label)) #返回Label数据类型\n",
    "root.mainloop()"
   ]
  },
  {
   "cell_type": "markdown",
   "metadata": {},
   "source": [
    "- 上述label.pack()可以与前面一句合并成lable=Label(root,text=\"i like tkinter\").pack()"
   ]
  },
  {
   "cell_type": "code",
   "execution_count": 4,
   "metadata": {},
   "outputs": [
    {
     "name": "stdout",
     "output_type": "stream",
     "text": [
      "<class 'NoneType'>\n"
     ]
    }
   ],
   "source": [
    "#示例\n",
    "root=Tk()\n",
    "label=Label(root,text=\"i like tkinter\").pack()\n",
    "print(type(label))\n",
    "root.mainloop()"
   ]
  },
  {
   "cell_type": "markdown",
   "metadata": {},
   "source": [
    "从上例可看到，label类型不再是tkinter.Label，因此无法再对label继续进一步操作，所以设计时最好使用第一种代码，即将.pack()与对象声明分开。"
   ]
  },
  {
   "cell_type": "markdown",
   "metadata": {},
   "source": [
    "- fg/foreground, 设置前景色彩"
   ]
  },
  {
   "cell_type": "code",
   "execution_count": 1,
   "metadata": {},
   "outputs": [],
   "source": [
    "from tkinter import *"
   ]
  },
  {
   "cell_type": "code",
   "execution_count": 4,
   "metadata": {},
   "outputs": [],
   "source": [
    "root = Tk()\n",
    "root.title(\"ch2_3\")\n",
    "label=Label(root,text=\"i like tkinter\",fg=\"blue\",bg=\"yellow\")\n",
    "label.pack()\n",
    "root.mainloop()"
   ]
  },
  {
   "cell_type": "code",
   "execution_count": 5,
   "metadata": {},
   "outputs": [],
   "source": [
    "root=Tk()\n",
    "root.title(\"ch2_4\")\n",
    "label=Label(root,text=\"i like tkinter\",fg=\"blue\",bg=\"yellow\",height=3,width=15) #height设置标签高度,width设置标签宽度\n",
    "label.pack()\n",
    "root.mainloop()"
   ]
  },
  {
   "cell_type": "markdown",
   "metadata": {},
   "source": [
    "- anchor,设置标签文字在标签区域输出的位置，有nw,n,ne,w,center,e,sw,s,se"
   ]
  },
  {
   "cell_type": "code",
   "execution_count": 8,
   "metadata": {},
   "outputs": [],
   "source": [
    "root=Tk()\n",
    "root.title(\"ch2_6\")\n",
    "label=Label(root,text=\"i\",fg=\"blue\",bg=\"yellow\",height=3,width=15,anchor=\"nw\")\n",
    "label.pack()\n",
    "root.mainloop()"
   ]
  },
  {
   "cell_type": "markdown",
   "metadata": {},
   "source": [
    "- wraplength,设置标签中的文字在多少宽度后自动换行"
   ]
  },
  {
   "cell_type": "code",
   "execution_count": 10,
   "metadata": {},
   "outputs": [],
   "source": [
    "root=Tk()\n",
    "root.title(\"ch2_7\")\n",
    "label=Label(root,text=\"i like tkinter\",fg=\"blue\",bg=\"yellow\",height=3,width=15,anchor=\"nw\",wraplength=40)\n",
    "label.pack()\n",
    "root.mainloop()"
   ]
  },
  {
   "cell_type": "markdown",
   "metadata": {},
   "source": [
    "- font,设置文字字形"
   ]
  },
  {
   "cell_type": "code",
   "execution_count": 11,
   "metadata": {},
   "outputs": [],
   "source": [
    "root=Tk()\n",
    "root.title(\"ch2_8\")\n",
    "label=Label(root,text=\"i like tkinter\",fg=\"blue\",bg=\"yellow\",height=3,width=15,font=\"Helvetic 20 bold\")\n",
    "label.pack()\n",
    "root.mainloop()"
   ]
  },
  {
   "cell_type": "markdown",
   "metadata": {},
   "source": [
    "- justify,设置最后一行是left/center/right（靠左/居中/靠右）输出，默认居中"
   ]
  },
  {
   "cell_type": "code",
   "execution_count": 14,
   "metadata": {},
   "outputs": [],
   "source": [
    "root=Tk()\n",
    "root.title(\"ch2_9\")\n",
    "label=Label(root,text=\"abcdefghijklmnopqrstuvwxyz\",fg=\"blue\",bg=\"yellow\",wraplength=80,justify=\"left\")\n",
    "label.pack()\n",
    "root.mainloop()"
   ]
  },
  {
   "cell_type": "markdown",
   "metadata": {},
   "source": [
    "- bitmap,设置标签内建位图，参数有error,hourglass,info,questhead,question,warning,gray12,gray25,gray50,gray75"
   ]
  },
  {
   "cell_type": "code",
   "execution_count": 15,
   "metadata": {},
   "outputs": [],
   "source": [
    "root=Tk()\n",
    "root.title(\"ch2_13\")\n",
    "label=Label(root,bitmap=\"hourglass\")\n",
    "label.pack()\n",
    "root.mainloop()"
   ]
  }
 ],
 "metadata": {
  "kernelspec": {
   "display_name": "Python 3",
   "language": "python",
   "name": "python3"
  },
  "language_info": {
   "codemirror_mode": {
    "name": "ipython",
    "version": 3
   },
   "file_extension": ".py",
   "mimetype": "text/x-python",
   "name": "python",
   "nbconvert_exporter": "python",
   "pygments_lexer": "ipython3",
   "version": "3.7.4"
  }
 },
 "nbformat": 4,
 "nbformat_minor": 2
}
