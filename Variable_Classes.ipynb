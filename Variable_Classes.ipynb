{
 "cells": [
  {
   "cell_type": "markdown",
   "metadata": {},
   "source": [
    "- tkinter模块内的变量类别（variable classes），有4个子类别，每个子类别就是一个数据类型的构造方法，通过4个子类别的数据类型将其与控件的相关参数结合。\n",
    " - IntVar() #整型变量，默认0\n",
    " - DoubleVar() #浮点型变量，默认0.0\n",
    " - StringVar() #字符串变量，默认\"\"\n",
    " - BooleanVar() #布尔型变量，True是1，False是0\n",
    " "
   ]
  },
  {
   "cell_type": "markdown",
   "metadata": {},
   "source": [
    "- get()方法取得变量内容\n",
    "- set()方法设置变量内容"
   ]
  },
  {
   "cell_type": "code",
   "execution_count": 1,
   "metadata": {},
   "outputs": [],
   "source": [
    "#set()方法的应用，单击hit按钮显示\"i like tkinter\"，再单击hit显示空字符串\n",
    "from tkinter import *\n",
    "\n",
    "def btn_hit():   #处理按钮事件\n",
    "    global msg_on  #全局变量\n",
    "    if msg_on==False:\n",
    "        msg_on=True\n",
    "        x.set(\"i like tkinter\")  #显示文字\n",
    "    else:\n",
    "        msg_on=False\n",
    "        x.set(\"\")  #不显示文字\n",
    "        \n",
    "root=Tk()\n",
    "root.title(\"ch6_1\")\n",
    "msg_on=False    #全局变量默认是False\n",
    "x=StringVar()   #Label的变量内容\n",
    "label=Label(root,textvariable=x,          #设置标签内容是变量x\n",
    "            fg=\"blue\",bg=\"lightyellow\",   #浅黄色底蓝色字\n",
    "            font=\"Verdana 16 bold\",       #字形设置\n",
    "            width=25,height=2)            #标签内容\n",
    "label.pack()\n",
    "btn=Button(root,text=\"Click Me\",command=btn_hit)\n",
    "btn.pack()\n",
    "root.mainloop()"
   ]
  },
  {
   "cell_type": "markdown",
   "metadata": {},
   "source": [
    "- trace()，利用变量追踪Widget控件\n",
    " - 模式w，变量.trace(\"w\",func)，当widget控件内容改变时，执行func函数。w是write的缩写，代表当有执行写入时，执行func。\n",
    " - 模式r，变量.trace(\"r\",func)，当widget控件内容被读取时，执行func函数。r是read的缩写，代表当执行读取时，执行func。"
   ]
  },
  {
   "cell_type": "code",
   "execution_count": 2,
   "metadata": {},
   "outputs": [
    {
     "name": "stdout",
     "output_type": "stream",
     "text": [
      "data changed: a\n",
      "data changed: aj\n",
      "data changed: ajk\n",
      "data changed: ajkl\n",
      "data changed: ajkls\n",
      "data changed: ajklso\n",
      "data changed: ajklsoi\n",
      "data changed: ajklsoif\n",
      "data changed: ajklsoifj\n",
      "data changed: ajklsoifjk\n",
      "data changed: ajklsoifjkl\n",
      "data changed: ajklsoifjklh\n",
      "data changed: ajklsoifjklhg\n",
      "data changed: ajklsoifjklhgh\n",
      "data changed: ajklsoifjklhghg\n",
      "data changed: ajklsoifjklhghgg\n",
      "data changed: ajklsoifjklhghggh\n"
     ]
    }
   ],
   "source": [
    "def callback(*args):\n",
    "    print(\"data changed:\",xE.get())    #Python Shell窗口输出\n",
    "    \n",
    "root=Tk()\n",
    "root.title(\"ch6_3\")\n",
    "xE=StringVar()       #Entry的变量内容\n",
    "entry=Entry(root,textvariable=xE)   #设置Entry内容是变量xE\n",
    "entry.pack(pady=5,padx=10)\n",
    "xE.trace(\"w\",callback)    #若是有更改执行callback\n",
    "root.mainloop()"
   ]
  },
  {
   "cell_type": "code",
   "execution_count": 3,
   "metadata": {},
   "outputs": [
    {
     "name": "stdout",
     "output_type": "stream",
     "text": [
      "data changed: a\n",
      "data changed: ab\n",
      "data changed: abk\n",
      "data changed: abkj\n",
      "data changed: abkjk\n",
      "data changed: abkjkl\n",
      "data changed: abkjklk\n",
      "data changed: abkjklkl\n",
      "data changed: abkjklk\n",
      "data changed: abkjkl\n",
      "data changed: abkjk\n",
      "data changed: abkj\n",
      "data changed: abk\n",
      "data changed: ab\n",
      "data changed: a\n",
      "data changed: \n"
     ]
    }
   ],
   "source": [
    "#扩充上述示例\n",
    "#当在Entry中有输入时，同时在下方的Label控件中显示\n",
    "\n",
    "def callback(*args):\n",
    "    xL.set(xE.get())        #更改标签内容\n",
    "    print(\"data changed:\",xE.get())    #Python Shell窗口输出\n",
    "    \n",
    "root=Tk()\n",
    "root.title(\"ch6_4\")\n",
    "xE=StringVar()       #Entry的变量内容\n",
    "entry=Entry(root,textvariable=xE)   #设置Entry内容是变量x\n",
    "entry.pack(pady=5,padx=10)\n",
    "xE.trace(\"w\",callback)      #若是有更改执行callback\n",
    "\n",
    "xL=StringVar()       #Label的变量内容\n",
    "label=Label(root,textvariable=xL)\n",
    "xL.set(\"同步显示\")\n",
    "label.pack(pady=5,padx=10)\n",
    "root.mainloop()"
   ]
  },
  {
   "cell_type": "code",
   "execution_count": 5,
   "metadata": {},
   "outputs": [
    {
     "name": "stdout",
     "output_type": "stream",
     "text": [
      "Warning:数据被读取！\n",
      "读取数据： \n",
      "Warning:数据被读取！\n",
      "读取数据： \n",
      "Warning:数据被读取！\n",
      "读取数据： ddffas\n",
      "Warning:数据被读取！\n",
      "读取数据： ddffas\n"
     ]
    }
   ],
   "source": [
    "def callbackW(*args):\n",
    "    xL.set(xE.get())\n",
    "    \n",
    "def callbackR(*args):\n",
    "    print(\"Warning:数据被读取！\")\n",
    "    \n",
    "def hit():\n",
    "    print(\"读取数据：\",xE.get())\n",
    "    \n",
    "root=Tk()\n",
    "root.title(\"ch6_5\")\n",
    "xE=StringVar()\n",
    "\n",
    "entry=Entry(root,textvariable=xE)\n",
    "entry.pack(pady=5,padx=10)\n",
    "xE.trace(\"w\",callbackW)\n",
    "xE.trace(\"r\",callbackR)\n",
    "\n",
    "xL=StringVar()\n",
    "label=Label(root,textvariable=xL)\n",
    "xL.set(\"同步显示\")\n",
    "label.pack(pady=5,padx=10)\n",
    "\n",
    "btn=Button(root,text=\"读取\",command=hit)\n",
    "btn.pack(pady=5)\n",
    "\n",
    "root.mainloop()"
   ]
  },
  {
   "cell_type": "code",
   "execution_count": 16,
   "metadata": {},
   "outputs": [],
   "source": [
    "#****************************************计算器的设计****************************************\n",
    "def calculate():                        #执行计算并显示结果\n",
    "    result=eval(equ.get())\n",
    "    equ.set(equ.get()+\"=\\n\"+str(result))\n",
    "    \n",
    "def show(buttonString):                 #更新显示区的计算公式\n",
    "    content=equ.get()\n",
    "    if content==\"0\":\n",
    "        content=\"\"\n",
    "    equ.set(content+buttonString)\n",
    "    \n",
    "def backspace():                        #删除前一个字符\n",
    "    equ.set(str(equ.get()[:-1]))\n",
    "    \n",
    "def clear():                            #清楚显示区，放置0\n",
    "    equ.set(\"0\")\n",
    "    \n",
    "root=Tk()\n",
    "root.title(\"计算器\")\n",
    "\n",
    "equ=StringVar()\n",
    "equ.set(\"0\")                            #默认是显示0\n",
    "\n",
    "#设计显示区\n",
    "label=Label(root,width=39,height=2,relief=\"raised\",anchor=SE,textvariable=equ)\n",
    "label.grid(row=0,column=0,columnspan=4,padx=5,pady=5)\n",
    "\n",
    "#清除显示区按钮\n",
    "clearButton=Button(root,text=\"C\",fg=\"blue\",width=5,command=clear)\n",
    "clearButton.grid(row=1,column=0)\n",
    "#以下是row1的其他按钮\n",
    "Button(root,text=\"DEL\",width=5,command=backspace).grid(row=1,column=1)\n",
    "Button(root,text=\"%\",width=5,command=lambda:show(\"%\")).grid(row=1,column=2)\n",
    "Button(root,text=\"/\",width=5,command=lambda:show(\"/\")).grid(row=1,column=3)\n",
    "#以下是row2的其他按钮\n",
    "Button(root,text=\"7\",width=5,command=lambda:show(\"7\")).grid(row=2,column=0)\n",
    "Button(root,text=\"8\",width=5,command=lambda:show(\"8\")).grid(row=2,column=1)\n",
    "Button(root,text=\"9\",width=5,command=lambda:show(\"9\")).grid(row=2,column=2)\n",
    "Button(root,text=\"*\",width=5,command=lambda:show(\"*\")).grid(row=2,column=3)\n",
    "#以下是row3的其他按钮\n",
    "Button(root,text=\"4\",width=5,command=lambda:show(\"4\")).grid(row=3,column=0)\n",
    "Button(root,text=\"5\",width=5,command=lambda:show(\"5\")).grid(row=3,column=1)\n",
    "Button(root,text=\"6\",width=5,command=lambda:show(\"6\")).grid(row=3,column=2)\n",
    "Button(root,text=\"-\",width=5,command=lambda:show(\"-\")).grid(row=3,column=3)\n",
    "#以下是row4的其他按钮\n",
    "Button(root,text=\"1\",width=5,command=lambda:show(\"1\")).grid(row=4,column=0)\n",
    "Button(root,text=\"2\",width=5,command=lambda:show(\"2\")).grid(row=4,column=1)\n",
    "Button(root,text=\"3\",width=5,command=lambda:show(\"3\")).grid(row=4,column=2)\n",
    "Button(root,text=\"+\",width=5,command=lambda:show(\"+\")).grid(row=4,column=3)\n",
    "#以下是row5的其他按钮\n",
    "Button(root,text=\"0\",width=15,command=lambda:show(\"0\")).grid(row=5,column=0,columnspan=2)\n",
    "Button(root,text=\".\",width=5,command=lambda:show(\".\")).grid(row=5,column=2)\n",
    "Button(root,text=\"=\",width=5,bg=\"yellow\",command=lambda:calculate()).grid(row=5,column=3)\n",
    "\n",
    "root.mainloop()"
   ]
  }
 ],
 "metadata": {
  "kernelspec": {
   "display_name": "Python 3",
   "language": "python",
   "name": "python3"
  },
  "language_info": {
   "codemirror_mode": {
    "name": "ipython",
    "version": 3
   },
   "file_extension": ".py",
   "mimetype": "text/x-python",
   "name": "python",
   "nbconvert_exporter": "python",
   "pygments_lexer": "ipython3",
   "version": "3.7.4"
  }
 },
 "nbformat": 4,
 "nbformat_minor": 2
}
