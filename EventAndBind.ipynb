{
 "cells": [
  {
   "cell_type": "code",
   "execution_count": 2,
   "metadata": {},
   "outputs": [],
   "source": [
    "#当单击功能按钮或是选择复选框时，窗口下方会做出所执行的动作\n",
    "from tkinter import *\n",
    "def pythonClicked():                          #Python复选框事件处理程序\n",
    "    if varPython.get():\n",
    "        lab.config(text=\"Select Python\")\n",
    "    else:\n",
    "        lab.config(text=\"Unselect Python\")\n",
    "        \n",
    "def javaClicked():                            #Java复选框事件处理程序\n",
    "    if varJava.get():\n",
    "        lab.config(text=\"Select Java\")\n",
    "    else:\n",
    "        lab.config(text=\"Unselect Java\")\n",
    "        \n",
    "def buttonClicked():                          #Button按钮事件处理程序\n",
    "    lab.config(text=\"Button clicked\")\n",
    "    \n",
    "root=Tk()\n",
    "root.geometry(\"300x180\")\n",
    "\n",
    "btn=Button(root,text=\"Click me\",command=buttonClicked)\n",
    "btn.pack(anchor=W)\n",
    "varPython=BooleanVar()\n",
    "cbnPython=Checkbutton(root,text=\"Python\",variable=varPython,command=pythonClicked)\n",
    "cbnPython.pack(anchor=W)\n",
    "varJava=BooleanVar()\n",
    "cbnJava=Checkbutton(root,text=\"Java\",variable=varJava,command=javaClicked)\n",
    "cbnJava.pack(anchor=W)\n",
    "lab=Label(root,bg=\"yellow\",fg=\"blue\",height=2,width=20,font=\"Times 16 bold\")\n",
    "lab.pack()\n",
    "\n",
    "root.mainloop()"
   ]
  },
  {
   "cell_type": "markdown",
   "metadata": {},
   "source": [
    "- 除了控件状态改变可以调用相对应的事件处理程序外，还有为事件绑定处理程序的机制。\n",
    "- widget.bind(event,handler)\n",
    "- widget是事件的来源，可以是root窗口对象，或是任意的Widget控件，如功能按钮，选项按钮，复选框...handler是事件处理程序\n",
    "- 鼠标相关的事件：\n",
    " - <Button-1\\>:单击鼠标左键，鼠标光标相对控件位置会被存入事件对象的x和y变量\n",
    " - <Button-2\\>:单击鼠标中键，鼠标光标相对控件位置会被存入事件对象的x和y变量\n",
    " - <Button-3\\>:单击鼠标右键，鼠标光标相对控件位置会被存入事件对象的x和y变量\n",
    " - <Button-4\\>:鼠标滑轮向上滚动，鼠标光标相对控件位置会被存入事件对象的x和y变量\n",
    " - <Button-5\\>:鼠标滑轮向下滚动，鼠标光标相对控件位置会被存入事件对象的x和y变量\n",
    " - <Motion\\>:鼠标移动，鼠标光标相对控件位置会被存入事件对象的x和y变量\n",
    " - <B1-Motion\\>:拖曳，按住鼠标左键再移动鼠标，鼠标光标相对控件位置会被存入事件对象的x和y变量\n",
    " - <B2-Motion\\>:拖曳，按住鼠标中键再移动鼠标，鼠标光标相对控件位置会被存入事件对象的x和y变量\n",
    " - <B3-Motion\\>:拖曳，按住鼠标右键再移动鼠标，鼠标光标相对控件位置会被存入事件对象的x和y变量\n",
    " - <ButtonRelease-1\\>:放开鼠标左键，鼠标光标相对控件位置会被存入事件对象的x和y变量\n",
    " - <ButtonRelease-2\\>:放开鼠标中键，鼠标光标相对控件位置会被存入事件对象的x和y变量\n",
    " - <ButtonRelease-3\\>:放开鼠标右键，鼠标光标相对控件位置会被存入事件对象的x和y变量\n",
    " - <Double-Button-1\\>:连按两下鼠标左键，鼠标光标相对控件位置会被存入事件对象的x和y变量\n",
    " - <Double-Button-2\\>:连按两下鼠标中键，鼠标光标相对控件位置会被存入事件对象的x和y变量\n",
    " - <Double-Button-3\\>:连按两下鼠标右键，鼠标光标相对控件位置会被存入事件对象的x和y变量\n",
    " - <Enter\\>:鼠标光标进入Widget控件\n",
    " - <Leave\\>:鼠标光标离开Widget控件\n",
    "\n",
    "- 键盘相关的事件\n",
    " - <FocusIn\\>:键盘焦点进入Widget控件\n",
    " - <FocusOut\\>:键盘焦点离开Widget控件\n",
    " - <Return\\>:按下Enter键，键盘所有键都可以被绑定，例如Cancel,BackSpace,Tab,Shift,Ctrl,Alt,End,Esc,Next(Page Down),Prior(Page Up),Home,End,Right,Left,Up,Down,F1~F12,Scroll Lock,Num Lock\n",
    " - <Key\\>:按下某键盘键，键值会被储存在event对象中传递\n",
    " - <Shift-Up\\>:按住Shift键时按下Up键\n",
    " - <Alt-Up\\>:按住Alt键时按下Up键\n",
    " - <Ctrl-Up\\>:按住Ctrl键时按下Up键\n",
    "\n",
    "- 控件相关事件\n",
    " - <Configure\\>:更改Widget控件的大小和位置，新控件大小的width与height会储存在event对象内"
   ]
  },
  {
   "cell_type": "markdown",
   "metadata": {},
   "source": [
    "- 例如，若是在Button()内省略command参数，则可以用Button.bind(\"<Button-1\\>\",event_handler)来建立单击按钮与事件的绑定"
   ]
  },
  {
   "cell_type": "code",
   "execution_count": 7,
   "metadata": {},
   "outputs": [],
   "source": [
    "#使用事件绑定方式让单击Click me按钮后可以列出\"Button clicked\"字符串。\n",
    "#本例用btn.bind()建立绑定工作。\n",
    "\n",
    "from tkinter import *\n",
    "def pythonClicked():                         #Python复选框事件处理程序\n",
    "    if varPython.get():\n",
    "        lab.config(text=\"Select Python\")\n",
    "    else:\n",
    "        lab.config(text=\"Unselect Python\")\n",
    "def javaClicked():                           #Java复选框事件处理程序\n",
    "    if varJava.get():\n",
    "        lab.config(text=\"Select Java\")\n",
    "    else:\n",
    "        lab.config(text=\"Unselect Java\")\n",
    "def buttonClicked(event):                         #Button按钮事件处理程序\n",
    "    lab.config(text=\"Button clicked\")\n",
    "\n",
    "root=Tk()\n",
    "root.title(\"ch11_1_1\")\n",
    "root.geometry(\"300x180\")\n",
    "\n",
    "btn=Button(root,text=\"Click me\")\n",
    "btn.pack(anchor=W)\n",
    "btn.bind(\"<Button-1>\",buttonClicked)          #单击Click me绑定buttonClicked方法\n",
    "\n",
    "varPython=BooleanVar()\n",
    "cbnPython=Checkbutton(root,text=\"Python\",variable=varPython,command=pythonClicked)\n",
    "cbnPython.pack(anchor=W)\n",
    "varJava=BooleanVar()\n",
    "cbnJava=Checkbutton(root,text=\"Java\",variable=varJava,command=javaClicked)\n",
    "cbnJava.pack(anchor=W)\n",
    "lab=Label(root,bg=\"yellow\",fg=\"blue\",height=2,width=18,font=\"Times 16 bold\")\n",
    "lab.pack()\n",
    "\n",
    "root.mainloop()"
   ]
  },
  {
   "cell_type": "markdown",
   "metadata": {},
   "source": [
    "- **callback(event)需有参数event，event名称可以自定义，从而事件会传递事件对象给此事件处理程序**"
   ]
  },
  {
   "cell_type": "code",
   "execution_count": 8,
   "metadata": {},
   "outputs": [
    {
     "name": "stdout",
     "output_type": "stream",
     "text": [
      "Clicked at 72 67\n",
      "Clicked at 3 0\n",
      "Clicked at 1 0\n",
      "Clicked at 0 1\n",
      "Clicked at 2 1\n",
      "Clicked at 2 1\n",
      "Clicked at 1 2\n",
      "Clicked at 1 2\n",
      "Clicked at 1 0\n",
      "Clicked at 0 2\n",
      "Clicked at 1 1\n",
      "Clicked at 0 0\n",
      "Clicked at 260 141\n",
      "Clicked at 297 176\n",
      "Clicked at 298 178\n",
      "Clicked at 78 125\n",
      "Clicked at 35 77\n"
     ]
    }
   ],
   "source": [
    "#鼠标事件的基本应用\n",
    "#建立300x180的窗口，当单击鼠标左键时，在Python Shell窗口中会列出单击事件时的坐标\n",
    "\n",
    "def callback(event):                           #事件处理程序\n",
    "    print(\"Clicked at\",event.x,event.y)        #打印坐标\n",
    "    \n",
    "root=Tk()\n",
    "root.title(\"ch11_2\")\n",
    "frame=Frame(root,width=300,height=180)\n",
    "frame.bind(\"<Button-1>\",callback)              #绑定callback\n",
    "frame.pack()\n",
    "\n",
    "root.mainloop()"
   ]
  },
  {
   "cell_type": "code",
   "execution_count": 12,
   "metadata": {},
   "outputs": [],
   "source": [
    "#移动鼠标时可以在窗口右下方看到鼠标目前的坐标\n",
    "def mouseMotion(event):                    #Mouse移动\n",
    "    x=event.x\n",
    "    y=event.y\n",
    "    textvar=\"Mouse location-x:{},y:{}\".format(x,y)\n",
    "    var.set(textvar)\n",
    "\n",
    "root=Tk()\n",
    "root.title(\"ch11_2_1\")\n",
    "root.geometry(\"300x180\")\n",
    "\n",
    "x,y=0,0\n",
    "var=StringVar()\n",
    "text=\"Mouse location-x:{},y:{}\".format(x,y)\n",
    "var.set(text)\n",
    "\n",
    "lab=Label(root,textvariable=var)\n",
    "lab.pack(anchor=S,side=RIGHT,padx=10,pady=10)\n",
    "\n",
    "root.bind(\"<Motion>\",mouseMotion)               #添加事件处理程序\n",
    "\n",
    "root.mainloop()"
   ]
  },
  {
   "cell_type": "code",
   "execution_count": 14,
   "metadata": {},
   "outputs": [],
   "source": [
    "#若鼠标光标进入Exit功能按钮，会在黄底的标签区域显示“鼠标进入Exit功能按钮”，\n",
    "#若鼠标光标离开Exit功能按钮，会在黄色底的标签区域显示“鼠标离开Exit功能按钮”，\n",
    "#若单击Exit按钮，程序结束。\n",
    "\n",
    "def enter(event):                              #Enter事件处理程序\n",
    "    x.set(\"鼠标进入Exit功能按钮\")\n",
    "def leave(event):                              #Leave事件处理程序\n",
    "    x.set(\"鼠标离开Exit功能按钮\")\n",
    "    \n",
    "root=Tk()\n",
    "root.title(\"ch11_3\")\n",
    "root.geometry(\"300x180\")\n",
    "\n",
    "btn=Button(root,text=\"Exit\",command=root.destroy)\n",
    "btn.pack(pady=30)\n",
    "btn.bind(\"<Enter>\",enter)\n",
    "btn.bind(\"<Leave>\",leave)\n",
    "\n",
    "x=StringVar()\n",
    "lab=Label(root,textvariable=x,bg=\"yellow\",fg=\"blue\",height=4,width=15,font=\"Times 12 bold\")\n",
    "lab.pack(pady=30)\n",
    "\n",
    "root.mainloop()"
   ]
  },
  {
   "cell_type": "code",
   "execution_count": 19,
   "metadata": {},
   "outputs": [],
   "source": [
    "#i键盘绑定的基本应用\n",
    "#执行时会出现窗口，\n",
    "#若是按Esc键，将出现对话框询问是否离开，\n",
    "#单击“是”按钮可以离开程序，\n",
    "#单击“否”按钮程序继续\n",
    "from tkinter import messagebox\n",
    "\n",
    "def leave(event):                               #<Esc>事件处理程序\n",
    "    ret=messagebox.askyesno(\"ch11_4\",\"是否离开？\")\n",
    "    if ret==True:\n",
    "        root.destroy()\n",
    "    else:\n",
    "        return\n",
    "    \n",
    "root=Tk()\n",
    "root.title(\"ch11_4\")\n",
    "\n",
    "root.bind(\"<Escape>\",leave)                      #Esc键绑定leave函数\n",
    "lab=Label(root,text=\"测试Esc键\",bg=\"yellow\",fg=\"blue\",height=4,width=15,font=\"Times 12 bold\")\n",
    "lab.pack(padx=30,pady=30)\n",
    "\n",
    "root.mainloop()"
   ]
  },
  {
   "cell_type": "code",
   "execution_count": 32,
   "metadata": {},
   "outputs": [],
   "source": [
    "#程序在执行时用<Key>作绑定事件key,整个程序执行时会将所按a...z键打印出来。这个程序使用了repr()函数，该函数会将参数处理成字符串\n",
    "\n",
    "def key(event):                                #处理键盘按a...z键事件\n",
    "    print(\"按了\"+repr(event.char)+\"键\")\n",
    "    \n",
    "root=Tk()\n",
    "root.title(\"ch11_5\")\n",
    "\n",
    "root.bind(\"<Key>\",key)                         #<Key>键绑定key函数\n",
    "root.mainloop()"
   ]
  },
  {
   "cell_type": "markdown",
   "metadata": {},
   "source": [
    "- 在使用框架时需特别小心获得焦点的概念，**当事件绑定与Frame有关时，必须在Frame获得焦点时，键盘绑定才可生效**\n",
    " - frame.focus_set()，可让frame对象获得焦点"
   ]
  },
  {
   "cell_type": "code",
   "execution_count": 34,
   "metadata": {},
   "outputs": [],
   "source": [
    "#键盘与鼠标绑定Frame对象的应用\n",
    "#注意：该程序执行时，必须将鼠标光标放在窗口内，同时先有鼠标单击，\n",
    "#这时frame.focus_set()让Widget控件frame获得焦点，然后按键才可以起作用。\n",
    "#上例在程序开始时就可执行，是因为程序是在root窗口执行绑定，\n",
    "#在程序被启动时此窗口已经获得焦点。\n",
    "\n",
    "def key(event):                                 #列出所按的键\n",
    "    print(\"按了\"+repr(event.char)+\"键\")\n",
    "    \n",
    "def coordXY(event):                             #列出鼠标坐标\n",
    "    frame.focus_set()                           #frame对象获得焦点\n",
    "    print(\"鼠标坐标：\",event.x,event.y)\n",
    "    \n",
    "root=Tk()\n",
    "root.title(\"ch11_6\")\n",
    "\n",
    "frame=Frame(root,width=100,height=100)\n",
    "frame.bind(\"<Key>\",key)                         #frame对象的<Key>绑定key\n",
    "frame.bind(\"<Button-1>\",coordXY)                #frame对象单击绑定coordXY\n",
    "frame.pack()\n",
    "\n",
    "root.mainloop()"
   ]
  },
  {
   "cell_type": "markdown",
   "metadata": {},
   "source": [
    "- 取消绑定obj.unbind(\"<xxx\\>\"),<xxx\\>是绑定方式    "
   ]
  },
  {
   "cell_type": "code",
   "execution_count": 40,
   "metadata": {},
   "outputs": [],
   "source": [
    "#在tkinter按钮下方有复选框bind/unbind，\n",
    "#若勾选这个复选框，相当与有绑定\n",
    "#若不勾选这个复选框，相当于没有绑定\n",
    "\n",
    "def buttonClicked(event):                    #Button按钮事件处理程序\n",
    "    print(\"i like tkinter\")\n",
    "    \n",
    "#所传递的对象onoff是btn对象\n",
    "def toggle(onoff):                           #切换绑定\n",
    "    if var.get()==True:\n",
    "        onoff.bind(\"<Button-1>\",buttonClicked)\n",
    "    else:\n",
    "        onoff.unbind(\"<Button-1>\")\n",
    "    \n",
    "root=Tk()\n",
    "root.title(\"ch11_7\")\n",
    "root.geometry(\"300x180\")\n",
    "\n",
    "btn=Button(root,text=\"tkinter\")\n",
    "btn.pack(anchor=W,padx=10,pady=10)\n",
    "\n",
    "var=BooleanVar()\n",
    "cbtn=Checkbutton(root,text=\"bind/unbind\",variable=var,command=lambda:toggle(btn))      #注意必须加lambda\n",
    "cbtn.pack(anchor=W,padx=10)\n",
    "\n",
    "root.mainloop()"
   ]
  },
  {
   "cell_type": "markdown",
   "metadata": {},
   "source": [
    "- 一个事件绑定多个事件处理程序\n",
    " - 新增加的事件处理程序需要在bind()方法内增加参数add=\"+\""
   ]
  },
  {
   "cell_type": "code",
   "execution_count": 41,
   "metadata": {},
   "outputs": [
    {
     "name": "stdout",
     "output_type": "stream",
     "text": [
      "Bind event handler, i like tkinter\n",
      "Command event handler, i like tkinter\n"
     ]
    }
   ],
   "source": [
    "#一个单击功能按钮动作，会有两个事件处理程序作出响应\n",
    "\n",
    "def btnClicked1():\n",
    "    print(\"Command event handler, i like tkinter\")\n",
    "    \n",
    "def btnClicked2(event):\n",
    "    print(\"Bind event handler, i like tkinter\")\n",
    "    \n",
    "root=Tk()\n",
    "root.title(\"ch11_8\")\n",
    "root.geometry(\"300x180\")\n",
    "\n",
    "btn=Button(root,text=\"tkinter\",command=btnClicked1)\n",
    "btn.pack(anchor=W,padx=10,pady=10)\n",
    "btn.bind(\"<Button-1>\",btnClicked2,add=\"+\")                  #添加事件处理程序\n",
    "\n",
    "root.mainloop()"
   ]
  },
  {
   "cell_type": "markdown",
   "metadata": {},
   "source": [
    "- Protocols可以翻译为通信协议，在tkinter内可解释为窗口管理程序与应用程序之间的通信协议。tkinter也支持使用绑定概念更改此通信协议。"
   ]
  },
  {
   "cell_type": "code",
   "execution_count": 44,
   "metadata": {},
   "outputs": [],
   "source": [
    "#单击通信协议(protocols)内容窗口右上角的x按钮可以关闭窗口，它的名称是WM_DELETE_WINDOW。\n",
    "#这个程序会修改此协议，改为单击此按钮后增加Messagebox，询问“结束或取消”，\n",
    "#若单击“确定”按钮才会结束此程序。\n",
    "from tkinter import *\n",
    "from tkinter import messagebox\n",
    "\n",
    "def callback():\n",
    "    res=messagebox.askokcancel(\"OKCANCEL\",\"结束或取消？\")\n",
    "    if res==True:\n",
    "        root.destroy()\n",
    "    else:\n",
    "        return\n",
    "    \n",
    "root=Tk()\n",
    "root.title(\"ch11_9\")\n",
    "root.geometry(\"300x180\")\n",
    "root.protocol(\"WM_DELETE_WINDOW\",callback)\n",
    "\n",
    "root.mainloop()"
   ]
  }
 ],
 "metadata": {
  "kernelspec": {
   "display_name": "Python 3",
   "language": "python",
   "name": "python3"
  },
  "language_info": {
   "codemirror_mode": {
    "name": "ipython",
    "version": 3
   },
   "file_extension": ".py",
   "mimetype": "text/x-python",
   "name": "python",
   "nbconvert_exporter": "python",
   "pygments_lexer": "ipython3",
   "version": "3.7.4"
  }
 },
 "nbformat": 4,
 "nbformat_minor": 2
}
