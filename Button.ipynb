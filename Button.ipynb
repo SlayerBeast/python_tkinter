{
 "cells": [
  {
   "cell_type": "markdown",
   "metadata": {},
   "source": [
    "- Button(父对象,options,...)\n",
    " - borderwidth(bd):边界宽度，默认2个像素\n",
    " - background(bg):背景色彩\n",
    " - command:单击功能按钮时，执行此方法\n",
    " - cursor:当鼠标光标移至按钮上时的形状\n",
    " - foreground(fg):前景色彩\n",
    " - font:字形\n",
    " - height:高，单位是字符高\n",
    " - highlightbackground:当功能按钮取得焦点时的背景颜色\n",
    " - highlightcolor:当功能按钮取得焦点时的颜色\n",
    " - image:功能钮上的图像\n",
    " - justify:当有多行文字时，最后一行文字的对齐方式\n",
    " - padx:默认是1，可设置功能按钮与文字的间隔\n",
    " - pady:默认是1，可设置功能按钮的上下间距\n",
    " - relief:默认是relief=FLAT，可由此控制文字外框\n",
    " - state:默认是state=NORMAL，若设置为DISABLED则以灰阶显示功能按钮，表示暂时无法使用\n",
    " - text:功能按钮名称。\n",
    " - underline:可以设置第几个文字有下划线，从0开始算起，默认是-1表示无下划线\n",
    " - width:宽，单位是字符宽\n",
    " - wraplength:限制每行的文字数，默认是0，表示只有\"\\n\"才会换行"
   ]
  },
  {
   "cell_type": "code",
   "execution_count": 9,
   "metadata": {},
   "outputs": [],
   "source": [
    "from tkinter import *\n",
    "def msgShow():                    #这里用类似字典赋值的方式设置标签label的属性。****************************************\n",
    "    label[\"text\"]=\"i love python\"\n",
    "    label[\"bg\"]=\"lightyellow\"\n",
    "    label[\"fg\"]=\"blue\"\n",
    "\n",
    "root=Tk()\n",
    "root.title(\"ch4_1\")\n",
    "label=Label(root)\n",
    "btn=Button(root,text=\"打印消息\",command=msgShow)\n",
    "label.pack()\n",
    "btn.pack()\n",
    "root.mainloop()"
   ]
  },
  {
   "cell_type": "code",
   "execution_count": 10,
   "metadata": {},
   "outputs": [],
   "source": [
    "#这里用config()方法设置标签label的属性************************************************************************\n",
    "def msgShow():\n",
    "    label.config(text=\"i love python\",bg=\"lightyellow\",fg=\"blue\")\n",
    "\n",
    "root=Tk()\n",
    "root.title(\"ch4_2\")\n",
    "label=Label(root)\n",
    "btn=Button(root,text=\"打印消息\",command=msgShow)\n",
    "label.pack()\n",
    "btn.pack()\n",
    "root.mainloop()"
   ]
  },
  {
   "cell_type": "markdown",
   "metadata": {},
   "source": [
    "- root.destroy可以关闭窗口对象，同时程序结束。"
   ]
  },
  {
   "cell_type": "code",
   "execution_count": 13,
   "metadata": {},
   "outputs": [],
   "source": [
    "#该示例中，若单击“结束”按钮，窗口会关闭。\n",
    "def msgShow():\n",
    "    label.config(text=\"I love python\",bg=\"lightyellow\",fg=\"blue\")\n",
    "\n",
    "root=Tk()\n",
    "root.title(\"ch4_3\")\n",
    "label=Label(root)\n",
    "btn1=Button(root,text=\"打印消息\",width=15,command=msgShow)\n",
    "btn2=Button(root,text=\"结束\",width=15,command=root.destroy)\n",
    "label.pack()\n",
    "btn1.pack(side=LEFT)\n",
    "btn2.pack(side=LEFT)\n",
    "root.mainloop()"
   ]
  },
  {
   "cell_type": "code",
   "execution_count": 14,
   "metadata": {},
   "outputs": [],
   "source": [
    "counter=0                    # 计数的全局变量\n",
    "def run_counter(digit):      # 数字变量内容的变动\n",
    "    def counting():          # 变动数字方法\n",
    "        global counter\n",
    "        counter+=1           # 定义这是全局变量\n",
    "        digit.config(text=str(counter))  # 列出数字内容\n",
    "        digit.after(1000,counting)       # 隔一次后调用counting\n",
    "    counting()                           # 持续调用\n",
    "    \n",
    "root=Tk()\n",
    "root.title(\"ch4_4\")\n",
    "digit=Label(root,bg=\"yellow\",fg=\"blue\",height=3,width=10,font=\"Helvetic 20 bold\")\n",
    "digit.pack()\n",
    "run_counter(digit)\n",
    "Button(root,text=\"结束\",width=15,command=root.destroy).pack(pady=10)\n",
    "root.mainloop()\n",
    "    "
   ]
  },
  {
   "cell_type": "code",
   "execution_count": 15,
   "metadata": {},
   "outputs": [],
   "source": [
    "def yellow():\n",
    "    root.config(bg=\"yellow\")\n",
    "    \n",
    "def blue():\n",
    "    root.config(bg=\"blue\")\n",
    "    \n",
    "root=Tk()\n",
    "root.title(\"ch4_5\")\n",
    "root.geometry(\"300x200\")\n",
    "btn1=Button(root,text=\"Yellow\",command=yellow)\n",
    "btn2=Button(root,text=\"Blue\",command=blue)\n",
    "btn3=Button(root,text=\"Exit\",command=root.destroy)\n",
    "btn3.pack(anchor=S,side=RIGHT,padx=5,pady=5)\n",
    "btn2.pack(anchor=S,side=RIGHT,padx=5,pady=5)\n",
    "btn1.pack(anchor=S,side=RIGHT,padx=5,pady=5)\n",
    "root.mainloop()"
   ]
  },
  {
   "cell_type": "markdown",
   "metadata": {},
   "source": [
    "- lambda表达式，lambda:func(parameter)，表示执行参数为parameter的func函数，并返回相应结果"
   ]
  },
  {
   "cell_type": "code",
   "execution_count": 16,
   "metadata": {},
   "outputs": [],
   "source": [
    "#使用lambda表达式重新设计上例\n",
    "def bColor(bgColor):\n",
    "    root.config(bg=bgColor)\n",
    "    \n",
    "root=Tk()\n",
    "root.title(\"ch4_5\")\n",
    "root.geometry(\"300x200\")\n",
    "exitbtn=Button(root,text=\"Exit\",command=root.destroy)\n",
    "bluebtn=Button(root,text=\"blue\",command=lambda:bColor(\"blue\"))\n",
    "yellowbtn=Button(root,text=\"yellow\",command=lambda:bColor(\"yellow\"))\n",
    "exitbtn.pack(anchor=S,side=RIGHT,padx=5,pady=5)\n",
    "bluebtn.pack(anchor=S,side=RIGHT,padx=5,pady=5)\n",
    "yellowbtn.pack(anchor=S,side=RIGHT,padx=5,pady=5)\n",
    "root.mainloop()"
   ]
  },
  {
   "cell_type": "markdown",
   "metadata": {},
   "source": [
    "- 建立含图像的功能按钮，在Button内用image参数设置图像对象。\n",
    "- 要想让图像和文字并存在功能按钮内，需要在Button()内增加参数compound=...，可以为LEFT，RIGHT，TOP，BOTTOM，CENTER，分别代表**图像在文字**的**左、右、上、下、中央**。"
   ]
  },
  {
   "cell_type": "code",
   "execution_count": 23,
   "metadata": {},
   "outputs": [],
   "source": [
    "from tkinter import *\n",
    "def msgShow():\n",
    "    label.config(text=\"i love python\",bg=\"lightyellow\",fg=\"blue\")\n",
    "    \n",
    "root=Tk()\n",
    "root.title(\"ch4_6\")\n",
    "label=Label(root)\n",
    "\n",
    "test=PhotoImage(file=\"test.gif\")\n",
    "btn=Button(root,image=test,command=msgShow,text=\"click me\",compound=LEFT)\n",
    "label.pack()\n",
    "btn.pack()\n",
    "root.mainloop()"
   ]
  },
  {
   "cell_type": "code",
   "execution_count": 36,
   "metadata": {},
   "outputs": [],
   "source": [
    "#**********************************简易计算器按钮布局应用示例*************************************\n",
    "root=Tk()\n",
    "n=0\n",
    "\n",
    "button=['7','8','9','*','4','5','6','-','1','2','3','+','0','.','=']\n",
    "root.title(\"ch4_10\")\n",
    "lab=Label(root,text=\"\",bg=\"yellow\",width=20)\n",
    "for i in button[0:12]:\n",
    "    Button(root,text=i,width=3).grid(row=int(n/4)+1,column=n%4,padx=5)\n",
    "    n+=1\n",
    "\n",
    "lab.grid(row=0,column=0,columnspan=4)\n",
    "    \n",
    "Button(root,text=\"0\",width=11).grid(row=4,column=0,columnspan=2,padx=5)\n",
    "Button(root,text=\".\",width=3).grid(row=4,column=2,padx=5)\n",
    "Button(root,text=\"=\",width=3).grid(row=4,column=3,padx=5)\n",
    "root.mainloop()"
   ]
  },
  {
   "cell_type": "code",
   "execution_count": 38,
   "metadata": {},
   "outputs": [],
   "source": [
    "#***********************************设计鼠标光标在功能按钮上时形状为star*************************************\n",
    "def msgShow():\n",
    "    label.config(text=\"i love python\",bg=\"lightyellow\",fg=\"blue\")\n",
    "    \n",
    "root=Tk()\n",
    "root.title(\"ch4_11\")\n",
    "label=Label(root)\n",
    "test=PhotoImage(file=\"test.gif\")\n",
    "btn=Button(root,image=test,command=msgShow,cursor=\"star\")\n",
    "label.pack()\n",
    "btn.pack()\n",
    "root.mainloop()"
   ]
  }
 ],
 "metadata": {
  "kernelspec": {
   "display_name": "Python 3",
   "language": "python",
   "name": "python3"
  },
  "language_info": {
   "codemirror_mode": {
    "name": "ipython",
    "version": 3
   },
   "file_extension": ".py",
   "mimetype": "text/x-python",
   "name": "python",
   "nbconvert_exporter": "python",
   "pygments_lexer": "ipython3",
   "version": "3.7.4"
  }
 },
 "nbformat": 4,
 "nbformat_minor": 2
}
