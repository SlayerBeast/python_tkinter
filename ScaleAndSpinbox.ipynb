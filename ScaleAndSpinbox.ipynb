{
 "cells": [
  {
   "cell_type": "markdown",
   "metadata": {},
   "source": [
    "- Scale，尺度，可以移动尺度条产生某一范围的数字\n",
    "- Scale(父对象,options,...)\n",
    " - activebackground:鼠标光标在尺度条上时的背景颜色\n",
    " - bg:背景颜色\n",
    " - borderwidth(bd):3D边界宽度，默认是2个像素\n",
    " - command:当使用者更改数值时，会自动执行此函数\n",
    " - cursor:当鼠标光标在尺度条上时的光标形状\n",
    " - digits:尺度数值，读取时需使用IntVar，DoubleVar，StringVar变量类型读取\n",
    " - fg:文字前景颜色\n",
    " - font:字形\n",
    " - from_:尺度条范围值的初值\n",
    " - highlightbackground:当尺度条取得焦点时的背景颜色\n",
    " - highlightcolor:当尺度条获得焦点时的颜色\n",
    " - label:默认是没有标签文字。若尺度条是水平的，则标签出现在左上角；若尺度条是垂直的，则标签出现在右上角\n",
    " - length:默认是100像素\n",
    " - orient:默认是垂直，可以设置水平HORIZONTAL或垂直VERTICAL\n",
    " - relief:默认是FLAT，可由此更改边界外观\n",
    " - repeatdelay:可设置需要按住尺度条多久后才可移动此尺度条，单位是ms，默认是300\n",
    " - resolution:每次更改的数值，如from_=2.0，to=4.0，将resolution设为0.5，则尺度可能数值是2.0,2.5,3.0,3.5,4.0\n",
    " - showvalue:正常会显示尺度条的目前值，如果设为0，则不显示\n",
    " - state:若设为DISABLE，则暂时无法使用此Scale\n",
    " - takefocus:正常时此尺度条可以循环取得焦点，若设为0则无法取得焦点\n",
    " - tickinterval:尺度条的标记刻度，如from_=2.0，to=3.0，tickinterval=0.25，则刻度是2.0,2.25,2.50,2.75,3.0\n",
    " - to:尺度条范围值的末端值\n",
    " - troughcolor:槽(trough)的颜色\n",
    " - variable:设置或取得目前选取的尺度值，其值类型通常是IntVar或StringVar\n",
    " - width:对于垂直尺度条这是槽的宽度，对于水平尺度条这是槽的高度"
   ]
  },
  {
   "cell_type": "code",
   "execution_count": null,
   "metadata": {},
   "outputs": [],
   "source": [
    "#垂直尺度条使用默认长度，水平尺度条设为300\n",
    "from tkinter import *\n",
    "\n",
    "window=Tk()\n",
    "window.title(\"ch9_1\")\n",
    "\n",
    "slider1=Scale(window,from_=0,to=10).pack()\n",
    "slider2=Scale(window,from_=0,to=10,length=300,orient=HORIZONTAL).pack()\n",
    "\n",
    "window.mainloop()"
   ]
  },
  {
   "cell_type": "code",
   "execution_count": null,
   "metadata": {},
   "outputs": [],
   "source": [
    "root=Tk()\n",
    "root.title(\"ch9_2\")\n",
    "\n",
    "slider=Scale(root,from_=0,                        #起点值\n",
    "            to=10,                                #终点值\n",
    "            troughcolor=\"yellow\",                 #槽的颜色\n",
    "            width=\"30\",                           #槽的高度\n",
    "            tickinterval=2,                       #刻度\n",
    "            label=\"My Scale\",                     #Scale标签\n",
    "            length=300,                           #Scale长度\n",
    "            orient=HORIZONTAL)                    #水平\n",
    "slider.pack()\n",
    "\n",
    "root.mainloop()"
   ]
  },
  {
   "cell_type": "markdown",
   "metadata": {},
   "source": [
    "- set()方法设置尺度的值\n",
    "- get()方法获取尺度的值"
   ]
  },
  {
   "cell_type": "code",
   "execution_count": null,
   "metadata": {},
   "outputs": [],
   "source": [
    "#使用set()设置尺度初值，\n",
    "#使用get()获得尺度值，\n",
    "#单击Print按钮列出垂直和水平的尺度值\n",
    "\n",
    "def printInfo():\n",
    "    print(\"垂直尺度值=%d，水平尺度值=%d\" % (var.get(),sH.get()))\n",
    "    \n",
    "root=Tk()\n",
    "root.title(\"ch9_3\")\n",
    "\n",
    "#这里用了两种设置和获取尺度值的方法\n",
    "#第一种是定义变量，对变量var使用set()方法，对变量var使用get()方法\n",
    "#第二种是直接对Scale对象使用set()方法和get()方法\n",
    "var=IntVar()\n",
    "var.set(5)\n",
    "sV=Scale(root,label=\"垂直\",variable=var,from_=0,to=10)\n",
    "sV.pack()\n",
    "\n",
    "sH=Scale(root,label=\"水平\",from_=0,to=10,length=300,orient=HORIZONTAL)\n",
    "sH.set(3)\n",
    "sH.pack()\n",
    "\n",
    "Button(root,text=\"Print\",command=printInfo).pack()\n",
    "\n",
    "root.mainloop()"
   ]
  },
  {
   "cell_type": "markdown",
   "metadata": {},
   "source": [
    "- Scale控件可以在移动时触发事件，此时需要使用command参数\n",
    "\n",
    "```def callback():```\n",
    "\n",
    "    ...\n",
    "    \n",
    "```sliderObj=Scale(...,command=callback)```\n",
    "\n",
    "- print(\"%02x\"%(n))，x表示16进制，表示将n用2位16进制的数字打印出来，不足2位就用0补齐\n",
    " - 将x换成d，表示10进制\n",
    " - 将x换成o，表示8进制\n",
    " - 若省略0，即%2x，则不足2位时以空格补齐"
   ]
  },
  {
   "cell_type": "code",
   "execution_count": null,
   "metadata": {},
   "outputs": [],
   "source": [
    "#设计3个尺度条分别代表R,G,B三种颜色，当移动三个尺度条时，Python Shell将显示三个尺度条的颜色值，同时可以看到窗口背景颜色也将实时更改\n",
    "\n",
    "def bgUpdate(source):       #这里source?\n",
    "    '''更改窗口背景颜色'''\n",
    "    red=rSlider.get()                                  #读取red值\n",
    "    green=gSlider.get()                                #读取green值\n",
    "    blue=bSlider.get()                                 #读取blue值\n",
    "    print(\"R=%d,G=%d,B=%d\"%(red,green,blue))           #打印色彩数值\n",
    "    myColor=\"#%02x%02x%02x\"%(red,green,blue)           #将颜色转成十六进制字符串\n",
    "    root.config(bg=myColor)\n",
    "    \n",
    "root=Tk()\n",
    "root.title(\"ch9_4\")\n",
    "root.geometry(\"360x240\")\n",
    "\n",
    "rSlider=Scale(root,from_=0,to=255,command=bgUpdate)\n",
    "gSlider=Scale(root,from_=0,to=255,command=bgUpdate)\n",
    "bSlider=Scale(root,from_=0,to=255,command=bgUpdate)\n",
    "gSlider.set(125)                                        #设置green初值是125\n",
    "rSlider.grid(row=0,column=0)\n",
    "gSlider.grid(row=0,column=1)\n",
    "bSlider.grid(row=0,column=2)\n",
    "\n",
    "root.mainloop()"
   ]
  },
  {
   "cell_type": "markdown",
   "metadata": {},
   "source": [
    "- tkinter模块内的**colorchooser**模块内有**askcolor()** ，这个方法可以开启系统的”色彩“对话框，用此方法可以方便选择色彩。\n",
    "- askcolor()的返回对象是一个含有2个元素的元组，其中第一项是包含RGB三通道具体值的元组数据，第二项是相应的格式为'#xxxxxx'的16进制字符串"
   ]
  },
  {
   "cell_type": "code",
   "execution_count": null,
   "metadata": {},
   "outputs": [],
   "source": [
    "#使用开启”色彩“对话框的方式重新设计上例\n",
    "from tkinter import *\n",
    "from tkinter.colorchooser import *\n",
    "\n",
    "def bgUpdate():\n",
    "    '''更改窗口背景颜色'''\n",
    "    myColor=askcolor()                             #列出色彩对话框\n",
    "    print(type(myColor),myColor)                   #打印传回值\n",
    "    root.config(bg=myColor[1])                     #设定窗口背景颜色\n",
    "    \n",
    "root=Tk()\n",
    "root.title(\"ch9_4_1\")\n",
    "root.geometry(\"360x240\")\n",
    "\n",
    "btn=Button(text=\"Select Color\",command=bgUpdate)\n",
    "btn.pack(pady=5)\n",
    "\n",
    "root.mainloop()"
   ]
  },
  {
   "cell_type": "code",
   "execution_count": null,
   "metadata": {},
   "outputs": [],
   "source": [
    "#将三个尺度条放置在Frame容器内，然后将Frame容器放置在窗口上方中央\n",
    "def bgUpdate(source):\n",
    "    '''更改窗口背景颜色'''\n",
    "    red=rSlider.get()                               #读取red值\n",
    "    green=gSlider.get()                             #读取green值\n",
    "    blue=bSlider.get()                              #读取blue值\n",
    "    print(\"R=%d,G=%d,B=%d\"%(red,green,blue))        #打印色彩数值\n",
    "    myColor=\"#%02x%02x%02x\"%(red,green,blue)        #将颜色转成十六进制字符串\n",
    "    root.config(bg=myColor)                         #设置窗口背景颜色\n",
    "    \n",
    "root=Tk()\n",
    "root.title(\"ch9_5\")\n",
    "root.geometry(\"360x240\")\n",
    "\n",
    "fm=Frame(root)                                      #创建框架\n",
    "fm.pack()\n",
    "\n",
    "rSlider=Scale(fm,from_=0,to=255,command=bgUpdate)\n",
    "gSlider=Scale(fm,from_=0,to=255,command=bgUpdate)\n",
    "bSlider=Scale(fm,from_=0,to=255,command=bgUpdate)\n",
    "gSlider.set(125)\n",
    "rSlider.grid(row=0,column=0)\n",
    "gSlider.grid(row=0,column=1)\n",
    "bSlider.grid(row=0,column=2)\n",
    "\n",
    "root.mainloop()"
   ]
  },
  {
   "cell_type": "markdown",
   "metadata": {},
   "source": [
    "- Spinbox，是一种Entry和Button的结合体，允许用户用鼠标单击up/down按钮，或是按上箭头/下箭头键达到在某一数值区间内增加数值与减少数值的目的。也可以直接输入数值。\n",
    "- Spinbox(父对象,options,...)\n",
    " - activebackground:鼠标光标在Spinbox控件上时的背景颜色\n",
    " - bg:背景颜色\n",
    " - borderwidth(bd):3D边界宽度，默认是两个像素\n",
    " - command:当用户更改选项时，会自动执行此函数\n",
    " - cursor:当鼠标光标在Spinbox控件上时的光标形状\n",
    " - disablebackground:在Disabled状态时的背景颜色\n",
    " - disableforeground:在Disabled状态时的前景颜色\n",
    " - fg:文字前景颜色\n",
    " - font:字形\n",
    " - format:格式化的字符串\n",
    " - from_:范围值的初值\n",
    " - increment:每次单击up/down按钮的增值或减值的量\n",
    " - justify:在有多行文本时最后一行的对齐方式，可取值有LEFT/CENTER/RIGHT（靠左/居中/靠右），默认是居中对齐\n",
    " - relief:默认是FLAT，可由此更改边界外观\n",
    " - repeatdelay:可设置单击up/down按钮变化数字的间隔时间，单位是ms，默认是300\n",
    " - state:若设为DISABLE则暂时无法使用此Spinbox，默认是NORMAL，也可以设为READONLY\n",
    " - textvariable:可以设置以变量方式显示\n",
    " - values:可以是元组或其他序列值\n",
    " - to:范围值的末端值\n",
    " - width:对于垂直Spinbox这是槽的宽度，对于水平Spinbox这是槽的高度\n",
    " - wrap:单击up/down按钮可以让数值重新开始\n",
    " - xscrollcommand:在x轴使用滚动条"
   ]
  },
  {
   "cell_type": "code",
   "execution_count": null,
   "metadata": {},
   "outputs": [],
   "source": [
    "root=Tk()\n",
    "root.title(\"ch9_6\")\n",
    "root.geometry(\"300x100\")\n",
    "spin=Spinbox(root,from_=10,to=30,increment=2)\n",
    "spin.pack(pady=20)\n",
    "root.mainloop()"
   ]
  },
  {
   "cell_type": "markdown",
   "metadata": {},
   "source": [
    "- get()方法，取得目前Spinbox的值"
   ]
  },
  {
   "cell_type": "code",
   "execution_count": null,
   "metadata": {},
   "outputs": [],
   "source": [
    "#设计数值区间0～10，每次更改数值1，每次单击up/down按钮时，可以在Python Shell窗口中列出目前显示的数值\n",
    "from tkinter import *\n",
    "def printInfo():                #打印显示的值\n",
    "    print(sp.get())\n",
    "    \n",
    "root=Tk()\n",
    "root.title(\"ch9_7\")\n",
    "\n",
    "sp=Spinbox(root,from_=0,to=10,command=printInfo)\n",
    "sp.pack(pady=10,padx=10)\n",
    "\n",
    "root.mainloop()"
   ]
  },
  {
   "cell_type": "markdown",
   "metadata": {},
   "source": [
    "- 使用Spinbox也可以不设置初值和终值，而是将数值存储在序列数据中，例如元组或列表内，当单击up/down按钮时，相当于是观察元组或列表内索引(index)内的值"
   ]
  },
  {
   "cell_type": "code",
   "execution_count": null,
   "metadata": {},
   "outputs": [],
   "source": [
    "#以元组存储数值数据，然后单击up/down按钮观察执行结果\n",
    "def printInfo():                          #打印显示的值\n",
    "    print(sp.get())\n",
    "    \n",
    "root=Tk()\n",
    "root.title(\"ch9_8\")\n",
    "\n",
    "sp=Spinbox(root,\n",
    "           values=(10,38,170,101),#以元组存储数值\n",
    "          command=printInfo)\n",
    "sp.pack(pady=10,padx=10)\n",
    "\n",
    "root.mainloop()"
   ]
  },
  {
   "cell_type": "markdown",
   "metadata": {},
   "source": [
    "- 应用在Spinbox内，可以是数值数据也可以是非数值数据，如字符串"
   ]
  },
  {
   "cell_type": "code",
   "execution_count": null,
   "metadata": {},
   "outputs": [],
   "source": [
    "#改用列表，同时数据类型是字符串\n",
    "from tkinter import *\n",
    "def printInfo():                        #打印显示的值\n",
    "    print(sp.get())\n",
    "    \n",
    "root=Tk()\n",
    "root.title(\"ch9_9\")\n",
    "cities=[\"新加坡\",\"上海\",\"东京\"]           #以列表存储数值\n",
    "\n",
    "sp=Spinbox(root,values=cities,command=printInfo)\n",
    "sp.pack(pady=10,padx=10)\n",
    "\n",
    "root.mainloop()"
   ]
  },
  {
   "cell_type": "code",
   "execution_count": null,
   "metadata": {},
   "outputs": [],
   "source": []
  }
 ],
 "metadata": {
  "kernelspec": {
   "display_name": "Python 3",
   "language": "python",
   "name": "python3"
  },
  "language_info": {
   "codemirror_mode": {
    "name": "ipython",
    "version": 3
   },
   "file_extension": ".py",
   "mimetype": "text/x-python",
   "name": "python",
   "nbconvert_exporter": "python",
   "pygments_lexer": "ipython3",
   "version": "3.7.4"
  }
 },
 "nbformat": 4,
 "nbformat_minor": 2
}
