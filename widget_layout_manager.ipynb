{
 "cells": [
  {
   "cell_type": "markdown",
   "metadata": {},
   "source": [
    "- Widget Layout Manager,三种方法均可用于包装和定位各组件在容器或窗口内的位置。\n",
    " - pack方法\n",
    " - grid方法\n",
    " - place方法"
   ]
  },
  {
   "cell_type": "markdown",
   "metadata": {},
   "source": [
    "- pack方法，pack(options,...)，options可以是side,fill,padx/pady,ipadx/ipady,anchor。\n",
    " - side参数可以垂直或水平配置控件\n",
    "   - TOP（默认），从上往下排列\n",
    "   - BOTTOM，从下往上\n",
    "   - LEFT，从左往右\n",
    "   - RIGHT，从右往左"
   ]
  },
  {
   "cell_type": "code",
   "execution_count": 2,
   "metadata": {},
   "outputs": [],
   "source": [
    "from tkinter import *\n",
    "window=Tk()\n",
    "window.title(\"ch3_1\")\n",
    "lab1=Label(window,text=\"明志科技大学\",bg=\"lightyellow\")\n",
    "lab2=Label(window,text=\"长庚大学\",bg=\"lightgreen\")\n",
    "lab3=Label(window,text=\"长庚科技大学\",bg=\"lightblue\")\n",
    "lab1.pack() #默认TOP\n",
    "lab2.pack() #默认TOP\n",
    "lab3.pack() #默认TOP\n",
    "window.mainloop()"
   ]
  },
  {
   "cell_type": "code",
   "execution_count": 5,
   "metadata": {},
   "outputs": [],
   "source": [
    "window=Tk()\n",
    "window.title(\"ch3_4\")\n",
    "lab1=Label(window,text=\"明志科技大学\",bg=\"lightyellow\")\n",
    "lab2=Label(window,text=\"长庚大学\",bg=\"lightgreen\")\n",
    "lab3=Label(window,text=\"长庚科技大学\",bg=\"lightblue\")\n",
    "lab1.pack(side=BOTTOM)\n",
    "lab2.pack(side=RIGHT)\n",
    "lab3.pack(side=LEFT)\n",
    "window.mainloop()"
   ]
  },
  {
   "cell_type": "code",
   "execution_count": 3,
   "metadata": {},
   "outputs": [],
   "source": [
    "Reliefs=[\"flat\",\"groove\",\"raised\",\"ridge\",\"solid\",\"sunken\"] # 这里用列表来存储所有relief，以供后续for循环使用\n",
    "root=Tk()\n",
    "root.title(\"ch3_5\")\n",
    "for Relief in Reliefs:\n",
    "    Label(root,text=Relief,relief=Relief,fg=\"blue\",font=\"Times 20 bold\").pack(side=LEFT,padx=20)\n",
    "root.mainloop()"
   ]
  },
  {
   "cell_type": "markdown",
   "metadata": {},
   "source": [
    "- padx/pady参数，用来设定控件边界与容器边界或与控件边界间的距离，padx设定水平间距，pady设定垂直间距。"
   ]
  },
  {
   "cell_type": "code",
   "execution_count": 7,
   "metadata": {},
   "outputs": [],
   "source": [
    "window=Tk()\n",
    "window.title(\"ch3_6\")\n",
    "lab1=Label(window,text=\"明志科技大学\",bg=\"lightyellow\")\n",
    "lab2=Label(window,text=\"长庚大学\",bg=\"lightgreen\")\n",
    "lab3=Label(window,text=\"长庚科技大学\",bg=\"lightblue\")\n",
    "lab1.pack(fill=X)\n",
    "lab2.pack(pady=10)\n",
    "lab3.pack(fill=X)\n",
    "window.mainloop()"
   ]
  },
  {
   "cell_type": "markdown",
   "metadata": {},
   "source": [
    "- ipadx/ipady参数，控制**标签文字**与**标签容器**的间距。"
   ]
  },
  {
   "cell_type": "code",
   "execution_count": 8,
   "metadata": {},
   "outputs": [],
   "source": [
    "window=Tk()\n",
    "window.title(\"ch3_11\")\n",
    "lab1=Label(window,text=\"明志科技大学\",bg=\"lightyellow\")\n",
    "lab2=Label(window,text=\"长庚大学\",bg=\"lightgreen\")\n",
    "lab3=Label(window,text=\"长庚科技大学\",bg=\"lightblue\")\n",
    "lab1.pack()\n",
    "lab2.pack(ipadx=10)\n",
    "lab3.pack(ipady=10)\n",
    "window.mainloop()"
   ]
  },
  {
   "cell_type": "markdown",
   "metadata": {},
   "source": [
    "- anchor参数，设置控件内容在控件区域的位置。参数有NW，N，NE，W，CENTER，E，SW，S，SE。"
   ]
  },
  {
   "cell_type": "code",
   "execution_count": 28,
   "metadata": {},
   "outputs": [],
   "source": [
    "root=Tk()\n",
    "root.title(\"ch3_12\")\n",
    "root.geometry(\"300x180\")\n",
    "oklabel=Label(root,text=\"OK\",font=\"Times 20 bold\",fg=\"white\",bg=\"blue\")\n",
    "oklabel.pack(anchor=SW,padx=50,pady=10)\n",
    "root.mainloop()"
   ]
  },
  {
   "cell_type": "markdown",
   "metadata": {},
   "source": [
    "- fill参数\n",
    " - fill=X，表示控件填满所分配空间的X轴\n",
    " - fill=Y，表示控件填满所分配空间的Y轴\n",
    " - fill=BOTH，表示控件填满所分配空间的X轴和Y轴\n",
    " - fill的默认值是NONE，保持原大小\n",
    " - **注意：当控件从左到右配置时，pack所配置的空间是Y轴的空间；当控件从上到下配置时，pack所配置的空间是X轴的空间。**"
   ]
  },
  {
   "cell_type": "code",
   "execution_count": 37,
   "metadata": {},
   "outputs": [],
   "source": [
    "window=Tk()\n",
    "window.title(\"ch3_14\")\n",
    "lab1=Label(window,text=\"明志科技大学\",bg=\"lightyellow\")\n",
    "lab2=Label(window,text=\"长庚大学\",bg=\"lightgreen\")\n",
    "lab3=Label(window,text=\"长庚科技大学\",bg=\"lightblue\")\n",
    "lab1.pack(side=RIGHT,fill=Y)\n",
    "lab2.pack()\n",
    "lab3.pack(fill=X)\n",
    "window.mainloop()"
   ]
  },
  {
   "cell_type": "markdown",
   "metadata": {},
   "source": [
    "- expand参数，设定控件是否填满额外的父容器空间，默认是False（或0），表示不填满；True（或1），表示填满。"
   ]
  },
  {
   "cell_type": "code",
   "execution_count": 3,
   "metadata": {},
   "outputs": [],
   "source": [
    "from tkinter import *\n",
    "window=Tk()\n",
    "window.title(\"ch3_14\")\n",
    "lab1=Label(window,text=\"明志科技大学\",bg=\"lightyellow\")\n",
    "lab2=Label(window,text=\"长庚大学\",bg=\"lightgreen\")\n",
    "lab3=Label(window,text=\"长庚科技大学\",bg=\"lightblue\")\n",
    "lab1.pack(side=LEFT,fill=Y)\n",
    "lab2.pack(fill=X)\n",
    "lab3.pack(fill=Y,expand=1)\n",
    "window.mainloop()"
   ]
  },
  {
   "cell_type": "code",
   "execution_count": 20,
   "metadata": {},
   "outputs": [],
   "source": [
    "root=Tk()\n",
    "root.title(\"ch3_21\")\n",
    "root.geometry(\"300x200\")\n",
    "Label(root,text=\"Mississippi\",bg=\"red\",fg=\"white\",font=\"Times 24 bold\").pack(side=RIGHT,fill=Y)\n",
    "Label(root,text=\"Kentucky\",bg=\"green\",fg=\"white\",font=\"Arial 24 bold italic\").pack(side=RIGHT,expand=1,fill=BOTH)\n",
    "Label(root,text=\"Purdue\",bg=\"blue\",fg=\"white\",font=\"Times 24 bold\").pack(side=RIGHT,fill=Y)\n",
    "root.mainloop()"
   ]
  },
  {
   "cell_type": "markdown",
   "metadata": {},
   "source": [
    "- pack方法\n",
    " - slaves()，传回所有Widget控件对象\n",
    " - info()，传回pack选项的对应值\n",
    " - forget()，隐藏Widget控件，可以用pack(option,...)复原显示\n",
    " - location(x,y)，传回此点是否在单元格，如果是传回坐标，如果不是传回(-1,-1)\n",
    " - size()，传回Widget控件大小\n",
    " - propagate(boolean)，参数是True表示父窗口大小由子控件决定，默认为True"
   ]
  },
  {
   "cell_type": "code",
   "execution_count": 14,
   "metadata": {},
   "outputs": [
    {
     "name": "stdout",
     "output_type": "stream",
     "text": [
      "执行前 []\n",
      "(0, 0)\n",
      "执行后 {'in': <tkinter.Tk object .>, 'anchor': 's', 'expand': 0, 'fill': 'none', 'ipadx': 0, 'ipady': 0, 'padx': 0, 'pady': 10, 'side': 'right'}\n"
     ]
    }
   ],
   "source": [
    "from tkinter import *\n",
    "root=Tk()\n",
    "root.title(\"ch3_23\")\n",
    "root.geometry(\"300x180\")\n",
    "print(\"执行前\",root.pack_slaves())\n",
    "oklabel=Label(root,text=\"OK\",font=\"Times 20 bold\",fg=\"white\",bg=\"blue\")\n",
    "oklabel.pack(anchor=S,side=RIGHT,pady=10)\n",
    "nolabel=Label(root,text=\"NO\",font=\"Times 20 bold\",fg=\"white\",bg=\"red\")\n",
    "nolabel.pack(anchor=S,side=RIGHT,pady=10)\n",
    "print(\"执行后\",oklabel.info())\n",
    "root.mainloop()"
   ]
  },
  {
   "cell_type": "markdown",
   "metadata": {},
   "source": [
    "- grid(options,...)，以格状或者类似Excel电子表格方式包装和定位窗口组件的方法。\n",
    " - row,column。将控件输出看作矩阵，row和column用来指定在矩阵中的位置。\n",
    " - columnspan。设定控件在column方向的合并数量。\n",
    " - rowspan。设定控件在row方向的合并数量。\n",
    " - padx/pady。增加控件间的间距。\n",
    " - sticky。位于相同column的控件，若宽度不同时，grid方法会保留最宽的控件作为基准，较短的控件会居中对齐。sticky参数可设定N/S/W/E，即上下左右对齐。\n",
    "   - sticky参数的可能值可以组合使用。如：\n",
    "   - sticky=N+S:拉长高度让控件在顶端和底端对齐\n",
    "   - sticky=W+E:拉长宽度让控件在左边和右边对齐\n",
    "   - sticky=N+S+E:拉长高度让控件与顶端和底端对齐，同时对齐右边\n",
    "   - sticky=N+S+W:拉长高度让控件与顶端和底端对齐，同时对齐左边\n",
    "   - sticky=N+S+W+E:拉长高度让控件与顶端和底端对齐，同时拉长宽度对齐左右端"
   ]
  },
  {
   "cell_type": "code",
   "execution_count": 16,
   "metadata": {},
   "outputs": [],
   "source": [
    "window=Tk()\n",
    "window.title(\"ch3_24\")\n",
    "#window.geometry(\"300x180+500+500\")\n",
    "lab1=Label(window,text=\"明志科技大学\",bg=\"lightyellow\",width=15)\n",
    "lab2=Label(window,text=\"长庚大学\",bg=\"lightgreen\",width=15)\n",
    "lab3=Label(window,text=\"长庚科技大学\",bg=\"lightblue\",width=15)\n",
    "lab1.grid(row=0,column=0)\n",
    "lab2.grid(row=1,column=1)\n",
    "lab3.grid(row=1,column=0)\n",
    "window.mainloop()"
   ]
  },
  {
   "cell_type": "code",
   "execution_count": 23,
   "metadata": {},
   "outputs": [],
   "source": [
    "window=Tk()\n",
    "window.title(\"ch3_26\")\n",
    "label=[\"lab1\",\"lab2\",'lab3','lab4','lab5','lab6','lab7','lab8']\n",
    "num=0\n",
    "for i in label:\n",
    "    Label(window,text=i,relief=\"raised\").grid(row=int(num/4),column=(num)%4)\n",
    "    num+=1\n",
    "window.mainloop()"
   ]
  },
  {
   "cell_type": "code",
   "execution_count": 28,
   "metadata": {},
   "outputs": [],
   "source": [
    "window=Tk()\n",
    "window.title(\"ch3_27\")\n",
    "lab1=Label(window,text=\"1\",relief=\"raised\")\n",
    "lab2=Label(window,text=\"2\",relief=\"raised\")\n",
    "lab3=Label(window,text=\"3\",relief=\"raised\")\n",
    "lab4=Label(window,text=\"4\",relief=\"raised\")\n",
    "lab5=Label(window,text=\"5\",relief=\"raised\")\n",
    "lab6=Label(window,text=\"6\",relief=\"raised\")\n",
    "lab7=Label(window,text=\"7\",relief=\"raised\")\n",
    "lab8=Label(window,text=\"8\",relief=\"raised\")\n",
    "lab1.grid(row=0,column=0,padx=5,pady=5)\n",
    "lab2.grid(row=0,column=1,padx=5,pady=5)\n",
    "lab3.grid(row=0,column=2,padx=5,pady=5)\n",
    "lab4.grid(row=0,column=3,padx=5,pady=5)\n",
    "lab5.grid(row=1,column=0,padx=5)\n",
    "lab6.grid(row=1,column=1,padx=5)\n",
    "lab7.grid(row=1,column=2,padx=5)\n",
    "lab8.grid(row=1,column=3,padx=5)\n",
    "window.mainloop()"
   ]
  },
  {
   "cell_type": "code",
   "execution_count": 37,
   "metadata": {},
   "outputs": [],
   "source": [
    "window=Tk()\n",
    "window.title(\"ch3_31\")\n",
    "lab1=Label(window,text=\"明志工专\",relief=\"raised\")\n",
    "lab2=Label(window,bg=\"yellow\",width=20)\n",
    "lab3=Label(window,text=\"明志科技大学\",relief=\"raised\")\n",
    "lab4=Label(window,bg=\"aqua\",width=20)\n",
    "lab1.grid(row=0,column=0,padx=5,pady=5,sticky=W+N+S+E)\n",
    "lab2.grid(row=0,column=1,padx=5,pady=5)\n",
    "lab3.grid(row=1,column=0,padx=5)\n",
    "lab4.grid(row=1,column=1,padx=5)\n",
    "window.mainloop()"
   ]
  },
  {
   "cell_type": "code",
   "execution_count": 40,
   "metadata": {},
   "outputs": [],
   "source": [
    "root=Tk()\n",
    "root.title(\"ch3_35\")\n",
    "Colors=[\"red\",\"orange\",\"yellow\",\"green\",\"blue\",\"purple\"]\n",
    "r=0\n",
    "for i in Colors:\n",
    "    Label(root,text=i,relief=\"solid\").grid(row=int(r/2),column=r%2,sticky=W+E)\n",
    "    r+=1\n",
    "    Label(root,bg=i,width=20).grid(row=int(r/2),column=r%2)\n",
    "    r+=1\n",
    "root.mainloop()"
   ]
  },
  {
   "cell_type": "code",
   "execution_count": 46,
   "metadata": {},
   "outputs": [],
   "source": [
    "root=Tk()\n",
    "root.title(\"ch3_35_1\")\n",
    "root.rowconfigure(1,weight=5)\n",
    "root.columnconfigure(0,weight=1)\n",
    "lab1=Label(root,text=\"Label 1\",bg=\"pink\")\n",
    "lab1.grid(row=0,column=0,padx=5,pady=5,sticky=W+E)\n",
    "lab2=Label(root,text=\"Label 2\",bg=\"lightblue\")\n",
    "lab2.grid(row=0,column=1,padx=5,pady=5)\n",
    "lab3=Label(root,bg=\"yellow\")\n",
    "lab3.grid(row=1,column=0,columnspan=2,padx=5,pady=5,sticky=N+S+W+E)\n",
    "root.mainloop()"
   ]
  },
  {
   "cell_type": "markdown",
   "metadata": {},
   "source": [
    "- place方法，place(options,...)，直接指定方式将控件放在容器中。\n",
    " - x/y，单位是像素，直接设定窗口组件的左上方位置。窗口显示区的左上角是（x=0,y=0），x是向右递增，y是向下递增。\n",
    " - width/height，直接设定控件的实体大小，单位是像素。\n",
    " - relx/rely，设置控件相对于父容器的位置，值为0.0~1.0。\n",
    " - relwidth/relheight，设置控件相对于父容器的大小，值为0.0~1.0。"
   ]
  },
  {
   "cell_type": "code",
   "execution_count": 47,
   "metadata": {},
   "outputs": [],
   "source": [
    "window=Tk()\n",
    "window.title(\"ch3_36\")\n",
    "lab1=Label(window,text=\"明志科技大学\",bg=\"lightyellow\",width=15)\n",
    "lab2=Label(window,text=\"长庚大学\",bg=\"lightgreen\",width=15)\n",
    "lab3=Label(window,text=\"长庚科技大学\",bg=\"lightblue\",width=15)\n",
    "lab1.place(x=0,y=0)\n",
    "lab2.place(x=30,y=50)\n",
    "lab3.place(x=570,y=230)\n",
    "window.mainloop()"
   ]
  },
  {
   "cell_type": "code",
   "execution_count": 48,
   "metadata": {},
   "outputs": [],
   "source": [
    "from PIL import ImageTk,Image\n",
    "root=Tk()\n",
    "root.title(\"ch3_37\")\n",
    "root.geometry(\"640x480\")\n",
    "test=PhotoImage(file=\"test.gif\")\n",
    "lab1=Label(root,image=test)\n",
    "lab1.place(x=20,y=30,width=200,height=120)\n",
    "h=Image.open(\"test2.jpeg\")\n",
    "test2=ImageTk.PhotoImage(h)\n",
    "lab2=Label(root,image=test2)\n",
    "lab2.place(x=200,y=200,width=400,height=240)\n",
    "root.mainloop()"
   ]
  },
  {
   "cell_type": "code",
   "execution_count": 62,
   "metadata": {},
   "outputs": [],
   "source": [
    "root=Tk()\n",
    "root.title(\"ch3_38\")\n",
    "root.geometry(\"640x480\")\n",
    "test=PhotoImage(file=\"test.gif\")\n",
    "label=Label(root,image=test)\n",
    "label.place(relx=0.1,rely=0.1,relwidth=0.8,relheight=0.8)\n",
    "root.mainloop()"
   ]
  }
 ],
 "metadata": {
  "kernelspec": {
   "display_name": "Python 3",
   "language": "python",
   "name": "python3"
  },
  "language_info": {
   "codemirror_mode": {
    "name": "ipython",
    "version": 3
   },
   "file_extension": ".py",
   "mimetype": "text/x-python",
   "name": "python",
   "nbconvert_exporter": "python",
   "pygments_lexer": "ipython3",
   "version": "3.7.4"
  }
 },
 "nbformat": 4,
 "nbformat_minor": 2
}
