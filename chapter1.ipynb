{
 "cells": [
  {
   "cell_type": "code",
   "execution_count": 8,
   "metadata": {},
   "outputs": [],
   "source": [
    "import tkinter"
   ]
  },
  {
   "cell_type": "code",
   "execution_count": 9,
   "metadata": {},
   "outputs": [
    {
     "name": "stdout",
     "output_type": "stream",
     "text": [
      "8.6\n"
     ]
    }
   ],
   "source": [
    "print(tkinter.TkVersion)"
   ]
  },
  {
   "cell_type": "code",
   "execution_count": 10,
   "metadata": {},
   "outputs": [],
   "source": [
    "root=Tk()\n",
    "root.mainloop()"
   ]
  },
  {
   "cell_type": "code",
   "execution_count": 11,
   "metadata": {},
   "outputs": [
    {
     "name": "stdout",
     "output_type": "stream",
     "text": [
      "8.6\n"
     ]
    }
   ],
   "source": [
    "print(tkinter.TkVersion)"
   ]
  },
  {
   "cell_type": "code",
   "execution_count": 12,
   "metadata": {},
   "outputs": [],
   "source": [
    "root=Tk()"
   ]
  },
  {
   "cell_type": "code",
   "execution_count": 13,
   "metadata": {},
   "outputs": [],
   "source": [
    "root.mainloop()"
   ]
  },
  {
   "cell_type": "markdown",
   "metadata": {},
   "source": [
    "- title(),设置窗口标题\n",
    "- geometry(\"width\\*height+x+y\"),设置窗口宽width和高height，单位是像素pixel,+x表示窗口左边距离屏幕左边的距离，+y表示窗口上边距离屏幕上边的距离，-x,-y则相反。\n",
    "- maxsize(width,height),拖拽时可设置窗口最大的宽与高\n",
    "- minsize(width,height),拖拽时可设置窗口最小的宽与高\n",
    "- configure(bg=\"color\"),设置窗口的背景颜色\n",
    "- resizable(True,True),可设置是否更改窗口大小，第一个参数是宽，第二个是高。若要固定，则用(0,0)\n",
    "- state(\"zoomed\"),最大化窗口\n",
    "- iconify(),最小化窗口\n",
    "- iconbitmap(\"xx.ico\"),更改默认窗口图标"
   ]
  },
  {
   "cell_type": "code",
   "execution_count": 14,
   "metadata": {},
   "outputs": [],
   "source": [
    "root=Tk()\n",
    "root.title(\"MyWindow\")\n",
    "root.geometry(\"300x300+300+300\")\n",
    "#root.maxsize(300,300)\n",
    "root.configure(bg=\"yellow\")\n",
    "root.configure(bg=\"#00ff00\")  #这里使用16进制数字设置颜色\n",
    "root.mainloop()"
   ]
  },
  {
   "cell_type": "code",
   "execution_count": 15,
   "metadata": {},
   "outputs": [],
   "source": [
    "root=Tk()\n",
    "root.geometry(\"%dx%d+%d+%d\" % (300,300,300,300))  #另一种设计geometry()方法。\n",
    "root.mainloop()"
   ]
  },
  {
   "cell_type": "markdown",
   "metadata": {},
   "source": [
    "- winfo_screenwidth(),获取屏幕宽度\n",
    "- winfo_screenheight(),获取屏幕高度"
   ]
  },
  {
   "cell_type": "code",
   "execution_count": 1,
   "metadata": {},
   "outputs": [],
   "source": [
    "from tkinter import *\n",
    "root=Tk()\n",
    "screenWidth=root.winfo_screenwidth()\n",
    "screenHeight=root.winfo_screenheight()\n",
    "w=300\n",
    "h=160\n",
    "x=(screenWidth-w)/2\n",
    "y=(screenHeight-h)/2\n",
    "root.geometry(\"%dx%d+%d+%d\" % (w,h,x,y))\n",
    "root.mainloop()"
   ]
  }
 ],
 "metadata": {
  "kernelspec": {
   "display_name": "Python 3",
   "language": "python",
   "name": "python3"
  },
  "language_info": {
   "codemirror_mode": {
    "name": "ipython",
    "version": 3
   },
   "file_extension": ".py",
   "mimetype": "text/x-python",
   "name": "python",
   "nbconvert_exporter": "python",
   "pygments_lexer": "ipython3",
   "version": "3.7.4"
  }
 },
 "nbformat": 4,
 "nbformat_minor": 2
}
