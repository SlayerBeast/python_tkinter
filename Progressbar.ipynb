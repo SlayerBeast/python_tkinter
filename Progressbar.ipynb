{
 "cells": [
  {
   "cell_type": "markdown",
   "metadata": {},
   "source": [
    "- Progressbar,进度条，主要是当作一个工作进度指针，在这个控件中会有一个指针，由此指针可以了解工作进度，如档案下载、档案解压缩等。用户可由这个工作进度指针确认系统仍在进行中，同时也可以了解目前进行到哪一个阶段。\n",
    "- Progressbar(父对象,options,...)\n",
    " - length:进度条的长度，默认是100像素\n",
    " - mode:2种模式\n",
    "   1. determinate:一个指针会从起点移至终点，通常当已知所需工作时间时，可用此模式。（默认模式）\n",
    "   2. indeterminate:一个指针会在起点和终点间来回移动，通常在不知道工作所需时间时，可用此模式\n",
    " - maximum:进度条的最大值，默认是100\n",
    " - name:进度条的名称，供程序参考引用\n",
    " - orient:进度条的方向，可以是HORIZONTAL（默认）或VERTICAL\n",
    " - value:进度条的目前值\n",
    " - variable:记录进度条目前的进度值"
   ]
  },
  {
   "cell_type": "code",
   "execution_count": 2,
   "metadata": {},
   "outputs": [],
   "source": [
    "#进度条最大值是100，列出目前值是50的界面。其中一个进度条大部分参数使用默认值，另一个则是使用自定义方式。\n",
    "\n",
    "from tkinter import *\n",
    "from tkinter.ttk import *\n",
    "\n",
    "root=Tk()\n",
    "root.title(\"ch15_1\")\n",
    "root.geometry(\"300x140\")\n",
    "\n",
    "#使用默认设置创建进度条\n",
    "pb1=Progressbar(root)\n",
    "pb1.pack(pady=20)\n",
    "pb1[\"maximum\"]=100\n",
    "pb1[\"value\"]=50\n",
    "\n",
    "#使用各参数自定义方式创建进度条\n",
    "pb2=Progressbar(root,orient=HORIZONTAL,length=200,mode=\"determinate\",maximum=100,value=50)\n",
    "pb2.pack(pady=20)\n",
    "#pb2[\"maximum\"]=100   #这里注意参数设置的两种方式\n",
    "#pb2[\"value\"]=50\n",
    "\n",
    "root.mainloop()"
   ]
  },
  {
   "cell_type": "markdown",
   "metadata": {},
   "source": [
    "- Progressbar动画设计\n",
    " - 要设计含动画效果的Progressbar，可以在每次更新Progressbar对象的value值时调用**update()**方法，窗口可以依据value值重绘。"
   ]
  },
  {
   "cell_type": "code",
   "execution_count": 23,
   "metadata": {},
   "outputs": [],
   "source": [
    "#设计带动画效果的Progressbar，最大值是100，从0开始，每隔0.05s移动一格\n",
    "\n",
    "import time\n",
    "\n",
    "def running():                         #开始Progressbar动画\n",
    "    for i in range(100):\n",
    "        pb[\"value\"]=i+1                #每次更新1\n",
    "        root.update()                  #更新画面\n",
    "        time.sleep(0.05)\n",
    "    \n",
    "root=Tk()\n",
    "root.title(\"ch15_2\")\n",
    "\n",
    "pb=Progressbar(root,length=200,mode=\"indeterminate\",orient=HORIZONTAL)\n",
    "pb.pack(pady=10,padx=10)\n",
    "pb[\"maximum\"]=100\n",
    "pb[\"value\"]=0\n",
    "\n",
    "btn=Button(root,text=\"Running\",command=running)\n",
    "btn.pack(pady=10)\n",
    "\n",
    "root.mainloop()"
   ]
  },
  {
   "cell_type": "code",
   "execution_count": 21,
   "metadata": {},
   "outputs": [],
   "source": [
    "#模拟下载Progressbar设计，假设下载总量是10000B，每次读取数据数量（下载量）是500B\n",
    "\n",
    "def load():                            #启动Progressbar\n",
    "    pb[\"value\"]=0                      #Progressbar初始值\n",
    "    pb[\"maximum\"]=maxbytes             #Progressbar最大值\n",
    "    loading()\n",
    "    \n",
    "def loading():                         #仿真下载数据\n",
    "    global bytes\n",
    "    bytes+=500                         #模拟每次下载500B\n",
    "    pb[\"value\"]=bytes                  #设置指针\n",
    "    if bytes<maxbytes:\n",
    "        pb.after(50,loading)           #经过0.05s继续执行loading\n",
    "    \n",
    "root=Tk()\n",
    "root.title(\"ch15_3\")\n",
    "bytes=0                                #设置初值\n",
    "maxbytes=10000                         #假设下载文件大小\n",
    "\n",
    "pb=Progressbar(root,length=200,mode=\"determinate\",orient=HORIZONTAL)\n",
    "pb.pack(padx=10,pady=10)\n",
    "pb[\"value\"]=0                          #Progressbar初始值\n",
    "\n",
    "btn=Button(root,text=\"Load\",command=load)\n",
    "btn.pack(pady=10)\n",
    "\n",
    "root.mainloop()"
   ]
  },
  {
   "cell_type": "markdown",
   "metadata": {},
   "source": [
    "- Progressbar的方法start()/step()/stop()\n",
    " - start(interval):每隔interval时间移动一次指针。interval的默认值是50ms，每次指针移动调用一次step(delta)。在step()方法内的delta参数的意义是增值量\n",
    " - step(delta):每次增加一次delta，默认值是1.0，在determinate模式，指针不会超过maximum参数值。在determinate模式**（？）**，当指针达到maximum参数值的前一格时，指针会回到起点\n",
    " - stop():停止start()的运行"
   ]
  },
  {
   "cell_type": "markdown",
   "metadata": {},
   "source": [
    "- **使用widget.cget(\"option\")或者widget\\[\"option\"\\]来获取参数内容。widget\\[\"option\"\\]实际上调用了cget方法。**"
   ]
  },
  {
   "cell_type": "code",
   "execution_count": 27,
   "metadata": {},
   "outputs": [],
   "source": [
    "#验证step(2)方法，当指针到达末端值100前一格时（即98），指针会回到0，然后重新开始移动。\n",
    "#该程序执行时同时在Python Shell窗口中会列出目前指针的值。\n",
    "\n",
    "from tkinter import *\n",
    "from tkinter.ttk import *\n",
    "import time\n",
    "\n",
    "def running():                         #开始Progressbar动画\n",
    "    while pb.cget(\"value\")<=pb[\"maximum\"]:\n",
    "        pb.step(2)\n",
    "        root.update()                  #更新画面\n",
    "        print(pb.cget(\"value\"))        #打印指针值\n",
    "        time.sleep(0.05)\n",
    "        \n",
    "root=Tk()\n",
    "root.title(\"ch15_4\")\n",
    "\n",
    "pb=Progressbar(root,length=200,mode=\"determinate\",orient=HORIZONTAL)\n",
    "pb.pack(padx=10,pady=10)\n",
    "pb[\"maximum\"]=100\n",
    "pb[\"value\"]=0\n",
    "\n",
    "btn=Button(root,text=\"Running\",command=running)\n",
    "btn.pack(pady=10)\n",
    "\n",
    "root.mainloop()"
   ]
  },
  {
   "cell_type": "code",
   "execution_count": 24,
   "metadata": {},
   "outputs": [],
   "source": [
    "#使用start()方法Progressbar的动画，当单击Stop按钮后才可中止此动画。\n",
    "\n",
    "from tkinter import *\n",
    "from tkinter.ttk import *\n",
    "\n",
    "def run():                         #开始Progressbar动画\n",
    "    pb.start()                     #指针每次移动1\n",
    "    \n",
    "def stop():                        #中止Progressbar动画\n",
    "    pb.stop()                      #中止pb对象动画\n",
    "    \n",
    "root=Tk()\n",
    "root.title(\"ch15_5\")\n",
    "\n",
    "pb=Progressbar(root,length=200,mode=\"determinate\",orient=HORIZONTAL)\n",
    "pb.pack(padx=5,pady=10)\n",
    "pb[\"maximum\"]=100\n",
    "pb[\"value\"]=0\n",
    "\n",
    "btnRun=Button(root,text=\"Run\",command=run)             #创建Run按钮\n",
    "btnRun.pack(side=LEFT,padx=5,pady=10)\n",
    "\n",
    "btnStop=Button(root,text=\"Stop\",command=stop)          #创建Stop按钮\n",
    "btnStop.pack(side=LEFT,padx=5,pady=10)\n",
    "\n",
    "root.mainloop()"
   ]
  },
  {
   "cell_type": "markdown",
   "metadata": {},
   "source": [
    "- indeterminate模式，在此模式下，指针将左右移动，主要目的是让用户知道程序仍在工作。"
   ]
  },
  {
   "cell_type": "code",
   "execution_count": 25,
   "metadata": {},
   "outputs": [],
   "source": [
    "#将模式设为indeterminate，\n",
    "#程序在执行时可以看到指针左右移动，若是单击Stop按钮可以中止指针移动。\n",
    "\n",
    "from tkinter import *\n",
    "from tkinter.ttk import *\n",
    "\n",
    "def run():                         #开始Progressbar动画\n",
    "    pb.start()                     #指针每次移动1\n",
    "    \n",
    "def stop():                        #中止Progressbar动画\n",
    "    pb.stop()                      #中止pb对象动画\n",
    "    \n",
    "root=Tk()\n",
    "root.title(\"ch15_5\")\n",
    "\n",
    "pb=Progressbar(root,length=200,mode=\"indeterminate\",orient=HORIZONTAL)\n",
    "pb.pack(padx=5,pady=10)\n",
    "pb[\"maximum\"]=100\n",
    "pb[\"value\"]=0\n",
    "\n",
    "btnRun=Button(root,text=\"Run\",command=run)             #创建Run按钮\n",
    "btnRun.pack(side=LEFT,padx=5,pady=10)\n",
    "\n",
    "btnStop=Button(root,text=\"Stop\",command=stop)          #创建Stop按钮\n",
    "btnStop.pack(side=LEFT,padx=5,pady=10)\n",
    "\n",
    "root.mainloop()"
   ]
  }
 ],
 "metadata": {
  "kernelspec": {
   "display_name": "Python 3",
   "language": "python",
   "name": "python3"
  },
  "language_info": {
   "codemirror_mode": {
    "name": "ipython",
    "version": 3
   },
   "file_extension": ".py",
   "mimetype": "text/x-python",
   "name": "python",
   "nbconvert_exporter": "python",
   "pygments_lexer": "ipython3",
   "version": "3.7.4"
  }
 },
 "nbformat": 4,
 "nbformat_minor": 2
}
