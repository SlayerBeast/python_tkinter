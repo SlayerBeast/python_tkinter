{
 "cells": [
  {
   "cell_type": "markdown",
   "metadata": {},
   "source": [
    "- Message，显示短消息，功能与Label类似，但更灵活，可自动分行\n",
    "- Messag(父对象,options)\n",
    " - anchor:如果空间大于所需时，控制消息的位置，默认是CENTER\n",
    " - aspect:控件宽度与高度比，默认是150%\n",
    " - background(bg):背景色彩\n",
    " - bitmap:使用默认位图当作Message内容\n",
    " - cursor:当鼠标光标在Message上方时的形状\n",
    " - foreground(fg):字形色彩\n",
    " - font:可选择字形、字形样式与大小\n",
    " - height:Message高度，单位是字符\n",
    " - image:Message以图像方式呈现\n",
    " - justify:在有多行文本时的对齐方式，取值为LEFT/CENTER/RIGHT（靠左/居中/靠右），默认是居中对齐\n",
    " - padx/pady:Message文字与边框的间距，单位是像素\n",
    " - relief:默认是relief=FLAT，可由此控制文字外框\n",
    " - text:Message内容，如果有\"\\n\"则可输入多行文字\n",
    " - textvariable:可以设置Message以变量方式显示\n",
    " - underline:可以设置第几个文字有下划线，从0开始算起，默认是-1，表示无下划线\n",
    " - width:Message宽度，单位是字符\n",
    " - wraplength:文本在多少宽度后换行，单位是像素"
   ]
  },
  {
   "cell_type": "code",
   "execution_count": 1,
   "metadata": {},
   "outputs": [],
   "source": [
    "from tkinter import *\n",
    "\n",
    "root=Tk()\n",
    "root.title(\"ch10_1\")\n",
    "\n",
    "myText=\"2016年12月，我一个人订了机票和船票，开始我的南极旅行\"\n",
    "msg=Message(root,bg=\"yellow\",text=myText,font=\"times 12 italic\")\n",
    "msg.pack(padx=10,pady=10)\n",
    "\n",
    "root.mainloop()"
   ]
  },
  {
   "cell_type": "code",
   "execution_count": 5,
   "metadata": {},
   "outputs": [],
   "source": [
    "#以字符串变量方式处理Message()内的text\n",
    "\n",
    "root=Tk()\n",
    "root.title(\"ch10_2\")\n",
    "\n",
    "var=StringVar()\n",
    "msg=Message(root,textvariable=var,relief=RAISED)\n",
    "var.set(\"2016年12月，我一个人订了机票和船票，开始我的南极旅行\")\n",
    "msg.pack(padx=10,pady=10)\n",
    "\n",
    "root.mainloop()"
   ]
  },
  {
   "cell_type": "markdown",
   "metadata": {},
   "source": [
    "- Messagebox模块，提供8个对话框，可应用在不同场合\n",
    " - showinfo(title,message,options):显示一般提示消息\n",
    " - showwarning(title,message,options):显示警告消息\n",
    " - showerror(title,message,options):显示错误消息\n",
    " - askquestion(title,message,options):显示询问消息。若单击“是”会传回yes；若单击“否”会传回no\n",
    " - askokcancel(title,message,options):显示确定或取消消息。若单击“确定”会传回True；若单击“取消”会传回False\n",
    " - askyesno(title,message,options):显示“是或否”消息。若单击“是”会传回True；若单击“否”会传回False\n",
    " - askyesnocancel(title,message,options):显示“是或否或取消”消息。若单击“是”会传回True；若单击“否”会传回False；若单击“取消”会传回None\n",
    " - askretrycancel(title,message,options):显示“重试或取消”消息。若单击“重试”会传回True；若单击“取消”会传回False\n",
    " - options参数\n",
    "   - default constant:默认按钮是OK（确定）、Yes（是）、Retry（重试）在前面，也可更改此设定\n",
    "   - icon(constant):可设定所显示的图标，有INFO,ERROR,QUESTION,WARNING4种图标可以设置\n",
    "   - parent(widget):指出当对话框关闭时，焦点窗口将返回此父窗口\n",
    " - **要使用以上对话框，需要在程序开头增加```from tkinter import messagebox```**"
   ]
  },
  {
   "cell_type": "code",
   "execution_count": 8,
   "metadata": {},
   "outputs": [],
   "source": [
    "#对话框设计的基本应用\"\n",
    "from tkinter import messagebox\n",
    "def myMsg():                             #单击Good Morning按钮时执行\n",
    "    messagebox.showinfo(\"My Message Box\",\"Python Tkinter早安\")\n",
    "    \n",
    "window=Tk()\n",
    "window.title(\"ch10_4\")\n",
    "window.geometry(\"300x160\")\n",
    "\n",
    "Button(window,text=\"Good Morning\",command=myMsg).pack()\n",
    "\n",
    "window.mainloop()"
   ]
  },
  {
   "cell_type": "code",
   "execution_count": 11,
   "metadata": {},
   "outputs": [
    {
     "name": "stdout",
     "output_type": "stream",
     "text": [
      "编辑完成 False\n",
      "编辑完成 None\n",
      "编辑完成 True\n",
      "安装失败 False\n",
      "安装失败 True\n"
     ]
    }
   ],
   "source": [
    "#设计两个按钮，当单击按钮时会弹出对话框，当用户有响应时，在Python Shell窗口中列出所响应的内容\n",
    "\n",
    "from tkinter import *\n",
    "from tkinter import messagebox\n",
    "\n",
    "def myMsg1():\n",
    "    ret=messagebox.askretrycancel(\"Test1\",\"安装失败，再试一次？\")\n",
    "    print(\"安装失败\",ret)\n",
    "def myMsg2():\n",
    "    ret=messagebox.askyesnocancel(\"Test2\",\"编辑完成，是或否或取消？\")\n",
    "    print(\"编辑完成\",ret)\n",
    "\n",
    "root=Tk()\n",
    "root.title(\"ch10_5\")\n",
    "\n",
    "Button(root,text=\"安装失败\",command=myMsg1).pack()\n",
    "Button(root,text=\"编辑完成\",command=myMsg2).pack()\n",
    "\n",
    "root.mainloop()"
   ]
  }
 ],
 "metadata": {
  "kernelspec": {
   "display_name": "Python 3",
   "language": "python",
   "name": "python3"
  },
  "language_info": {
   "codemirror_mode": {
    "name": "ipython",
    "version": 3
   },
   "file_extension": ".py",
   "mimetype": "text/x-python",
   "name": "python",
   "nbconvert_exporter": "python",
   "pygments_lexer": "ipython3",
   "version": "3.7.4"
  }
 },
 "nbformat": 4,
 "nbformat_minor": 2
}
