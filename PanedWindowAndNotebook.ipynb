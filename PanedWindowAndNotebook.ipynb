{
 "cells": [
  {
   "cell_type": "markdown",
   "metadata": {},
   "source": [
    "- PanedWindow面板，容器控件，可在此容器内建立任意数量的子控件，子控件是以水平方式或垂直方式排列。\n",
    "- PanedWindow(父对象,options,...)\n",
    " - background(bg):当鼠标光标不在此控件上时，若是有滚动条或方向盒时，滚动条或方向盒的背景色彩\n",
    " - bd:3D显示时的宽度，默认是2\n",
    " - borderwidth:边界线宽度，默认是2\n",
    " - cursor:当鼠标光标在标签上方时的形状\n",
    " - handlepad:面板显示宽度，默认是8\n",
    " - handlesize:面板显示大小，默认是8\n",
    " - height:没有默认高度\n",
    " - orient:面板配置方向默认是HORIZONTAL\n",
    " - relief:默认是relief=FLAT,可由此控制文字外框\n",
    " - sashcursor:分隔线光标，没有默认值\n",
    " - sashrelief:面板分隔线外框，默认是RAISED\n",
    " - showhandle:滑块属性，可设定是否显示，没有默认值\n",
    " - width:面板整体宽度，没有默认值"
   ]
  },
  {
   "cell_type": "markdown",
   "metadata": {},
   "source": [
    "- 插入子控件add(child,options)，可以插入子对象"
   ]
  },
  {
   "cell_type": "code",
   "execution_count": 2,
   "metadata": {},
   "outputs": [],
   "source": [
    "#在PanedWindow对象内插入两个标签子对象\n",
    "\n",
    "from tkinter import *\n",
    "pw=PanedWindow(orient=VERTICAL)                         #创建PanedWindow对象\n",
    "pw.pack(fill=BOTH,expand=True)\n",
    "\n",
    "top=Label(pw,text=\"Top Pane\")                           #创建标签Top Pane\n",
    "pw.add(top)                                             #top标签插入PanedWindow\n",
    "\n",
    "bottom=Label(pw,text=\"Bottom Pane\")                     #创建标签Bottom Pane\n",
    "pw.add(bottom)                                          #bottom标签插入PanedWindow\n",
    "\n",
    "pw.mainloop()"
   ]
  },
  {
   "cell_type": "markdown",
   "metadata": {},
   "source": [
    "- 建立LabelFrame当作子对象"
   ]
  },
  {
   "cell_type": "code",
   "execution_count": 9,
   "metadata": {},
   "outputs": [],
   "source": [
    "#设计三个LabelFrame对象当作PanedWindow的子对象，然后水平排列\n",
    "\n",
    "root=Tk()\n",
    "root.title(\"ch14_2\")\n",
    "\n",
    "pw=PanedWindow(orient=HORIZONTAL)#创建PanedWindow对象\n",
    "leftframe=LabelFrame(pw,text=\"Left Pane\",width=120,height=150)\n",
    "pw.add(leftframe)#插入左边LabelFrame\n",
    "middleframe=LabelFrame(pw,text=\"Middle Pane\",width=120)\n",
    "pw.add(middleframe)#插入中间LabelFrame\n",
    "rightframe=LabelFrame(pw,text=\"Right Pane\",width=120)\n",
    "pw.add(rightframe)#插入右边LabelFrame\n",
    "\n",
    "pw.pack(fill=BOTH,expand=True,padx=10,pady=10)\n",
    "\n",
    "root.mainloop()"
   ]
  },
  {
   "cell_type": "markdown",
   "metadata": {},
   "source": [
    "- 上例中，若鼠标拖动更改窗口宽度，将看到最右边的面板(Right Pane)放大或缩小，要使三块面板以同样比例放缩，可引入tkinter.ttk模块的weight参数。\n",
    " - 在tkinter.ttk模块中，若执行add(子对象,options)，在options字段可以增加weight参数，weight代表更改窗口宽度时每个Pane更改的比例。"
   ]
  },
  {
   "cell_type": "code",
   "execution_count": 12,
   "metadata": {},
   "outputs": [],
   "source": [
    "#重新设计上例。\n",
    "#在插入三个LabelFrame对象时增加weight=1.\n",
    "\n",
    "from tkinter.ttk import *\n",
    "\n",
    "root=Tk()\n",
    "root.title(\"ch14_3\")\n",
    "\n",
    "pw=PanedWindow(orient=HORIZONTAL)\n",
    "\n",
    "pw=PanedWindow(orient=HORIZONTAL)#创建PanedWindow对象\n",
    "leftframe=LabelFrame(pw,text=\"Left Pane\",width=120,height=150)\n",
    "pw.add(leftframe,weight=1)#插入左边LabelFrame\n",
    "middleframe=LabelFrame(pw,text=\"Middle Pane\",width=120)\n",
    "pw.add(middleframe,weight=1)#插入中间LabelFrame\n",
    "rightframe=LabelFrame(pw,text=\"Right Pane\",width=120)\n",
    "pw.add(rightframe,weight=1)#插入右边LabelFrame\n",
    "\n",
    "pw.pack(fill=BOTH,expand=True,padx=10,pady=10)\n",
    "\n",
    "root.mainloop()"
   ]
  },
  {
   "cell_type": "markdown",
   "metadata": {},
   "source": [
    "- 在PanedWindow内插入不同控件"
   ]
  },
  {
   "cell_type": "code",
   "execution_count": 15,
   "metadata": {},
   "outputs": [],
   "source": [
    "#先建立PanedWindow，对象名称是pw.\n",
    "#在它下面的左边建立Entry对象，对象名称是entry，\n",
    "#下面右边建立另一个PanedWindow对象，对象名称是pwin，\n",
    "#在pwin对象下面建立Scale对象。\n",
    "\n",
    "from tkinter import *\n",
    "\n",
    "pw=PanedWindow(orient=HORIZONTAL)#建立外层PanedWindow\n",
    "pw.pack(fill=BOTH,expand=True)\n",
    "\n",
    "entry=Entry(pw,bd=3)#创建entry\n",
    "pw.add(entry)#这是外层PanedWindow的子对象\n",
    "\n",
    "#创建PanedWindow对象pwin，这是外层PanedWindow的子对象\n",
    "pwin=PanedWindow(pw,orient=VERTICAL)\n",
    "pw.add(pwin)\n",
    "#创建Scale，这是pwin对象的子对象\n",
    "scale=Scale(pwin,orient=HORIZONTAL)\n",
    "pwin.add(scale)\n",
    "\n",
    "pw.mainloop()"
   ]
  },
  {
   "cell_type": "markdown",
   "metadata": {},
   "source": [
    "- Notebook,是tkinter.ttk模块的控件。是一个Widget容器控件，**特点是有许多选项卡，当选择不同选项卡时可以看到不同的子控件内容，也可以当作子窗口内容**.\n",
    "- Notebook(父对象,options)\n",
    " - height:默认是使用最大可能高度，如果设置数值则使用设置高度\n",
    " - padding:设置Notebook外围的额外空间，可以设置4个数值代表left,top,right,bottom四周的空间\n",
    " - width:默认是使用最大可能宽度，如果设置数值则使用设置宽度\n",
    "- 建立Notebook框架的步骤：\n",
    " 1. 用Notebook()建立Notebook对象，假设对象名称是notebook\n",
    " 2. 用notebook对象调用add()方法，```add(子对象,text=\"xxx\")   #xxx是要添加的选项卡名称```\n",
    " 3. 上述代码可以将子对象插入notebook，同时产生\"xxx\"选项卡名称\n",
    " 4. 正规add()方法格式为add(子对象,options)\n",
    "   - compound:可以设置当选项卡内同时含图像和文字时，彼此之间的位置关系\n",
    "   - image:选项卡以图像方式呈现\n",
    "   - padding:可以设置Notebook和面板Pane的额外空间\n",
    "   - state:可能值是normal,disabled,hidden，如果是disabled表示无法被选取使用，如果是hidden表示被隐藏\n",
    "   - sticky:指出子窗口面板的配置方式，n/s/e/w分别代表north/south/east/west\n",
    "   - text:选项卡中的字符串内容\n",
    "   - underline:从0开始计算的索引，指出第几个字母含下划线"
   ]
  },
  {
   "cell_type": "code",
   "execution_count": 16,
   "metadata": {},
   "outputs": [],
   "source": [
    "#建立Notebook的框架，该程序中各选项卡中的子对象是Frame对象\n",
    "\n",
    "root=Tk()\n",
    "root.title(\"ch14_6\")\n",
    "root.geometry(\"300x160\")\n",
    "\n",
    "notebook=Notebook(root)\n",
    "\n",
    "frame1=Frame()\n",
    "frame2=Frame()\n",
    "\n",
    "notebook.add(frame1,text=\"选项卡1\")\n",
    "notebook.add(frame2,text=\"选项卡2\")\n",
    "notebook.pack(padx=10,pady=10,fill=BOTH,expand=True)\n",
    "\n",
    "root.mainloop()"
   ]
  },
  {
   "cell_type": "markdown",
   "metadata": {},
   "source": [
    "- 绑定选项卡与子控件内容，在选项卡内建立子控件内容"
   ]
  },
  {
   "cell_type": "code",
   "execution_count": 17,
   "metadata": {},
   "outputs": [],
   "source": [
    "#扩充设计上例\n",
    "#在选项卡1中增加内容是\"Python\"的标签子对象\n",
    "#在选项卡2中增加名称是\"Help\"的功能按钮子对象\n",
    "\n",
    "from tkinter import messagebox\n",
    "def msg():\n",
    "    messagebox.showinfo(\"Notebook\",\"欢迎使用Notebook\")\n",
    "    \n",
    "root=Tk()\n",
    "root.title(\"ch14_7\")\n",
    "root.geometry(\"300x160\")\n",
    "\n",
    "notebook=Notebook(root)\n",
    "\n",
    "frame1=Frame()                  #创建Frame1\n",
    "frame2=Frame()                  #创建Frame2\n",
    "\n",
    "label=Label(frame1,text=\"Python\") #在Frame1中创建标签控件\n",
    "label.pack(padx=10,pady=10)\n",
    "btn=Button(frame2,text=\"Help\",command=msg) #在Frame2选项卡创建按钮控件\n",
    "btn.pack(padx=10,pady=10)\n",
    "\n",
    "notebook.add(frame1,text=\"页次1\")#创建选项卡1同时插入Frame1\n",
    "notebook.add(frame2,text=\"页次2\")#创建选项卡2同时插入Frame2\n",
    "notebook.pack(padx=10,pady=10,fill=BOTH,expand=True)\n",
    "\n",
    "root.mainloop()"
   ]
  }
 ],
 "metadata": {
  "kernelspec": {
   "display_name": "Python 3",
   "language": "python",
   "name": "python3"
  },
  "language_info": {
   "codemirror_mode": {
    "name": "ipython",
    "version": 3
   },
   "file_extension": ".py",
   "mimetype": "text/x-python",
   "name": "python",
   "nbconvert_exporter": "python",
   "pygments_lexer": "ipython3",
   "version": "3.7.4"
  }
 },
 "nbformat": 4,
 "nbformat_minor": 2
}
